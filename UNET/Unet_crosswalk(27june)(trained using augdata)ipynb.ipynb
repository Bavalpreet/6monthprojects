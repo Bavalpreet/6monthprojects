{
  "nbformat": 4,
  "nbformat_minor": 0,
  "metadata": {
    "colab": {
      "name": "Unet_crosswalk(27june)ipynb",
      "provenance": []
    },
    "kernelspec": {
      "name": "python3",
      "display_name": "Python 3"
    },
    "accelerator": "GPU"
  },
  "cells": [
    {
      "cell_type": "code",
      "metadata": {
        "id": "vDUhoYuQv0j2",
        "colab_type": "code",
        "colab": {
          "base_uri": "https://localhost:8080/",
          "height": 34
        },
        "outputId": "78d46074-cba0-4303-9e5f-7d5dc1ba029d"
      },
      "source": [
        "from google.colab import drive\n",
        "drive.mount('/content/drive')"
      ],
      "execution_count": null,
      "outputs": [
        {
          "output_type": "stream",
          "text": [
            "Drive already mounted at /content/drive; to attempt to forcibly remount, call drive.mount(\"/content/drive\", force_remount=True).\n"
          ],
          "name": "stdout"
        }
      ]
    },
    {
      "cell_type": "code",
      "metadata": {
        "id": "v6hgchjhplN4",
        "colab_type": "code",
        "colab": {}
      },
      "source": [
        "import tensorflow as tf\n"
      ],
      "execution_count": null,
      "outputs": []
    },
    {
      "cell_type": "code",
      "metadata": {
        "id": "kdK2cJNrqOg5",
        "colab_type": "code",
        "colab": {}
      },
      "source": [
        "import os\n",
        "import numpy as np"
      ],
      "execution_count": null,
      "outputs": []
    },
    {
      "cell_type": "code",
      "metadata": {
        "id": "ud9IMJ4dqUVV",
        "colab_type": "code",
        "colab": {}
      },
      "source": [
        " TRAIN_PATH= '/content/drive/My Drive/5_corridors_train_val_data/train-20200530T092227Z-001/unet_input_pro/'\n",
        " #TEST_PATH= '/content/drive/My Drive/test_final_traffic/'"
      ],
      "execution_count": null,
      "outputs": []
    },
    {
      "cell_type": "code",
      "metadata": {
        "id": "BewfVRw6qXpH",
        "colab_type": "code",
        "colab": {}
      },
      "source": [
        " train_ids = next(os.walk(TRAIN_PATH))[1]\n",
        " #test_ids = next(os.walk(TEST_PATH))[1]"
      ],
      "execution_count": null,
      "outputs": []
    },
    {
      "cell_type": "code",
      "metadata": {
        "id": "I988hBJeqpKg",
        "colab_type": "code",
        "colab": {
          "base_uri": "https://localhost:8080/",
          "height": 34
        },
        "outputId": "2968e056-8ee2-44c8-b434-ab0f73339edf"
      },
      "source": [
        "len(train_ids)"
      ],
      "execution_count": null,
      "outputs": [
        {
          "output_type": "execute_result",
          "data": {
            "text/plain": [
              "317"
            ]
          },
          "metadata": {
            "tags": []
          },
          "execution_count": 61
        }
      ]
    },
    {
      "cell_type": "code",
      "metadata": {
        "id": "DlbFmNFd2nNz",
        "colab_type": "code",
        "colab": {}
      },
      "source": [
        "# train_ids.remove('.ipynb_checkpoints')\n",
        "# train_ids"
      ],
      "execution_count": null,
      "outputs": []
    },
    {
      "cell_type": "code",
      "metadata": {
        "id": "pt3MyKcuqtPg",
        "colab_type": "code",
        "colab": {}
      },
      "source": [
        "import numpy as np\n",
        "import random\n",
        "from tqdm import tqdm\n",
        "from skimage.io import imread,imshow\n",
        "from skimage.transform import resize\n",
        "import matplotlib.pyplot as plt\n"
      ],
      "execution_count": null,
      "outputs": []
    },
    {
      "cell_type": "code",
      "metadata": {
        "id": "XV4BV17gqv6S",
        "colab_type": "code",
        "colab": {}
      },
      "source": [
        "IMG_HEIGHT=128\n",
        "IMG_WIDTH=128\n",
        "IMG_CHANNELS=3"
      ],
      "execution_count": null,
      "outputs": []
    },
    {
      "cell_type": "code",
      "metadata": {
        "id": "nEdJLkeYqy7O",
        "colab_type": "code",
        "colab": {}
      },
      "source": [
        "X_train = np.zeros((len(train_ids)*11, IMG_HEIGHT,IMG_WIDTH,IMG_CHANNELS),dtype=np.uint8)\n",
        "Y_train = np.zeros((len(train_ids)*11,IMG_HEIGHT,IMG_WIDTH,1),dtype=np.bool)\n"
      ],
      "execution_count": null,
      "outputs": []
    },
    {
      "cell_type": "code",
      "metadata": {
        "id": "Usy9tX7zq1RQ",
        "colab_type": "code",
        "colab": {
          "base_uri": "https://localhost:8080/",
          "height": 51
        },
        "outputId": "c95b93a8-5db3-46a6-fc8c-866922b299f7"
      },
      "source": [
        "print(X_train.shape)\n",
        "print(Y_train.shape)\n"
      ],
      "execution_count": null,
      "outputs": [
        {
          "output_type": "stream",
          "text": [
            "(3487, 128, 128, 3)\n",
            "(3487, 128, 128, 1)\n"
          ],
          "name": "stdout"
        }
      ]
    },
    {
      "cell_type": "code",
      "metadata": {
        "id": "vQs0GUGu3WDH",
        "colab_type": "code",
        "colab": {
          "base_uri": "https://localhost:8080/",
          "height": 88
        },
        "outputId": "dded61a0-55d9-446e-a074-fba75688704d"
      },
      "source": [
        "for root,dirs,filenames in os.walk('/content/drive/My Drive/5_corridors_train_val_data/train-20200530T092227Z-001/unet_input_pro/2_Ave_13/aug'):\n",
        "  print(filenames)\n",
        "img_list=[]\n",
        "mask_list=[]\n",
        "for item in filenames:\n",
        "  if item[0]=='i':\n",
        "    img_list.append(item)\n",
        "  else:\n",
        "    mask_list.append(item)\n",
        "print(len(img_list))\n",
        "print(len(mask_list))"
      ],
      "execution_count": null,
      "outputs": [
        {
          "output_type": "stream",
          "text": [
            "['image_0_2946167.png', 'mask_0_3439903.png', 'image_0_3439903.png', 'mask_0_2946167.png', 'image_0_9604486.png', 'mask_0_9604486.png', 'image_0_3585337.png', 'mask_0_3585337.png', 'image_0_950159.png', 'mask_0_950159.png', 'image_0_6123244.png', 'mask_0_6123244.png', 'image_0_1225608.png', 'image_0_4272795.png', 'mask_0_4272795.png', 'mask_0_1225608.png', 'image_0_8711928.png', 'mask_0_8711928.png', 'image_0_1719712.png', 'mask_0_4905216.png', 'image_0_4905216.png', 'mask_0_1719712.png']\n",
            "11\n",
            "11\n"
          ],
          "name": "stdout"
        }
      ]
    },
    {
      "cell_type": "code",
      "metadata": {
        "id": "OzmJFIqU3ODH",
        "colab_type": "code",
        "colab": {}
      },
      "source": [
        "\n",
        "#resize for training\n",
        "n=0\n",
        "k=0\n",
        "for id_ in train_ids:\n",
        "  path = TRAIN_PATH + id_\n",
        "  for image_name in img_list:\n",
        "    img = imread(path + '/aug/' +image_name)[:,:,:IMG_CHANNELS]\n",
        "    img = resize(img,(IMG_HEIGHT, IMG_WIDTH), mode='constant',preserve_range=True)\n",
        "    X_train[n] = img\n",
        "    n=n+1\n",
        "  \n",
        "  for mask_file in mask_list:\n",
        "    mask = np.zeros((IMG_HEIGHT,IMG_WIDTH,1),dtype=np.bool)\n",
        "    mask_= imread(path + '/aug/' + mask_file)\n",
        "    mask_ = np.expand_dims(resize(mask_,(IMG_HEIGHT,IMG_WIDTH),mode='constant',preserve_range=True),axis=-1)\n",
        "    mask = np.maximum(mask,mask_)\n",
        "    Y_train[k] = mask\n",
        "    k=k+1"
      ],
      "execution_count": null,
      "outputs": []
    },
    {
      "cell_type": "code",
      "metadata": {
        "id": "OB-iQEHSq9cX",
        "colab_type": "code",
        "colab": {
          "base_uri": "https://localhost:8080/",
          "height": 577
        },
        "outputId": "597c52bf-74fd-40bf-e3cb-2555042738a4"
      },
      "source": [
        "image_x = random.randint(0,len(train_ids))\n",
        "imshow(X_train[image_x])\n",
        "plt.show()\n",
        "imshow(np.squeeze(Y_train[image_x]))\n",
        "plt.show()"
      ],
      "execution_count": null,
      "outputs": [
        {
          "output_type": "display_data",
          "data": {
            "image/png": "[encoded data removed]",
            "text/plain": [
              "<Figure size 432x288 with 1 Axes>"
            ]
          },
          "metadata": {
            "tags": [],
            "needs_background": "light"
          }
        },
        {
          "output_type": "display_data",
          "data": {
            "image/png": "[encoded data removed]",
            "text/plain": [
              "<Figure size 432x288 with 1 Axes>"
            ]
          },
          "metadata": {
            "tags": [],
            "needs_background": "light"
          }
        }
      ]
    },
    {
      "cell_type": "code",
      "metadata": {
        "id": "uHYm_xO_sAmM",
        "colab_type": "code",
        "colab": {}
      },
      "source": [
        "inputs= tf.keras.layers.Input((IMG_WIDTH,IMG_HEIGHT,IMG_CHANNELS))"
      ],
      "execution_count": null,
      "outputs": []
    },
    {
      "cell_type": "code",
      "metadata": {
        "id": "nzsmC0GmsEOY",
        "colab_type": "code",
        "colab": {}
      },
      "source": [
        "s=tf.keras.layers.Lambda(lambda x:x / 255)(inputs)"
      ],
      "execution_count": null,
      "outputs": []
    },
    {
      "cell_type": "code",
      "metadata": {
        "id": "4BJsp4J8sGrA",
        "colab_type": "code",
        "colab": {}
      },
      "source": [
        "c1=tf.keras.layers.Conv2D(16,(3,3),activation='relu',kernel_initializer='he_normal',padding='same')(s)"
      ],
      "execution_count": null,
      "outputs": []
    },
    {
      "cell_type": "code",
      "metadata": {
        "id": "-MHP4CL6rVG5",
        "colab_type": "code",
        "colab": {}
      },
      "source": [
        "c1=tf.keras.layers.Dropout(0.1)(c1)"
      ],
      "execution_count": null,
      "outputs": []
    },
    {
      "cell_type": "code",
      "metadata": {
        "id": "QSX_6p7jrYPI",
        "colab_type": "code",
        "colab": {}
      },
      "source": [
        "c1=tf.keras.layers.Conv2D(16,(3,3),activation='relu',kernel_initializer='he_normal',padding='same')(c1)"
      ],
      "execution_count": null,
      "outputs": []
    },
    {
      "cell_type": "code",
      "metadata": {
        "id": "ltyZNTPuraj6",
        "colab_type": "code",
        "colab": {}
      },
      "source": [
        "p1= tf.keras.layers.MaxPooling2D((2,2))(c1)"
      ],
      "execution_count": null,
      "outputs": []
    },
    {
      "cell_type": "code",
      "metadata": {
        "id": "XRUoNgyarfCP",
        "colab_type": "code",
        "colab": {}
      },
      "source": [
        "c2=tf.keras.layers.Conv2D(32,(3,3),activation='relu',kernel_initializer='he_normal',padding='same')(p1)\n",
        "c2=tf.keras.layers.Dropout(0.1)(c2)\n",
        "c2=tf.keras.layers.Conv2D(32,(3,3),activation='relu',kernel_initializer='he_normal',padding='same')(c2)\n",
        "p2= tf.keras.layers.MaxPooling2D((2,2))(c2)"
      ],
      "execution_count": null,
      "outputs": []
    },
    {
      "cell_type": "code",
      "metadata": {
        "id": "THcy7vXfrhPn",
        "colab_type": "code",
        "colab": {}
      },
      "source": [
        "c3=tf.keras.layers.Conv2D(64,(3,3),activation='relu',kernel_initializer='he_normal',padding='same')(p2)\n",
        "c3=tf.keras.layers.Dropout(0.2)(c3)\n",
        "c3=tf.keras.layers.Conv2D(64,(3,3),activation='relu',kernel_initializer='he_normal',padding='same')(c3)\n",
        "p3= tf.keras.layers.MaxPooling2D((2,2))(c3)"
      ],
      "execution_count": null,
      "outputs": []
    },
    {
      "cell_type": "code",
      "metadata": {
        "id": "ZKXhLZEhrhwr",
        "colab_type": "code",
        "colab": {}
      },
      "source": [
        "c4=tf.keras.layers.Conv2D(128,(3,3),activation='relu',kernel_initializer='he_normal',padding='same')(p3)\n",
        "c4=tf.keras.layers.Dropout(0.2)(c4)\n",
        "c4=tf.keras.layers.Conv2D(128,(3,3),activation='relu',kernel_initializer='he_normal',padding='same')(c4)\n",
        "p4= tf.keras.layers.MaxPooling2D((2,2))(c4)"
      ],
      "execution_count": null,
      "outputs": []
    },
    {
      "cell_type": "code",
      "metadata": {
        "id": "b5p7d75Yrj_t",
        "colab_type": "code",
        "colab": {}
      },
      "source": [
        "c5=tf.keras.layers.Conv2D(256,(3,3),activation='relu',kernel_initializer='he_normal',padding='same')(p4)\n",
        "c5=tf.keras.layers.Dropout(0.3)(c5)\n",
        "c5=tf.keras.layers.Conv2D(256,(3,3),activation='relu',kernel_initializer='he_normal',padding='same')(c5)"
      ],
      "execution_count": null,
      "outputs": []
    },
    {
      "cell_type": "code",
      "metadata": {
        "id": "yLslXS9qrnrN",
        "colab_type": "code",
        "colab": {}
      },
      "source": [
        "#Expansive path\n",
        "u6 = tf.keras.layers.Conv2DTranspose(128,(2,2),strides=(2,2),padding='same')(c5)\n",
        "u6 = tf.keras.layers.concatenate([u6, c4])\n",
        "c6 = tf.keras.layers.Conv2D(128,(3,3),activation='relu', kernel_initializer='he_normal',padding='same')(u6)\n",
        "c6 = tf.keras.layers.Dropout(0.2)(c6)\n",
        "c6 = tf.keras.layers.Conv2D(128,(3,3),activation='relu', kernel_initializer='he_normal',padding='same')(c6) "
      ],
      "execution_count": null,
      "outputs": []
    },
    {
      "cell_type": "code",
      "metadata": {
        "id": "U6BanbdCro-3",
        "colab_type": "code",
        "colab": {}
      },
      "source": [
        "u7 = tf.keras.layers.Conv2DTranspose(64,(2,2),strides=(2,2),padding='same')(c6)\n",
        "u7 = tf.keras.layers.concatenate([u7, c3])\n",
        "c7 = tf.keras.layers.Conv2D(64,(3,3),activation='relu', kernel_initializer='he_normal',padding='same')(u7)\n",
        "c7 = tf.keras.layers.Dropout(0.2)(c7)\n",
        "c7 = tf.keras.layers.Conv2D(64,(3,3),activation='relu', kernel_initializer='he_normal',padding='same')(c7) "
      ],
      "execution_count": null,
      "outputs": []
    },
    {
      "cell_type": "code",
      "metadata": {
        "id": "xqOLoIPUrrHG",
        "colab_type": "code",
        "colab": {}
      },
      "source": [
        "u8 = tf.keras.layers.Conv2DTranspose(32,(2,2),strides=(2,2),padding='same')(c7)\n",
        "u8 = tf.keras.layers.concatenate([u8, c2])\n",
        "c8 = tf.keras.layers.Conv2D(32,(3,3),activation='relu', kernel_initializer='he_normal',padding='same')(u8)\n",
        "c8 = tf.keras.layers.Dropout(0.1)(c8)\n",
        "c8 = tf.keras.layers.Conv2D(32,(3,3),activation='relu', kernel_initializer='he_normal',padding='same')(c8) "
      ],
      "execution_count": null,
      "outputs": []
    },
    {
      "cell_type": "code",
      "metadata": {
        "id": "kFRC3v4_rtZB",
        "colab_type": "code",
        "colab": {}
      },
      "source": [
        "u9 = tf.keras.layers.Conv2DTranspose(16,(2,2),strides=(2,2),padding='same')(c8)\n",
        "u9 = tf.keras.layers.concatenate([u9, c1])\n",
        "c9 = tf.keras.layers.Conv2D(16,(3,3),activation='relu', kernel_initializer='he_normal',padding='same')(u9)\n",
        "c9 = tf.keras.layers.Dropout(0.1)(c9)\n",
        "c9 = tf.keras.layers.Conv2D(16,(3,3),activation='relu', kernel_initializer='he_normal',padding='same')(c9) "
      ],
      "execution_count": null,
      "outputs": []
    },
    {
      "cell_type": "code",
      "metadata": {
        "id": "2hdB3T4nrvkU",
        "colab_type": "code",
        "colab": {}
      },
      "source": [
        "outputs = tf.keras.layers.Conv2D(1,(1,1),activation='sigmoid')(c9)"
      ],
      "execution_count": null,
      "outputs": []
    },
    {
      "cell_type": "code",
      "metadata": {
        "id": "oQBqW3hDryVF",
        "colab_type": "code",
        "colab": {
          "base_uri": "https://localhost:8080/",
          "height": 1000
        },
        "outputId": "8f682b72-a501-4a8d-a750-8902eec989ef"
      },
      "source": [
        "model = tf.keras.Model(inputs=[inputs],outputs=[outputs])\n",
        "model.compile(optimizer='adam',loss='binary_crossentropy',metrics=['accuracy'])\n",
        "model.summary()"
      ],
      "execution_count": null,
      "outputs": [
        {
          "output_type": "stream",
          "text": [
            "Model: \"model_1\"\n",
            "__________________________________________________________________________________________________\n",
            "Layer (type)                    Output Shape         Param #     Connected to                     \n",
            "==================================================================================================\n",
            "input_2 (InputLayer)            [(None, 128, 128, 3) 0                                            \n",
            "__________________________________________________________________________________________________\n",
            "lambda_1 (Lambda)               (None, 128, 128, 3)  0           input_2[0][0]                    \n",
            "__________________________________________________________________________________________________\n",
            "conv2d_19 (Conv2D)              (None, 128, 128, 16) 448         lambda_1[0][0]                   \n",
            "__________________________________________________________________________________________________\n",
            "dropout_9 (Dropout)             (None, 128, 128, 16) 0           conv2d_19[0][0]                  \n",
            "__________________________________________________________________________________________________\n",
            "conv2d_20 (Conv2D)              (None, 128, 128, 16) 2320        dropout_9[0][0]                  \n",
            "__________________________________________________________________________________________________\n",
            "max_pooling2d_4 (MaxPooling2D)  (None, 64, 64, 16)   0           conv2d_20[0][0]                  \n",
            "__________________________________________________________________________________________________\n",
            "conv2d_21 (Conv2D)              (None, 64, 64, 32)   4640        max_pooling2d_4[0][0]            \n",
            "__________________________________________________________________________________________________\n",
            "dropout_10 (Dropout)            (None, 64, 64, 32)   0           conv2d_21[0][0]                  \n",
            "__________________________________________________________________________________________________\n",
            "conv2d_22 (Conv2D)              (None, 64, 64, 32)   9248        dropout_10[0][0]                 \n",
            "__________________________________________________________________________________________________\n",
            "max_pooling2d_5 (MaxPooling2D)  (None, 32, 32, 32)   0           conv2d_22[0][0]                  \n",
            "__________________________________________________________________________________________________\n",
            "conv2d_23 (Conv2D)              (None, 32, 32, 64)   18496       max_pooling2d_5[0][0]            \n",
            "__________________________________________________________________________________________________\n",
            "dropout_11 (Dropout)            (None, 32, 32, 64)   0           conv2d_23[0][0]                  \n",
            "__________________________________________________________________________________________________\n",
            "conv2d_24 (Conv2D)              (None, 32, 32, 64)   36928       dropout_11[0][0]                 \n",
            "__________________________________________________________________________________________________\n",
            "max_pooling2d_6 (MaxPooling2D)  (None, 16, 16, 64)   0           conv2d_24[0][0]                  \n",
            "__________________________________________________________________________________________________\n",
            "conv2d_25 (Conv2D)              (None, 16, 16, 128)  73856       max_pooling2d_6[0][0]            \n",
            "__________________________________________________________________________________________________\n",
            "dropout_12 (Dropout)            (None, 16, 16, 128)  0           conv2d_25[0][0]                  \n",
            "__________________________________________________________________________________________________\n",
            "conv2d_26 (Conv2D)              (None, 16, 16, 128)  147584      dropout_12[0][0]                 \n",
            "__________________________________________________________________________________________________\n",
            "max_pooling2d_7 (MaxPooling2D)  (None, 8, 8, 128)    0           conv2d_26[0][0]                  \n",
            "__________________________________________________________________________________________________\n",
            "conv2d_27 (Conv2D)              (None, 8, 8, 256)    295168      max_pooling2d_7[0][0]            \n",
            "__________________________________________________________________________________________________\n",
            "dropout_13 (Dropout)            (None, 8, 8, 256)    0           conv2d_27[0][0]                  \n",
            "__________________________________________________________________________________________________\n",
            "conv2d_28 (Conv2D)              (None, 8, 8, 256)    590080      dropout_13[0][0]                 \n",
            "__________________________________________________________________________________________________\n",
            "conv2d_transpose_4 (Conv2DTrans (None, 16, 16, 128)  131200      conv2d_28[0][0]                  \n",
            "__________________________________________________________________________________________________\n",
            "concatenate_4 (Concatenate)     (None, 16, 16, 256)  0           conv2d_transpose_4[0][0]         \n",
            "                                                                 conv2d_26[0][0]                  \n",
            "__________________________________________________________________________________________________\n",
            "conv2d_29 (Conv2D)              (None, 16, 16, 128)  295040      concatenate_4[0][0]              \n",
            "__________________________________________________________________________________________________\n",
            "dropout_14 (Dropout)            (None, 16, 16, 128)  0           conv2d_29[0][0]                  \n",
            "__________________________________________________________________________________________________\n",
            "conv2d_30 (Conv2D)              (None, 16, 16, 128)  147584      dropout_14[0][0]                 \n",
            "__________________________________________________________________________________________________\n",
            "conv2d_transpose_5 (Conv2DTrans (None, 32, 32, 64)   32832       conv2d_30[0][0]                  \n",
            "__________________________________________________________________________________________________\n",
            "concatenate_5 (Concatenate)     (None, 32, 32, 128)  0           conv2d_transpose_5[0][0]         \n",
            "                                                                 conv2d_24[0][0]                  \n",
            "__________________________________________________________________________________________________\n",
            "conv2d_31 (Conv2D)              (None, 32, 32, 64)   73792       concatenate_5[0][0]              \n",
            "__________________________________________________________________________________________________\n",
            "dropout_15 (Dropout)            (None, 32, 32, 64)   0           conv2d_31[0][0]                  \n",
            "__________________________________________________________________________________________________\n",
            "conv2d_32 (Conv2D)              (None, 32, 32, 64)   36928       dropout_15[0][0]                 \n",
            "__________________________________________________________________________________________________\n",
            "conv2d_transpose_6 (Conv2DTrans (None, 64, 64, 32)   8224        conv2d_32[0][0]                  \n",
            "__________________________________________________________________________________________________\n",
            "concatenate_6 (Concatenate)     (None, 64, 64, 64)   0           conv2d_transpose_6[0][0]         \n",
            "                                                                 conv2d_22[0][0]                  \n",
            "__________________________________________________________________________________________________\n",
            "conv2d_33 (Conv2D)              (None, 64, 64, 32)   18464       concatenate_6[0][0]              \n",
            "__________________________________________________________________________________________________\n",
            "dropout_16 (Dropout)            (None, 64, 64, 32)   0           conv2d_33[0][0]                  \n",
            "__________________________________________________________________________________________________\n",
            "conv2d_34 (Conv2D)              (None, 64, 64, 32)   9248        dropout_16[0][0]                 \n",
            "__________________________________________________________________________________________________\n",
            "conv2d_transpose_7 (Conv2DTrans (None, 128, 128, 16) 2064        conv2d_34[0][0]                  \n",
            "__________________________________________________________________________________________________\n",
            "concatenate_7 (Concatenate)     (None, 128, 128, 32) 0           conv2d_transpose_7[0][0]         \n",
            "                                                                 conv2d_20[0][0]                  \n",
            "__________________________________________________________________________________________________\n",
            "conv2d_35 (Conv2D)              (None, 128, 128, 16) 4624        concatenate_7[0][0]              \n",
            "__________________________________________________________________________________________________\n",
            "dropout_17 (Dropout)            (None, 128, 128, 16) 0           conv2d_35[0][0]                  \n",
            "__________________________________________________________________________________________________\n",
            "conv2d_36 (Conv2D)              (None, 128, 128, 16) 2320        dropout_17[0][0]                 \n",
            "__________________________________________________________________________________________________\n",
            "conv2d_37 (Conv2D)              (None, 128, 128, 1)  17          conv2d_36[0][0]                  \n",
            "==================================================================================================\n",
            "Total params: 1,941,105\n",
            "Trainable params: 1,941,105\n",
            "Non-trainable params: 0\n",
            "__________________________________________________________________________________________________\n"
          ],
          "name": "stdout"
        }
      ]
    },
    {
      "cell_type": "code",
      "metadata": {
        "id": "qCYZE2U1sR9n",
        "colab_type": "code",
        "colab": {
          "base_uri": "https://localhost:8080/",
          "height": 224
        },
        "outputId": "4d132083-d88a-463c-91ba-4b2c75839579"
      },
      "source": [
        "checkpointer = tf.keras.callbacks.ModelCheckpoint('model_for_crosswalk.h5',verbose=1, save_best_only=True)\n",
        "callbacks = [\n",
        "             tf.keras.callbacks.EarlyStopping(patience=2, monitor='val_loss'),\n",
        "             tf.keras.callbacks.TensorBoard(log_dir='logs')]\n",
        "results = model.fit(X_train,Y_train,validation_split=0.1,batch_size=1,epochs=25,callbacks=callbacks)\n",
        "#del model  # deletes the existing model\n",
        "\n",
        "# returns a compiled model\n",
        "# identical to the previous one\n",
        "#model = load_model('my_model.h5')"
      ],
      "execution_count": null,
      "outputs": [
        {
          "output_type": "stream",
          "text": [
            "Epoch 1/25\n",
            "   2/3138 [..............................] - ETA: 7:15 - loss: 0.5229 - accuracy: 0.9245WARNING:tensorflow:Method (on_train_batch_end) is slow compared to the batch update (0.125789). Check your callbacks.\n",
            "3138/3138 [==============================] - 72s 23ms/step - loss: 0.3321 - accuracy: 0.8896 - val_loss: 0.2132 - val_accuracy: 0.9410\n",
            "Epoch 2/25\n",
            "3138/3138 [==============================] - 73s 23ms/step - loss: 0.2745 - accuracy: 0.8963 - val_loss: 0.1915 - val_accuracy: 0.9394\n",
            "Epoch 3/25\n",
            "3138/3138 [==============================] - 73s 23ms/step - loss: 0.2460 - accuracy: 0.9046 - val_loss: 0.1851 - val_accuracy: 0.9409\n",
            "Epoch 4/25\n",
            "3138/3138 [==============================] - 71s 23ms/step - loss: 0.2265 - accuracy: 0.9101 - val_loss: 0.1662 - val_accuracy: 0.9389\n",
            "Epoch 5/25\n",
            " 890/3138 [=======>......................] - ETA: 49s - loss: 0.2103 - accuracy: 0.9152"
          ],
          "name": "stdout"
        }
      ]
    },
    {
      "cell_type": "code",
      "metadata": {
        "id": "pHtw17EHsX_f",
        "colab_type": "code",
        "colab": {}
      },
      "source": [
        "from keras.models import load_model\n",
        "\n",
        "model.save('/content/drive/My Drive/Colab Notebooks/my_model_crosswalk(28june)678(1).h5')  # creates a HDF5 file 'my_model.h5'\n"
      ],
      "execution_count": null,
      "outputs": []
    },
    {
      "cell_type": "markdown",
      "metadata": {
        "id": "pwLrfowHzZJC",
        "colab_type": "text"
      },
      "source": [
        "on perticular outputs "
      ]
    },
    {
      "cell_type": "code",
      "metadata": {
        "id": "txxaYtmJzTHK",
        "colab_type": "code",
        "colab": {}
      },
      "source": [
        "# idx = 211\n",
        "# print(idx)\n",
        "# preds_train = model.predict(X_train[int(X_train.shape[0]*0.9):],verbose=1)\n",
        "# preds_val = model.predict(X_train[int(X_train.shape[0]*0.9):],verbose=1)\n",
        "# #preds_test = model.predict(X_test,verbose=1)\n",
        "# print(preds_train[2].shape)\n",
        "# print(Y_train[2].shape)\n",
        "# preds_train_t = (preds_train>0.3).astype(np.uint8)\n",
        "# preds_val_t = (preds_val > 0.3).astype(np.uint8)\n",
        "# #preds_test_t = (preds_test > 0.2).astype(np.uint8)\n",
        "\n",
        "\n",
        "# ix = random.randint(0,len(preds_train_t))\n",
        "# imshow(X_train[ix])\n",
        "# plt.show()\n",
        "# imshow(np.squeeze(Y_train[ix]))\n",
        "# plt.show()\n",
        "# imshow(np.squeeze(preds_train_t[ix]))\n",
        "# plt.show()\n",
        "\n",
        "\n",
        "# ix = random.randint(0,len(preds_val_t))\n",
        "# print(ix)\n",
        "# imshow(X_train[int(X_train.shape[0]*0.9):][ix])\n",
        "# plt.show()\n",
        "# imshow(np.squeeze(Y_train[int(Y_train.shape[0]*0.9):][ix]))\n",
        "# plt.show()\n",
        "# imshow(np.squeeze(preds_val_t[ix]))\n",
        "# plt.show()"
      ],
      "execution_count": null,
      "outputs": []
    },
    {
      "cell_type": "markdown",
      "metadata": {
        "id": "GiVm7j3j6ZUM",
        "colab_type": "text"
      },
      "source": [
        "loading pretrained model"
      ]
    },
    {
      "cell_type": "code",
      "metadata": {
        "id": "0Id8f75-3vb5",
        "colab_type": "code",
        "colab": {}
      },
      "source": [
        "# import tensorflow as tf\n",
        "# from tensorflow.keras.models import load_model\n",
        "# model = load_model('/content/drive/My Drive/Colab Notebooks/my_model_crosswalk(27june).h5')"
      ],
      "execution_count": null,
      "outputs": []
    },
    {
      "cell_type": "code",
      "metadata": {
        "id": "rf8kGz_UsfAl",
        "colab_type": "code",
        "colab": {}
      },
      "source": [
        "idx = random.randint(0, len(X_train))\n",
        "print(idx)\n",
        "preds_train = model.predict(X_train[int(X_train.shape[0]*0.9):],verbose=1)\n",
        "preds_val = model.predict(X_train[int(X_train.shape[0]*0.9):],verbose=1)\n",
        "#preds_test = model.predict(X_test,verbose=1)\n",
        "print(preds_train[2].shape)\n",
        "print(Y_train[2].shape)\n",
        "preds_train_t = (preds_train>0.3).astype(np.uint8)\n",
        "preds_val_t = (preds_val > 0.3).astype(np.uint8)\n",
        "#preds_test_t = (preds_test > 0.2).astype(np.uint8)\n",
        "\n",
        "\n",
        "ix = random.randint(0,len(preds_train_t))\n",
        "imshow(X_train[ix])\n",
        "plt.show()\n",
        "imshow(np.squeeze(Y_train[ix]))\n",
        "plt.show()\n",
        "imshow(np.squeeze(preds_train_t[ix]))\n",
        "plt.show()\n",
        "\n",
        "\n",
        "ix = random.randint(0,len(preds_val_t))\n",
        "print(ix)\n",
        "imshow(X_train[int(X_train.shape[0]*0.9):][ix])\n",
        "plt.show()\n",
        "imshow(np.squeeze(Y_train[int(Y_train.shape[0]*0.9):][ix]))\n",
        "plt.show()\n",
        "imshow(np.squeeze(preds_val_t[ix]))\n",
        "plt.show()"
      ],
      "execution_count": null,
      "outputs": []
    },
    {
      "cell_type": "code",
      "metadata": {
        "id": "6ag37tL-0OGN",
        "colab_type": "code",
        "colab": {}
      },
      "source": [
        "print(Y_train[ix].shape)"
      ],
      "execution_count": null,
      "outputs": []
    },
    {
      "cell_type": "code",
      "metadata": {
        "id": "ZXwDGuh4ivoT",
        "colab_type": "code",
        "colab": {}
      },
      "source": [
        "print(preds_train_t[ix].shape)"
      ],
      "execution_count": null,
      "outputs": []
    },
    {
      "cell_type": "code",
      "metadata": {
        "id": "Qj5MMFJqnGjU",
        "colab_type": "code",
        "colab": {}
      },
      "source": [
        "n = preds_train_t[ix]"
      ],
      "execution_count": null,
      "outputs": []
    },
    {
      "cell_type": "code",
      "metadata": {
        "id": "Qk1ZutM6i7TD",
        "colab_type": "code",
        "colab": {}
      },
      "source": [
        "m = Y_train[ix]\n"
      ],
      "execution_count": null,
      "outputs": []
    },
    {
      "cell_type": "code",
      "metadata": {
        "id": "c_GRyIqJjN5l",
        "colab_type": "code",
        "colab": {}
      },
      "source": [
        "type(m[120][122][0])"
      ],
      "execution_count": null,
      "outputs": []
    },
    {
      "cell_type": "code",
      "metadata": {
        "id": "XK8XnOaulGR-",
        "colab_type": "code",
        "colab": {}
      },
      "source": [
        "new_Y_train = m.astype(int)"
      ],
      "execution_count": null,
      "outputs": []
    },
    {
      "cell_type": "markdown",
      "metadata": {
        "id": "VAOWx_C_mc4R",
        "colab_type": "text"
      },
      "source": [
        "bool to int because preds_train_t[ix] is int therefore we changed Y_train[ix]\n",
        " which was having values as TRUe or False into int "
      ]
    },
    {
      "cell_type": "code",
      "metadata": {
        "id": "8JuSouNols1C",
        "colab_type": "code",
        "colab": {}
      },
      "source": [
        "type(new_Y_train)"
      ],
      "execution_count": null,
      "outputs": []
    },
    {
      "cell_type": "code",
      "metadata": {
        "id": "ZnAml4XBn3ET",
        "colab_type": "code",
        "colab": {}
      },
      "source": [
        "m = list(new_Y_train)\n",
        "n = list(n)"
      ],
      "execution_count": null,
      "outputs": []
    },
    {
      "cell_type": "markdown",
      "metadata": {
        "id": "JG_9i7DXwwdJ",
        "colab_type": "text"
      },
      "source": [
        "createn flatten list of true values"
      ]
    },
    {
      "cell_type": "code",
      "metadata": {
        "id": "-fFZBJGytshb",
        "colab_type": "code",
        "colab": {}
      },
      "source": [
        "flat_true = []\n",
        "for x in m:\n",
        "  flat_true.append(list(x))\n"
      ],
      "execution_count": null,
      "outputs": []
    },
    {
      "cell_type": "code",
      "metadata": {
        "id": "UZAEJPqhuehu",
        "colab_type": "code",
        "colab": {}
      },
      "source": [
        "flat_list_true = []\n",
        "flat_list_true1 = []\n",
        "for sublist in flat_true:\n",
        "  type(sublist)\n",
        "  for item in sublist:\n",
        "    flat_list_true.append(item)\n",
        "# print(set(flat_list_true))  \n",
        "for i in flat_list_true:\n",
        "  flat_list_true1.append(list(i))   "
      ],
      "execution_count": null,
      "outputs": []
    },
    {
      "cell_type": "code",
      "metadata": {
        "id": "-AVn6fuFwH-i",
        "colab_type": "code",
        "colab": {}
      },
      "source": [
        "flat_list_truef = []\n",
        "for sublist in flat_list_true1:\n",
        "  type(sublist)\n",
        "  for item in sublist:\n",
        "    flat_list_truef.append(item)"
      ],
      "execution_count": null,
      "outputs": []
    },
    {
      "cell_type": "code",
      "metadata": {
        "id": "XZdq_iqXvBVb",
        "colab_type": "code",
        "colab": {}
      },
      "source": [
        "set(flat_list_truef)"
      ],
      "execution_count": null,
      "outputs": []
    },
    {
      "cell_type": "markdown",
      "metadata": {
        "id": "n3DmWMsVw3uF",
        "colab_type": "text"
      },
      "source": [
        "same code for predictions "
      ]
    },
    {
      "cell_type": "code",
      "metadata": {
        "id": "Af_vU3BGuDC7",
        "colab_type": "code",
        "colab": {}
      },
      "source": [
        "flat_pred = []\n",
        "for x in n:\n",
        "  flat_pred.append(list(x))\n"
      ],
      "execution_count": null,
      "outputs": []
    },
    {
      "cell_type": "code",
      "metadata": {
        "colab_type": "code",
        "id": "KKngtOG9xGMu",
        "colab": {}
      },
      "source": [
        "flat_list_pred = []\n",
        "flat_list_pred1 = []\n",
        "for sublist in flat_pred:\n",
        "  type(sublist)\n",
        "  for item in sublist:\n",
        "    flat_list_pred.append(item)\n",
        "# print(set(flat_list_true))  \n",
        "for i in flat_list_pred:\n",
        "  flat_list_pred1.append(list(i))   "
      ],
      "execution_count": null,
      "outputs": []
    },
    {
      "cell_type": "code",
      "metadata": {
        "colab_type": "code",
        "id": "PAZL5JldxGNG",
        "colab": {}
      },
      "source": [
        "flat_list_predf = []\n",
        "for sublist in flat_list_pred1:\n",
        "  type(sublist)\n",
        "  for item in sublist:\n",
        "    flat_list_predf.append(item)"
      ],
      "execution_count": null,
      "outputs": []
    },
    {
      "cell_type": "code",
      "metadata": {
        "colab_type": "code",
        "id": "fSa2HyBXxGNU",
        "colab": {}
      },
      "source": [
        "set(flat_list_predf)"
      ],
      "execution_count": null,
      "outputs": []
    },
    {
      "cell_type": "markdown",
      "metadata": {
        "id": "u4Fs-l2-xf3F",
        "colab_type": "text"
      },
      "source": [
        "checking shape"
      ]
    },
    {
      "cell_type": "code",
      "metadata": {
        "id": "UJNfPW-fxidF",
        "colab_type": "code",
        "colab": {}
      },
      "source": [
        "len(flat_list_truef),len(flat_list_predf)"
      ],
      "execution_count": null,
      "outputs": []
    },
    {
      "cell_type": "code",
      "metadata": {
        "id": "v2CEc6FEmTh4",
        "colab_type": "code",
        "colab": {}
      },
      "source": [
        "from sklearn.metrics import confusion_matrix\n",
        "cm = confusion_matrix(flat_list_truef, flat_list_predf)\n",
        "cm"
      ],
      "execution_count": null,
      "outputs": []
    },
    {
      "cell_type": "code",
      "metadata": {
        "id": "TNMNL1FGx1-X",
        "colab_type": "code",
        "colab": {}
      },
      "source": [
        "def plot_confusion_matrix(cm, classes,\n",
        "                          normalize=False,\n",
        "                          title='Confusion matrix',\n",
        "                          cmap=plt.cm.Blues):\n",
        "    \"\"\"\n",
        "    This function prints and plots the confusion matrix.\n",
        "    Normalization can be applied by setting `normalize=True`.\n",
        "    \"\"\"\n",
        "    plt.imshow(cm, interpolation='nearest', cmap=cmap)\n",
        "    plt.title(title)\n",
        "    plt.colorbar()\n",
        "    tick_marks = np.arange(len(classes))\n",
        "    plt.xticks(tick_marks, classes, rotation=45)\n",
        "    plt.yticks(tick_marks, classes)\n",
        "\n",
        "    if normalize:\n",
        "        cm = cm.astype('float') / cm.sum(axis=1)[:, np.newaxis]\n",
        "        print(\"Normalized confusion matrix\")\n",
        "    else:\n",
        "        print('Confusion matrix, without normalization')\n",
        "\n",
        "    print(cm)\n",
        "\n",
        "    thresh = cm.max() / 2.\n",
        "    for i, j in itertools.product(range(cm.shape[0]), range(cm.shape[1])):\n",
        "        plt.text(j, i, cm[i, j],\n",
        "            horizontalalignment=\"center\",\n",
        "            color=\"white\" if cm[i, j] > thresh else \"black\")\n",
        "\n",
        "    plt.tight_layout()\n",
        "    plt.ylabel('True label')\n",
        "    plt.xlabel('Predicted label')"
      ],
      "execution_count": null,
      "outputs": []
    },
    {
      "cell_type": "code",
      "metadata": {
        "id": "9qe5bJPRyS_l",
        "colab_type": "code",
        "colab": {}
      },
      "source": [
        "import itertools\n",
        "cm_plot_labels = ['background','crosswalk']\n",
        "plot_confusion_matrix(cm=cm, classes=cm_plot_labels, title='Confusion Matrix')"
      ],
      "execution_count": null,
      "outputs": []
    },
    {
      "cell_type": "code",
      "metadata": {
        "id": "uPDH_11X5ogB",
        "colab_type": "code",
        "colab": {}
      },
      "source": [
        ""
      ],
      "execution_count": null,
      "outputs": []
    }
  ]
}