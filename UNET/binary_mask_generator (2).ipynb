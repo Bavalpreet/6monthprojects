{
  "nbformat": 4,
  "nbformat_minor": 0,
  "metadata": {
    "colab": {
      "name": "binary_mask_generator.ipynb",
      "provenance": [],
      "collapsed_sections": []
    },
    "kernelspec": {
      "name": "python3",
      "display_name": "Python 3"
    }
  },
  "cells": [
    {
      "cell_type": "code",
      "metadata": {
        "id": "TaQ3OtdM_H-q",
        "colab_type": "code",
        "colab": {
          "base_uri": "https://localhost:8080/",
          "height": 35
        },
        "outputId": "4958019b-36d2-47b7-a9e1-a093f0386d6e"
      },
      "source": [
        "from google.colab import drive\n",
        "drive.mount('/content/drive')"
      ],
      "execution_count": null,
      "outputs": [
        {
          "output_type": "stream",
          "text": [
            "Drive already mounted at /content/drive; to attempt to forcibly remount, call drive.mount(\"/content/drive\", force_remount=True).\n"
          ],
          "name": "stdout"
        }
      ]
    },
    {
      "cell_type": "code",
      "metadata": {
        "id": "QF5HwPaW_eCV",
        "colab_type": "code",
        "colab": {}
      },
      "source": [
        "from skimage import draw\n",
        "from skimage import io\n",
        "import numpy as np\n",
        "import urllib.request\n",
        "import json\n",
        "import logging\n",
        "import os\n",
        "import sys\n",
        "# !pip3 install opencv-python\n",
        "import cv2\n",
        "# !pip3 install pandas\n",
        "import pandas as pd\n",
        "\n",
        "\n",
        "\n",
        "def load_images_from_folder(folder):\n",
        "    images = []\n",
        "    for filename in os.listdir(folder):\n",
        "        img = cv2.imread(os.path.join(folder,filename))\n",
        "        if img is not None:\n",
        "            images.append(img)\n",
        "    return images\n",
        "folder = '/content/drive/My Drive/5_corridors_train_val_data/train-20200530T092227Z-001/train'\n",
        "images = load_images_from_folder(folder)"
      ],
      "execution_count": null,
      "outputs": []
    },
    {
      "cell_type": "code",
      "metadata": {
        "id": "QXG9gIUJ_izr",
        "colab_type": "code",
        "colab": {
          "base_uri": "https://localhost:8080/",
          "height": 35
        },
        "outputId": "d3dd394c-7bc9-49f7-ab94-9b995d695e05"
      },
      "source": [
        "images[0].shape"
      ],
      "execution_count": null,
      "outputs": [
        {
          "output_type": "execute_result",
          "data": {
            "text/plain": [
              "(590, 1042, 3)"
            ]
          },
          "metadata": {
            "tags": []
          },
          "execution_count": 4
        }
      ]
    },
    {
      "cell_type": "code",
      "metadata": {
        "id": "rLu_Ged8C86k",
        "colab_type": "code",
        "colab": {}
      },
      "source": [
        "def load_image_names_from_folder(folder):\n",
        "    image_names = []\n",
        "    k=  os.listdir(folder)\n",
        "    return k\n",
        "folder = '/content/drive/My Drive/5_corridors_train_val_data/train-20200530T092227Z-001/train'\n",
        "img_names= load_image_names_from_folder(folder)"
      ],
      "execution_count": null,
      "outputs": []
    },
    {
      "cell_type": "code",
      "metadata": {
        "id": "7l6_3N6uC5VJ",
        "colab_type": "code",
        "colab": {
          "base_uri": "https://localhost:8080/",
          "height": 1000
        },
        "outputId": "e751fdc2-a002-4700-b7bd-a9cf357b2743"
      },
      "source": [
        "img_names"
      ],
      "execution_count": null,
      "outputs": [
        {
          "output_type": "execute_result",
          "data": {
            "text/plain": [
              "['2_Ave_12.jpg',\n",
              " '2_Ave_95.jpg',\n",
              " '2_Ave_96.jpg',\n",
              " '2_Ave_97.jpg',\n",
              " '2_Ave_124.jpg',\n",
              " '2_Ave_17.jpg',\n",
              " '2_Ave_18.jpg',\n",
              " '2_Ave_117.jpg',\n",
              " '2_Ave_19.jpg',\n",
              " '2_Ave_118.jpg',\n",
              " '2_Ave_123.jpg',\n",
              " '2_Ave_20.jpg',\n",
              " '2_Ave_14.jpg',\n",
              " '2_Ave_2.jpg',\n",
              " '2_Ave_99.jpg',\n",
              " '2_Ave_119.jpg',\n",
              " '2_Ave_116.jpg',\n",
              " '2_Ave_15.jpg',\n",
              " '2_Ave_98.jpg',\n",
              " '2_Ave_125.jpg',\n",
              " 'Queens_Blvd_95.jpg',\n",
              " 'South_St_522.jpg',\n",
              " 'Queens_Blvd_92.jpg',\n",
              " 'South_St_521.jpg',\n",
              " 'Queens_Blvd_9.jpg',\n",
              " 'South_St_520.jpg',\n",
              " 'South_St_511.jpg',\n",
              " '2_Ave_21.jpg',\n",
              " '2_Ave_24.jpg',\n",
              " 'Queens_Blvd_97.jpg',\n",
              " 'Queens_Blvd_89.jpg',\n",
              " '2_Ave_22.jpg',\n",
              " 'Queens_Blvd_91.jpg',\n",
              " 'Queens_Blvd_93.jpg',\n",
              " 'Queens_Blvd_90.jpg',\n",
              " 'South_St_514.jpg',\n",
              " '2_Ave_25.jpg',\n",
              " 'South_St_513.jpg',\n",
              " 'South_St_517.jpg',\n",
              " '2_Ave_23.jpg',\n",
              " 'Bath_Ave_41.jpg',\n",
              " 'Queens_Blvd_96.jpg',\n",
              " 'South_St_531.jpg',\n",
              " 'South_St_532.jpg',\n",
              " 'Queens_Blvd_21.jpg',\n",
              " 'Queens_Blvd_109.jpg',\n",
              " 'South_St_533.jpg',\n",
              " 'Queens_Blvd_34.jpg',\n",
              " 'Bath_Ave_60.jpg',\n",
              " 'Queens_Blvd_157.jpg',\n",
              " 'Queens_Blvd_50.jpg',\n",
              " 'Bath_Ave_78.jpg',\n",
              " 'Forest_Road_48.jpg',\n",
              " 'Queens_Blvd_71.jpg',\n",
              " 'Forest_Road_15.jpg',\n",
              " 'Queens_Blvd_14.jpg',\n",
              " 'South_St_525.jpg',\n",
              " 'Forest_Road_31.jpg',\n",
              " 'Queens_Blvd_19.jpg',\n",
              " 'Queens_Blvd_174.jpg',\n",
              " 'South_St_528.jpg',\n",
              " 'South_St_543.jpg',\n",
              " 'South_St_562.jpg',\n",
              " 'South_St_565.jpg',\n",
              " 'South_St_557.jpg',\n",
              " 'South_St_539.jpg',\n",
              " 'South_St_545.jpg',\n",
              " 'South_St_535.jpg',\n",
              " 'South_St_567.jpg',\n",
              " 'South_St_548.jpg',\n",
              " 'South_St_540.jpg',\n",
              " 'South_St_542.jpg',\n",
              " 'South_St_544.jpg',\n",
              " 'South_St_538.jpg',\n",
              " 'South_St_550.jpg',\n",
              " 'South_St_546.jpg',\n",
              " 'South_St_551.jpg',\n",
              " 'South_St_554.jpg',\n",
              " 'South_St_560.jpg',\n",
              " 'South_St_564.jpg',\n",
              " 'South_St_553.jpg',\n",
              " 'South_St_537.jpg',\n",
              " 'South_St_559.jpg',\n",
              " 'South_St_541.jpg',\n",
              " 'South_St_591.jpg',\n",
              " 'South_St_577.jpg',\n",
              " 'South_St_612.jpg',\n",
              " 'South_St_586.jpg',\n",
              " 'South_St_582.jpg',\n",
              " 'South_St_573.jpg',\n",
              " 'South_St_568.jpg',\n",
              " 'South_St_587.jpg',\n",
              " 'South_St_614.jpg',\n",
              " 'South_St_589.jpg',\n",
              " 'South_St_593.jpg',\n",
              " 'South_St_599.jpg',\n",
              " 'South_St_574.jpg',\n",
              " 'South_St_598.jpg',\n",
              " 'South_St_590.jpg',\n",
              " 'South_St_596.jpg',\n",
              " 'South_St_581.jpg',\n",
              " 'South_St_601.jpg',\n",
              " 'South_St_588.jpg',\n",
              " 'South_St_579.jpg',\n",
              " 'South_St_571.jpg',\n",
              " 'South_St_611.jpg',\n",
              " 'South_St_607.jpg',\n",
              " 'South_St_613.jpg',\n",
              " 'South_St_604.jpg',\n",
              " 'South_St_616.jpg',\n",
              " 'South_St_629.jpg',\n",
              " 'South_St_638.jpg',\n",
              " 'South_St_660.jpg',\n",
              " 'South_St_644.jpg',\n",
              " 'South_St_656.jpg',\n",
              " 'South_St_651.jpg',\n",
              " 'South_St_618.jpg',\n",
              " 'South_St_619.jpg',\n",
              " 'South_St_625.jpg',\n",
              " 'South_St_649.jpg',\n",
              " 'South_St_652.jpg',\n",
              " 'South_St_621.jpg',\n",
              " 'South_St_624.jpg',\n",
              " 'South_St_623.jpg',\n",
              " 'South_St_653.jpg',\n",
              " 'South_St_659.jpg',\n",
              " 'South_St_630.jpg',\n",
              " 'South_St_634.jpg',\n",
              " 'South_St_622.jpg',\n",
              " 'South_St_647.jpg',\n",
              " 'South_St_626.jpg',\n",
              " 'South_St_636.jpg',\n",
              " 'South_St_690.jpg',\n",
              " 'South_St_664.jpg',\n",
              " 'South_St_663.jpg',\n",
              " 'South_St_698.jpg',\n",
              " 'South_St_708.jpg',\n",
              " 'South_St_669.jpg',\n",
              " 'South_St_717.jpg',\n",
              " 'South_St_684.jpg',\n",
              " 'South_St_719.jpg',\n",
              " 'South_St_711.jpg',\n",
              " 'South_St_673.jpg',\n",
              " 'South_St_674.jpg',\n",
              " 'South_St_681.jpg',\n",
              " 'South_St_667.jpg',\n",
              " 'South_St_697.jpg',\n",
              " 'South_St_694.jpg',\n",
              " 'South_St_678.jpg',\n",
              " 'South_St_686.jpg',\n",
              " 'South_St_700.jpg',\n",
              " 'South_St_703.jpg',\n",
              " 'South_St_695.jpg',\n",
              " 'South_St_685.jpg',\n",
              " 'South_St_712.jpg',\n",
              " 'South_St_688.jpg',\n",
              " 'South_St_730.jpg',\n",
              " 'South_St_727.jpg',\n",
              " 'South_St_782.jpg',\n",
              " 'South_St_726.jpg',\n",
              " 'South_St_734.jpg',\n",
              " 'South_St_753.jpg',\n",
              " 'South_St_725.jpg',\n",
              " 'South_St_755.jpg',\n",
              " 'South_St_740.jpg',\n",
              " 'South_St_728.jpg',\n",
              " 'South_St_779.jpg',\n",
              " 'South_St_774.jpg',\n",
              " 'South_St_754.jpg',\n",
              " 'South_St_722.jpg',\n",
              " 'South_St_720.jpg',\n",
              " 'South_St_721.jpg',\n",
              " 'South_St_742.jpg',\n",
              " 'South_St_759.jpg',\n",
              " 'South_St_739.jpg',\n",
              " 'South_St_791.jpg',\n",
              " 'South_St_790.jpg',\n",
              " 'South_St_794.jpg',\n",
              " 'South_St_853.jpg',\n",
              " 'South_St_834.jpg',\n",
              " 'South_St_835.jpg',\n",
              " 'South_St_820.jpg',\n",
              " 'South_St_842.jpg',\n",
              " 'South_St_843.jpg',\n",
              " 'South_St_826.jpg',\n",
              " 'South_St_850.jpg',\n",
              " 'South_St_806.jpg',\n",
              " 'South_St_798.jpg',\n",
              " 'South_St_846.jpg',\n",
              " 'South_St_800.jpg',\n",
              " 'South_St_802.jpg',\n",
              " 'South_St_827.jpg',\n",
              " 'South_St_792.jpg',\n",
              " 'South_St_812.jpg',\n",
              " 'South_St_840.jpg',\n",
              " 'South_St_849.jpg',\n",
              " 'South_St_839.jpg',\n",
              " 'South_St_801.jpg',\n",
              " 'South_St_805.jpg',\n",
              " 'South_St_796.jpg',\n",
              " 'South_St_880.jpg',\n",
              " 'South_St_878(1).jpg',\n",
              " 'South_St_876.jpg',\n",
              " 'South_St_883.jpg',\n",
              " 'South_St_876(1).jpg',\n",
              " 'South_St_882.jpg',\n",
              " 'South_St_868.jpg',\n",
              " 'South_St_884(1).jpg',\n",
              " 'South_St_872.jpg',\n",
              " 'South_St_878.jpg',\n",
              " 'South_St_886.jpg',\n",
              " 'South_St_884.jpg',\n",
              " 'South_St_860.jpg',\n",
              " 'South_St_879.jpg',\n",
              " 'South_St_864.jpg',\n",
              " 'South_St_885(1).jpg',\n",
              " 'South_St_862.jpg',\n",
              " 'South_St_877.jpg',\n",
              " 'South_St_885.jpg',\n",
              " 'South_St_883(1).jpg',\n",
              " 'South_St_873(1).jpg',\n",
              " 'South_St_867.jpg',\n",
              " 'South_St_877(1).jpg',\n",
              " 'South_St_873.jpg',\n",
              " 'South_St_900.jpg',\n",
              " 'South_St_898.jpg',\n",
              " 'South_St_889.jpg',\n",
              " 'South_St_899.jpg',\n",
              " 'South_St_890(1).jpg',\n",
              " 'South_St_905.jpg',\n",
              " 'South_St_890.jpg',\n",
              " 'South_St_888.jpg',\n",
              " 'South_St_907.jpg',\n",
              " 'South_St_891(1).jpg',\n",
              " 'South_St_895.jpg',\n",
              " 'South_St_893.jpg',\n",
              " 'South_St_909.jpg',\n",
              " 'South_St_887.jpg',\n",
              " 'South_St_896.jpg',\n",
              " 'South_St_912.jpg',\n",
              " 'South_St_891.jpg',\n",
              " 'South_St_894.jpg',\n",
              " 'South_St_906.jpg',\n",
              " 'South_St_897.jpg',\n",
              " 'South_St_910.jpg',\n",
              " 'South_St_901.jpg',\n",
              " 'South_St_908.jpg',\n",
              " 'South_St_902.jpg',\n",
              " 'South_St_889(1).jpg',\n",
              " 'South_St_928.jpg',\n",
              " 'South_St_939.jpg',\n",
              " 'South_St_921.jpg',\n",
              " 'South_St_916.jpg',\n",
              " 'South_St_932.jpg',\n",
              " 'South_St_922.jpg',\n",
              " 'South_St_941.jpg',\n",
              " 'South_St_937.jpg',\n",
              " 'South_St_923.jpg',\n",
              " 'South_St_934.jpg',\n",
              " 'South_St_936.jpg',\n",
              " 'South_St_915.jpg',\n",
              " 'South_St_930.jpg',\n",
              " 'South_St_913.jpg',\n",
              " 'South_St_926.jpg',\n",
              " 'South_St_931.jpg',\n",
              " 'South_St_935.jpg',\n",
              " 'South_St_940.jpg',\n",
              " 'South_St_925.jpg',\n",
              " 'South_St_914.jpg',\n",
              " 'South_St_924.jpg',\n",
              " 'South_St_938.jpg',\n",
              " 'South_St_929.jpg',\n",
              " 'Waterbury_Ave_1.jpg',\n",
              " 'South_St_947.jpg',\n",
              " 'South_St_952.jpg',\n",
              " 'Waterbury_Ave_10.jpg',\n",
              " 'South_St_960.jpg',\n",
              " 'South_St_959.jpg',\n",
              " 'South_St_949.jpg',\n",
              " 'South_St_956.jpg',\n",
              " 'South_St_955.jpg',\n",
              " 'South_St_943.jpg',\n",
              " 'Waterbury_Ave_12.jpg',\n",
              " 'South_St_944.jpg',\n",
              " 'South_St_942.jpg',\n",
              " 'South_St_961.jpg',\n",
              " 'South_St_946.jpg',\n",
              " 'South_St_954.jpg',\n",
              " 'South_St_957.jpg',\n",
              " 'South_St_945.jpg',\n",
              " 'South_St_958.jpg',\n",
              " 'Waterbury_Ave_11.jpg',\n",
              " 'South_St_951.jpg',\n",
              " 'South_St_948.jpg',\n",
              " 'South_St_953.jpg',\n",
              " 'South_St_962.jpg',\n",
              " 'South_St_606.jpg',\n",
              " 'South_St_746.jpg',\n",
              " 'Waterbury_Ave_14.jpg',\n",
              " 'South_St_523.jpg',\n",
              " 'Waterbury_Ave_18.jpg',\n",
              " 'South_St_672.jpg',\n",
              " 'Waterbury_Ave_23.jpg',\n",
              " 'Waterbury_Ave_16.jpg',\n",
              " 'Waterbury_Ave_15.jpg',\n",
              " 'Waterbury_Ave_24.jpg',\n",
              " 'Waterbury_Ave_27.jpg',\n",
              " 'Waterbury_Ave_25.jpg',\n",
              " 'Waterbury_Ave_21.jpg',\n",
              " 'South_St_547.jpg',\n",
              " 'Waterbury_Ave_28.jpg',\n",
              " 'Waterbury_Ave_19.jpg',\n",
              " 'Waterbury_Ave_20.jpg',\n",
              " 'South_St_576.jpg',\n",
              " 'Waterbury_Ave_2.jpg',\n",
              " 'South_St_632.jpg',\n",
              " 'Waterbury_Ave_22.jpg',\n",
              " 'Waterbury_Ave_26.jpg',\n",
              " 'South_St_710.jpg',\n",
              " 'Waterbury_Ave_31(1).jpg',\n",
              " 'Waterbury_Ave_29.jpg',\n",
              " 'Waterbury_Ave_33.jpg',\n",
              " 'Waterbury_Ave_13.jpg',\n",
              " 'Waterbury_Ave_35.jpg',\n",
              " 'South_St_950.jpg',\n",
              " 'Waterbury_Ave_38.jpg',\n",
              " 'Waterbury_Ave_29(1).jpg',\n",
              " 'Waterbury_Ave_30.jpg',\n",
              " 'South_St_881.jpg',\n",
              " 'Waterbury_Ave_31.jpg',\n",
              " 'Waterbury_Ave_3.jpg',\n",
              " 'South_St_854.jpg',\n",
              " 'South_St_911.jpg',\n",
              " 'Waterbury_Ave_37.jpg',\n",
              " 'Waterbury_Ave_3(1).jpg',\n",
              " 'Waterbury_Ave_36.jpg',\n",
              " 'Waterbury_Ave_34.jpg',\n",
              " 'Waterbury_Ave_38(1).jpg',\n",
              " 'Waterbury_Ave_32.jpg',\n",
              " 'Waterbury_Ave_37(1).jpg',\n",
              " 'South_St_804.jpg',\n",
              " 'South_St_933.jpg',\n",
              " 'South_St_892.jpg',\n",
              " 'Waterbury_Ave_46.jpg',\n",
              " 'Waterbury_Ave_8.jpg',\n",
              " 'Waterbury_Ave_39.jpg',\n",
              " 'Waterbury_Ave_42.jpg',\n",
              " 'Waterbury_Ave_43.jpg',\n",
              " 'Waterbury_Ave_44.jpg',\n",
              " 'Waterbury_Ave_48.jpg',\n",
              " 'Waterbury_Ave_5.jpg',\n",
              " 'Waterbury_Ave_9.jpg',\n",
              " 'Waterbury_Ave_45.jpg',\n",
              " 'Waterbury_Ave_6.jpg',\n",
              " 'Waterbury_Ave_4.jpg',\n",
              " 'Waterbury_Ave_7.jpg',\n",
              " 'Waterbury_Ave_47.jpg',\n",
              " '2nd_Ave_261.jpg',\n",
              " 'Bath_Ave_2.jpg',\n",
              " '2nd_Ave_211.jpg',\n",
              " '2nd_Ave_206.jpg',\n",
              " '2nd_Ave_232.jpg',\n",
              " '2nd_Ave_255.jpg',\n",
              " '2nd_Ave_201.jpg',\n",
              " '2nd_Ave_259.jpg',\n",
              " '2nd_Ave_183.jpg',\n",
              " '2nd_Ave_262.jpg',\n",
              " '2nd_Ave_199.jpg',\n",
              " '2nd_Ave_202.jpg',\n",
              " '2nd_Ave_227.jpg',\n",
              " '2nd_Ave_251.jpg',\n",
              " '2nd_Ave_242.jpg',\n",
              " '2nd_Ave_250.jpg',\n",
              " '2nd_Ave_213.jpg',\n",
              " '2nd_Ave_257.jpg',\n",
              " '2nd_Ave_219.jpg',\n",
              " '2nd_Ave_188.jpg',\n",
              " '2nd_Ave_221.jpg',\n",
              " '2nd_Ave_243.jpg',\n",
              " '2nd_Ave_231.jpg',\n",
              " '2nd_Ave_235.jpg',\n",
              " '2nd_Ave_260.jpg',\n",
              " '2nd_Ave_226.jpg',\n",
              " '2nd_Ave_212.jpg',\n",
              " '2nd_Ave_217.jpg',\n",
              " '2nd_Ave_198.jpg',\n",
              " '2nd_Ave_214.jpg',\n",
              " '2nd_Ave_253.jpg',\n",
              " '2nd_Ave_208.jpg',\n",
              " '2nd_Ave_195.jpg',\n",
              " '2nd_Ave_239.jpg',\n",
              " '2nd_Ave_210.jpg',\n",
              " '2nd_Ave_184.jpg',\n",
              " '2nd_Ave_256.jpg',\n",
              " '2nd_Ave_252.jpg',\n",
              " '2nd_Ave_194.jpg',\n",
              " '2nd_Ave_215.jpg',\n",
              " '2nd_Ave_230.jpg',\n",
              " '2nd_Ave_204.jpg',\n",
              " '2nd_Ave_241.jpg',\n",
              " '2nd_Ave_225.jpg',\n",
              " '2nd_Ave_237.jpg',\n",
              " '2nd_Ave_258.jpg',\n",
              " '2nd_Ave_186.jpg',\n",
              " '2nd_Ave_193.jpg',\n",
              " '2nd_Ave_200.jpg',\n",
              " '2nd_Ave_180.jpg',\n",
              " '2nd_Ave_247.jpg',\n",
              " '2nd_Ave_189.jpg',\n",
              " '2nd_Ave_249.jpg',\n",
              " '2nd_Ave_190.jpg',\n",
              " '2nd_Ave_245.jpg',\n",
              " '2nd_Ave_209.jpg',\n",
              " '2nd_Ave_229.jpg',\n",
              " '2nd_Ave_197.jpg',\n",
              " '2nd_Ave_263.jpg',\n",
              " '2nd_Ave_185.jpg',\n",
              " '2nd_Ave_203.jpg',\n",
              " '2nd_Ave_240.jpg',\n",
              " '2nd_Ave_196.jpg',\n",
              " '2nd_Ave_238.jpg',\n",
              " '2nd_Ave_236.jpg',\n",
              " '2nd_Ave_192.jpg',\n",
              " '2nd_Ave_228.jpg',\n",
              " '2nd_Ave_223.jpg',\n",
              " '2nd_Ave_181.jpg',\n",
              " '2nd_Ave_191.jpg',\n",
              " '2nd_Ave_218.jpg',\n",
              " '2nd_Ave_246.jpg',\n",
              " '2nd_Ave_248.jpg',\n",
              " '2nd_Ave_233.jpg',\n",
              " '2nd_Ave_187.jpg',\n",
              " '2nd_Ave_182.jpg',\n",
              " '2nd_Ave_207.jpg',\n",
              " '2nd_Ave_220.jpg',\n",
              " '2nd_Ave_216.jpg',\n",
              " 'Bath_Ave_10.jpg',\n",
              " 'Bath_Ave_27.jpg',\n",
              " 'Bath_Ave_11.jpg',\n",
              " 'Bath_Ave_26.jpg',\n",
              " 'Bath_Ave_28.jpg',\n",
              " 'Bath_Ave_13.jpg',\n",
              " 'Bath_Ave_19.jpg',\n",
              " 'Bath_Ave_14.jpg',\n",
              " 'Bath_Ave_22.jpg',\n",
              " 'Bath_Ave_30.jpg',\n",
              " 'Bath_Ave_25.jpg',\n",
              " 'Bath_Ave_16.jpg',\n",
              " 'Bath_Ave_20.jpg',\n",
              " 'Bath_Ave_7.jpg',\n",
              " 'Bath_Ave_29.jpg',\n",
              " 'Bath_Ave_15.jpg',\n",
              " 'Bath_Ave_5.jpg',\n",
              " 'Bath_Ave_6.jpg',\n",
              " 'Bath_Ave_9.jpg',\n",
              " 'Bath_Ave_21.jpg',\n",
              " 'Bath_Ave_4.jpg',\n",
              " 'Bath_Ave_12.jpg',\n",
              " 'Bath_Ave_17.jpg',\n",
              " 'via_region_data.json',\n",
              " 'Forest_Road_5.jpg',\n",
              " 'Queens_Blvd_140.jpg',\n",
              " 'Forest_Road_6.jpg',\n",
              " 'Queens_Blvd_145.jpg',\n",
              " 'Queens_Blvd_146.jpg',\n",
              " 'Forest_Road_8.jpg',\n",
              " 'Forest_Road_43.jpg',\n",
              " 'Queens_Blvd_107.jpg',\n",
              " 'Queens_Blvd_1.jpg',\n",
              " 'Forest_Road_37.jpg',\n",
              " 'Forest_Road_44.jpg',\n",
              " 'Queens_Blvd_10.jpg',\n",
              " 'Forest_Road_53.jpg',\n",
              " 'Forest_Road_46.jpg',\n",
              " 'Forest_Road_47.jpg',\n",
              " 'Queens_Blvd_108.jpg',\n",
              " 'Forest_Road_51.jpg',\n",
              " 'Forest_Road_45.jpg',\n",
              " 'Forest_Road_39.jpg',\n",
              " 'Forest_Road_49.jpg',\n",
              " 'Forest_Road_54.jpg',\n",
              " 'Forest_Road_9.jpg',\n",
              " 'Queens_Blvd_144.jpg',\n",
              " 'Forest_Road_41.jpg',\n",
              " 'Queens_Blvd_142.jpg',\n",
              " 'Forest_Road_52.jpg',\n",
              " 'Forest_Road_7.jpg',\n",
              " 'Queens_Blvd_49.jpg',\n",
              " 'Queens_Blvd_4.jpg',\n",
              " 'Queens_Blvd_56.jpg',\n",
              " 'Queens_Blvd_151.jpg',\n",
              " 'Queens_Blvd_149.jpg',\n",
              " 'Queens_Blvd_36.jpg',\n",
              " 'Queens_Blvd_43.jpg',\n",
              " 'Queens_Blvd_55.jpg',\n",
              " 'Queens_Blvd_41.jpg',\n",
              " 'Queens_Blvd_47.jpg',\n",
              " 'Queens_Blvd_153.jpg',\n",
              " 'Queens_Blvd_45.jpg',\n",
              " 'Queens_Blvd_150.jpg',\n",
              " 'Queens_Blvd_15.jpg',\n",
              " 'Queens_Blvd_37.jpg',\n",
              " 'Queens_Blvd_152.jpg',\n",
              " 'Queens_Blvd_38.jpg',\n",
              " 'Queens_Blvd_40.jpg',\n",
              " 'Queens_Blvd_58.jpg',\n",
              " 'Queens_Blvd_147.jpg',\n",
              " 'Queens_Blvd_155.jpg',\n",
              " 'Queens_Blvd_39.jpg',\n",
              " 'Queens_Blvd_60.jpg',\n",
              " 'Queens_Blvd_59.jpg',\n",
              " 'Queens_Blvd_156.jpg',\n",
              " 'Queens_Blvd_5.jpg',\n",
              " 'Queens_Blvd_154.jpg',\n",
              " 'Queens_Blvd_44.jpg',\n",
              " 'Queens_Blvd_42.jpg',\n",
              " 'Queens_Blvd_46.jpg',\n",
              " 'Queens_Blvd_35.jpg',\n",
              " 'Queens_Blvd_6.jpg',\n",
              " 'Queens_Blvd_148.jpg',\n",
              " 'Queens_Blvd_63.jpg',\n",
              " 'Queens_Blvd_62.jpg',\n",
              " 'Queens_Blvd_77.jpg',\n",
              " 'Queens_Blvd_69.jpg',\n",
              " 'Queens_Blvd_70.jpg',\n",
              " 'Queens_Blvd_7.jpg',\n",
              " 'Queens_Blvd_113.jpg',\n",
              " 'Queens_Blvd_65.jpg',\n",
              " 'Queens_Blvd_85.jpg',\n",
              " 'Queens_Blvd_66.jpg',\n",
              " 'Queens_Blvd_79.jpg',\n",
              " 'Queens_Blvd_74.jpg',\n",
              " 'Queens_Blvd_115.jpg',\n",
              " 'Queens_Blvd_68.jpg',\n",
              " 'Queens_Blvd_78.jpg',\n",
              " 'Queens_Blvd_87.jpg',\n",
              " 'Queens_Blvd_84.jpg',\n",
              " 'Queens_Blvd_61.jpg',\n",
              " 'Queens_Blvd_81.jpg',\n",
              " 'Queens_Blvd_73.jpg',\n",
              " 'Queens_Blvd_8.jpg',\n",
              " 'Queens_Blvd_112.jpg',\n",
              " 'Queens_Blvd_76.jpg',\n",
              " 'Queens_Blvd_86.jpg',\n",
              " 'Queens_Blvd_64.jpg',\n",
              " 'Queens_Blvd_11.jpg',\n",
              " 'Queens_Blvd_75.jpg',\n",
              " 'Queens_Blvd_82.jpg',\n",
              " 'Queens_Blvd_72.jpg',\n",
              " 'Queens_Blvd_80.jpg',\n",
              " 'Queens_Blvd_110.jpg',\n",
              " 'Queens_Blvd_114.jpg',\n",
              " 'Queens_Blvd_124.jpg',\n",
              " 'Queens_Blvd_16.jpg',\n",
              " 'Queens_Blvd_158.jpg',\n",
              " 'Queens_Blvd_122.jpg',\n",
              " 'Queens_Blvd_135.jpg',\n",
              " 'Queens_Blvd_129.jpg',\n",
              " 'Queens_Blvd_127.jpg',\n",
              " 'Queens_Blvd_119.jpg',\n",
              " 'Queens_Blvd_120.jpg',\n",
              " 'Queens_Blvd_161.jpg',\n",
              " 'Queens_Blvd_137.jpg',\n",
              " 'Queens_Blvd_117.jpg',\n",
              " 'Queens_Blvd_159.jpg',\n",
              " 'Queens_Blvd_130.jpg',\n",
              " 'Queens_Blvd_162.jpg',\n",
              " 'Queens_Blvd_116.jpg',\n",
              " 'Queens_Blvd_131.jpg',\n",
              " 'Queens_Blvd_139.jpg',\n",
              " 'Queens_Blvd_12.jpg',\n",
              " 'Queens_Blvd_132.jpg',\n",
              " 'Queens_Blvd_125.jpg',\n",
              " 'Queens_Blvd_136.jpg',\n",
              " 'Queens_Blvd_126.jpg',\n",
              " 'Queens_Blvd_134.jpg',\n",
              " 'Queens_Blvd_160.jpg',\n",
              " 'Queens_Blvd_133.jpg',\n",
              " 'Queens_Blvd_123.jpg',\n",
              " 'Queens_Blvd_138.jpg',\n",
              " 'Queens_Blvd_121.jpg',\n",
              " 'Queens_Blvd_13.jpg',\n",
              " 'Queens_Blvd_179.jpg',\n",
              " 'Queens_Blvd_190.jpg',\n",
              " 'Queens_Blvd_170.jpg',\n",
              " 'Queens_Blvd_189.jpg',\n",
              " 'Queens_Blvd_191.jpg',\n",
              " 'Queens_Blvd_163.jpg',\n",
              " 'Queens_Blvd_177.jpg',\n",
              " 'Queens_Blvd_181.jpg',\n",
              " 'Queens_Blvd_180.jpg',\n",
              " 'Queens_Blvd_178.jpg',\n",
              " 'Queens_Blvd_165.jpg',\n",
              " 'Queens_Blvd_192.jpg',\n",
              " 'Queens_Blvd_168.jpg',\n",
              " 'Queens_Blvd_184.jpg',\n",
              " 'Queens_Blvd_167.jpg',\n",
              " 'Queens_Blvd_185.jpg',\n",
              " 'Queens_Blvd_187.jpg',\n",
              " 'Queens_Blvd_188.jpg',\n",
              " 'Queens_Blvd_17.jpg',\n",
              " 'Queens_Blvd_164.jpg',\n",
              " 'Queens_Blvd_182.jpg',\n",
              " 'Queens_Blvd_186.jpg',\n",
              " 'Queens_Blvd_166.jpg',\n",
              " 'Queens_Blvd_173.jpg',\n",
              " 'Queens_Blvd_171.jpg',\n",
              " 'Queens_Blvd_176.jpg',\n",
              " 'Queens_Blvd_18.jpg',\n",
              " 'Queens_Blvd_183.jpg',\n",
              " 'Queens_Blvd_175.jpg',\n",
              " 'Queens_Blvd_2.jpg',\n",
              " 'Queens_Blvd_221.jpg',\n",
              " 'Queens_Blvd_219.jpg',\n",
              " 'Queens_Blvd_207.jpg',\n",
              " 'Queens_Blvd_212.jpg',\n",
              " 'Queens_Blvd_210.jpg',\n",
              " 'Queens_Blvd_223.jpg',\n",
              " 'Queens_Blvd_205.jpg',\n",
              " 'Queens_Blvd_20.jpg',\n",
              " 'Queens_Blvd_22.jpg',\n",
              " 'Queens_Blvd_209.jpg',\n",
              " 'Queens_Blvd_206.jpg',\n",
              " 'Queens_Blvd_226.jpg',\n",
              " 'Queens_Blvd_211.jpg',\n",
              " 'Queens_Blvd_196.jpg',\n",
              " 'Queens_Blvd_225.jpg',\n",
              " 'Queens_Blvd_198.jpg',\n",
              " 'Queens_Blvd_215.jpg',\n",
              " 'Queens_Blvd_227.jpg',\n",
              " 'Queens_Blvd_214.jpg',\n",
              " 'Queens_Blvd_199.jpg',\n",
              " 'Queens_Blvd_193.jpg',\n",
              " 'Queens_Blvd_224.jpg',\n",
              " 'Queens_Blvd_194.jpg',\n",
              " 'Queens_Blvd_213.jpg',\n",
              " 'Queens_Blvd_197.jpg',\n",
              " 'Queens_Blvd_195.jpg',\n",
              " 'Queens_Blvd_222.jpg',\n",
              " 'Bath_Ave_48.jpg',\n",
              " 'Bath_Ave_51.jpg',\n",
              " 'Queens_Blvd_229.jpg',\n",
              " 'Queens_Blvd_231.jpg',\n",
              " 'Bath_Ave_44.jpg',\n",
              " 'Bath_Ave_50.jpg',\n",
              " 'Queens_Blvd_228.jpg',\n",
              " 'Queens_Blvd_26.jpg',\n",
              " 'Bath_Ave_58.jpg',\n",
              " 'Queens_Blvd_32.jpg',\n",
              " 'Queens_Blvd_25.jpg',\n",
              " 'Bath_Ave_47.jpg',\n",
              " 'Bath_Ave_46.jpg',\n",
              " 'Queens_Blvd_24.jpg',\n",
              " 'Bath_Ave_55.jpg',\n",
              " 'Bath_Ave_43.jpg',\n",
              " 'Queens_Blvd_31.jpg',\n",
              " 'Queens_Blvd_23.jpg',\n",
              " 'Bath_Ave_56.jpg',\n",
              " 'Bath_Ave_52.jpg',\n",
              " 'Queens_Blvd_33.jpg',\n",
              " 'Bath_Ave_57.jpg',\n",
              " 'Bath_Ave_42.jpg',\n",
              " 'Bath_Ave_45.jpg',\n",
              " 'Bath_Ave_53.jpg',\n",
              " 'Bath_Ave_49.jpg',\n",
              " 'Queens_Blvd_230.jpg',\n",
              " 'Bath_Ave_65.jpg',\n",
              " 'Bath_Ave_80.jpg',\n",
              " 'Bath_Ave_71.jpg',\n",
              " 'Bath_Ave_85.jpg',\n",
              " 'Bath_Ave_86.jpg',\n",
              " 'Bath_Ave_62.jpg',\n",
              " 'Bath_Ave_63.jpg',\n",
              " 'Bath_Ave_74.jpg',\n",
              " 'Bath_Ave_67.jpg',\n",
              " 'Bath_Ave_68.jpg',\n",
              " 'Bath_Ave_72.jpg',\n",
              " 'Bath_Ave_83.jpg',\n",
              " 'Bath_Ave_73.jpg',\n",
              " 'Bath_Ave_75.jpg',\n",
              " 'Bath_Ave_81.jpg',\n",
              " 'Bath_Ave_69.jpg',\n",
              " 'Bath_Ave_70.jpg',\n",
              " 'Bath_Ave_76.jpg',\n",
              " 'Bath_Ave_59.jpg',\n",
              " 'Bath_Ave_82.jpg',\n",
              " 'Bath_Ave_61.jpg',\n",
              " 'Bath_Ave_79.jpg',\n",
              " 'Bath_Ave_84.jpg',\n",
              " 'Bath_Ave_66.jpg',\n",
              " 'Bath_Ave_77.jpg',\n",
              " 'Bath_Ave_64.jpg',\n",
              " 'Forest_Road_1.jpg',\n",
              " 'Forest_Road_11.jpg',\n",
              " 'Forest_Road_14.jpg',\n",
              " 'Forest_Road_12.jpg',\n",
              " 'Bath_Ave_90.jpg',\n",
              " 'Forest_Road_13.jpg',\n",
              " 'Bath_Ave_91.jpg',\n",
              " 'Bath_Ave_92.jpg',\n",
              " 'Bath_Ave_99.jpg',\n",
              " 'Bath_Ave_97.jpg',\n",
              " 'Bath_Ave_88.jpg',\n",
              " 'Bath_Ave_94.jpg',\n",
              " 'Bath_Ave_87.jpg',\n",
              " 'Bath_Ave_93.jpg',\n",
              " 'Bath_Ave_96.jpg',\n",
              " 'Bath_Ave_89.jpg',\n",
              " 'Bath_Ave_98.jpg',\n",
              " 'Bath_Ave_95.jpg',\n",
              " 'Bath_Ave_111.jpg',\n",
              " 'Forest_Road_10.jpg',\n",
              " 'Bath_Ave_112.jpg',\n",
              " 'Bath_Ave_138.jpg',\n",
              " 'Bath_Ave_121.jpg',\n",
              " 'Bath_Ave_127.jpg',\n",
              " 'Bath_Ave_130.jpg',\n",
              " 'Bath_Ave_131.jpg',\n",
              " 'Bath_Ave_124.jpg',\n",
              " 'Bath_Ave_113.jpg',\n",
              " 'Bath_Ave_133.jpg',\n",
              " 'Bath_Ave_126.jpg',\n",
              " 'Bath_Ave_134.jpg',\n",
              " 'Bath_Ave_132.jpg',\n",
              " 'Bath_Ave_116.jpg',\n",
              " 'Bath_Ave_123.jpg',\n",
              " 'Bath_Ave_119.jpg',\n",
              " 'Bath_Ave_125.jpg',\n",
              " 'Bath_Ave_118.jpg',\n",
              " 'Bath_Ave_122.jpg',\n",
              " 'Bath_Ave_115.jpg',\n",
              " 'Bath_Ave_117.jpg',\n",
              " 'Bath_Ave_135.jpg',\n",
              " 'Bath_Ave_114.jpg',\n",
              " 'Bath_Ave_129.jpg',\n",
              " 'Bath_Ave_139.jpg',\n",
              " 'Bath_Ave_136.jpg',\n",
              " 'Bath_Ave_120.jpg',\n",
              " 'Bath_Ave_150.jpg',\n",
              " 'Bath_Ave_155.jpg',\n",
              " 'Bath_Ave_145.jpg',\n",
              " 'Bath_Ave_144.jpg',\n",
              " 'Bath_Ave_163.jpg',\n",
              " 'Bath_Ave_162.jpg',\n",
              " 'Bath_Ave_159.jpg',\n",
              " 'Bath_Ave_170.jpg',\n",
              " 'Bath_Ave_165.jpg',\n",
              " 'Bath_Ave_156.jpg',\n",
              " 'Bath_Ave_148.jpg',\n",
              " 'Bath_Ave_149.jpg',\n",
              " 'Bath_Ave_166.jpg',\n",
              " 'Bath_Ave_153.jpg',\n",
              " 'Bath_Ave_140.jpg',\n",
              " 'Bath_Ave_158.jpg',\n",
              " 'Bath_Ave_151.jpg',\n",
              " 'Bath_Ave_146.jpg',\n",
              " 'Bath_Ave_160.jpg',\n",
              " 'Bath_Ave_157.jpg',\n",
              " 'Bath_Ave_143.jpg',\n",
              " 'Bath_Ave_152.jpg',\n",
              " 'Bath_Ave_142.jpg',\n",
              " 'Bath_Ave_141.jpg',\n",
              " 'Bath_Ave_154.jpg',\n",
              " 'Bath_Ave_190.jpg',\n",
              " 'Bath_Ave_188.jpg',\n",
              " 'Bath_Ave_194.jpg',\n",
              " 'Bath_Ave_185.jpg',\n",
              " 'Bath_Ave_180.jpg',\n",
              " 'Bath_Ave_173.jpg',\n",
              " 'Bath_Ave_181.jpg',\n",
              " 'Bath_Ave_183.jpg',\n",
              " 'Bath_Ave_186.jpg',\n",
              " 'Bath_Ave_174.jpg',\n",
              " 'Bath_Ave_192.jpg',\n",
              " 'Bath_Ave_171.jpg',\n",
              " 'Bath_Ave_193.jpg',\n",
              " 'Bath_Ave_178.jpg',\n",
              " 'Bath_Ave_177.jpg',\n",
              " 'Bath_Ave_176.jpg',\n",
              " 'Bath_Ave_179.jpg',\n",
              " 'Bath_Ave_175.jpg',\n",
              " 'Bath_Ave_191.jpg',\n",
              " 'Bath_Ave_189.jpg',\n",
              " 'Bath_Ave_172.jpg',\n",
              " 'Bath_Ave_184.jpg',\n",
              " 'Bath_Ave_182.jpg',\n",
              " 'Bath_Ave_208.jpg',\n",
              " 'Bath_Ave_198.jpg',\n",
              " 'Bath_Ave_199.jpg',\n",
              " 'Bath_Ave_215.jpg',\n",
              " 'Bath_Ave_203.jpg',\n",
              " 'Bath_Ave_211.jpg',\n",
              " 'Bath_Ave_214.jpg',\n",
              " 'Bath_Ave_210.jpg',\n",
              " 'Bath_Ave_209.jpg',\n",
              " 'Bath_Ave_200.jpg',\n",
              " 'Bath_Ave_217.jpg',\n",
              " 'Bath_Ave_204.jpg',\n",
              " 'Bath_Ave_212.jpg',\n",
              " 'Bath_Ave_213.jpg',\n",
              " 'Bath_Ave_220.jpg',\n",
              " 'Bath_Ave_216.jpg',\n",
              " 'Bath_Ave_207.jpg',\n",
              " 'Bath_Ave_195.jpg',\n",
              " 'Bath_Ave_201.jpg',\n",
              " 'Bath_Ave_205.jpg',\n",
              " 'Bath_Ave_202.jpg',\n",
              " 'Bath_Ave_197.jpg',\n",
              " 'Bath_Ave_219.jpg',\n",
              " 'Bath_Ave_218.jpg',\n",
              " 'Bath_Ave_228.jpg',\n",
              " 'Bath_Ave_229.jpg',\n",
              " '46_Ave_11.jpg',\n",
              " 'Bath_Ave_36.jpg',\n",
              " 'Bath_Ave_34.jpg',\n",
              " 'Bath_Ave_230.jpg',\n",
              " 'Bath_Ave_32.jpg',\n",
              " 'Bath_Ave_38.jpg',\n",
              " 'Bath_Ave_226.jpg',\n",
              " 'Bath_Ave_35.jpg',\n",
              " 'Bath_Ave_227.jpg',\n",
              " '46_Ave_100.jpg',\n",
              " 'Bath_Ave_221.jpg',\n",
              " 'Bath_Ave_232.jpg',\n",
              " 'Bath_Ave_231.jpg',\n",
              " 'Bath_Ave_33.jpg',\n",
              " 'Bath_Ave_225.jpg',\n",
              " '46_Ave_12.jpg',\n",
              " 'Bath_Ave_223.jpg',\n",
              " 'Bath_Ave_40.jpg',\n",
              " 'Bath_Ave_31.jpg',\n",
              " 'Bath_Ave_39.jpg',\n",
              " 'Bath_Ave_37.jpg',\n",
              " '2_Ave_32.jpg',\n",
              " '46_Ave_15.jpg',\n",
              " '2_Ave_34.jpg',\n",
              " '46_Ave_18.jpg',\n",
              " '2_Ave_28.jpg',\n",
              " '46_Ave_13.jpg',\n",
              " '2_Ave_29.jpg',\n",
              " '46_Ave_2.jpg',\n",
              " '46_Ave_14.jpg',\n",
              " '2_Ave_33.jpg',\n",
              " '46_Ave_19.jpg',\n",
              " '2_Ave_31.jpg',\n",
              " '46_Ave_23.jpg',\n",
              " '46_Ave_21.jpg',\n",
              " '46_Ave_20.jpg',\n",
              " '46_Ave_22.jpg',\n",
              " '46_Ave_16.jpg',\n",
              " '2_Ave_3.jpg',\n",
              " '46_Ave_25.jpg',\n",
              " '2_Ave_30.jpg',\n",
              " '46_Ave_17.jpg',\n",
              " '2_Ave_27.jpg',\n",
              " '46_Ave_24.jpg',\n",
              " '2_Ave_5.jpg',\n",
              " '2_Ave_44.jpg',\n",
              " '2_Ave_4.jpg',\n",
              " '2_Ave_51.jpg',\n",
              " '2_Ave_54.jpg',\n",
              " '2_Ave_36.jpg',\n",
              " '2_Ave_52.jpg',\n",
              " '2_Ave_35.jpg',\n",
              " '2_Ave_48.jpg',\n",
              " '2_Ave_38.jpg',\n",
              " '2_Ave_40.jpg',\n",
              " '2_Ave_50.jpg',\n",
              " '2_Ave_42.jpg',\n",
              " '2_Ave_45.jpg',\n",
              " '2_Ave_39.jpg',\n",
              " '2_Ave_46.jpg',\n",
              " '2_Ave_41.jpg',\n",
              " '2_Ave_37.jpg',\n",
              " '2_Ave_49.jpg',\n",
              " '2_Ave_47.jpg',\n",
              " '2_Ave_53.jpg',\n",
              " '2_Ave_65.jpg',\n",
              " '2_Ave_71.jpg',\n",
              " '2_Ave_58.jpg',\n",
              " '2_Ave_6.jpg',\n",
              " '2_Ave_69.jpg',\n",
              " '2_Ave_68.jpg',\n",
              " '2_Ave_64.jpg',\n",
              " '2_Ave_57.jpg',\n",
              " '2_Ave_63.jpg',\n",
              " '2_Ave_73.jpg',\n",
              " '2_Ave_72.jpg',\n",
              " '2_Ave_66.jpg',\n",
              " '2_Ave_55.jpg',\n",
              " '2_Ave_56.jpg',\n",
              " '2_Ave_70.jpg',\n",
              " '2_Ave_59.jpg',\n",
              " '2_Ave_61.jpg',\n",
              " '2_Ave_67.jpg',\n",
              " '2_Ave_62.jpg',\n",
              " '2_Ave_7.jpg',\n",
              " '2_Ave_93.jpg',\n",
              " '2_Ave_75.jpg',\n",
              " '2_Ave_80.jpg',\n",
              " '2_Ave_94.jpg',\n",
              " '2_Ave_77.jpg',\n",
              " '2_Ave_79.jpg',\n",
              " '2_Ave_8.jpg',\n",
              " '2_Ave_76.jpg',\n",
              " '2_Ave_81.jpg',\n",
              " '2_Ave_89.jpg',\n",
              " '2_Ave_88.jpg',\n",
              " '2_Ave_86.jpg',\n",
              " '2_Ave_9.jpg',\n",
              " '2_Ave_90.jpg',\n",
              " '2_Ave_87.jpg',\n",
              " '2_Ave_91.jpg',\n",
              " '2_Ave_74.jpg',\n",
              " '2_Ave_92.jpg',\n",
              " '2_Ave_122.jpg',\n",
              " '2_Ave_120.jpg',\n",
              " '2_Ave_121.jpg',\n",
              " '2_Ave_13.jpg',\n",
              " '2_Ave_16.jpg',\n",
              " 'Broadway_133.jpg',\n",
              " 'Broadway_162.jpg',\n",
              " 'region24.jpg',\n",
              " 'Riverside_Drive_35.jpg',\n",
              " 'region18.jpg',\n",
              " '2nd_Ave_104.jpg',\n",
              " 'Broadway_17.jpg',\n",
              " 'file121.jpg',\n",
              " 'region247.jpg',\n",
              " 'region309.jpg',\n",
              " 'Broadway_88.jpg',\n",
              " 'Broadway_224.jpg',\n",
              " 'region287.jpg',\n",
              " 'region277.jpg',\n",
              " 'Broadway_253.jpg',\n",
              " 'region188.jpg',\n",
              " '2nd_Ave_284.jpg',\n",
              " '2nd_Ave_32.jpg',\n",
              " 'file76.jpg',\n",
              " 'file107.jpg',\n",
              " '2nd_Ave_101.jpg',\n",
              " 'Broadway_496.jpg',\n",
              " 'Broadway_495.jpg',\n",
              " 'Broadway_38.jpg',\n",
              " 'Broadway_245.jpg',\n",
              " '2nd_Ave_141.jpg',\n",
              " 'Broadway_140.jpg',\n",
              " 'region78.jpg',\n",
              " 'region248.jpg',\n",
              " 'Broadway_114.jpg',\n",
              " '2nd_Ave_367.jpg',\n",
              " '2nd_Ave_321.jpg',\n",
              " 'region85.jpg',\n",
              " 'file2.jpg',\n",
              " 'file79.jpg',\n",
              " 'file82.jpg',\n",
              " 'file215.jpg',\n",
              " 'region268.jpg',\n",
              " 'file5.jpg',\n",
              " 'Broadway_209.jpg',\n",
              " 'Broadway_462.jpg',\n",
              " 'Broadway_480.jpg',\n",
              " 'Broadway_345.jpg',\n",
              " '2nd_Ave_391.jpg',\n",
              " 'Riverside_Drive_78.jpg',\n",
              " '2nd_Ave_343.jpg',\n",
              " 'Broadway_310.jpg',\n",
              " '2nd_Ave_112.jpg',\n",
              " 'Riverside_Drive_12.jpg',\n",
              " '2nd_Ave_58.jpg',\n",
              " 'region17.jpg',\n",
              " 'Broadway_311.jpg',\n",
              " 'Broadway_499.jpg',\n",
              " 'Riverside_Drive_39.jpg',\n",
              " '2nd_Ave_398.jpg',\n",
              " 'region319.jpg',\n",
              " 'Riverside_Drive_72.jpg',\n",
              " 'Riverside_Drive_141.jpg',\n",
              " 'Broadway_143.jpg',\n",
              " 'Broadway_286.jpg',\n",
              " '2nd_Ave_131.jpg',\n",
              " 'Broadway_407.jpg',\n",
              " 'Broadway_76.jpg',\n",
              " 'Broadway_332.jpg',\n",
              " '2nd_Ave_80.jpg',\n",
              " 'file134.jpg',\n",
              " 'Riverside_Drive_133.jpg',\n",
              " 'Broadway_13.jpg',\n",
              " 'file126.jpg',\n",
              " 'Broadway_232.jpg',\n",
              " 'Broadway_331.jpg',\n",
              " 'Broadway_110.jpg',\n",
              " 'file182.jpg',\n",
              " '2nd_Ave_359.jpg',\n",
              " 'Riverside_Drive_21.jpg',\n",
              " 'file110.jpg',\n",
              " '2nd_Ave_72.jpg',\n",
              " 'Riverside_Drive_151.jpg',\n",
              " 'Riverside_Drive_41.jpg',\n",
              " 'file157.jpg',\n",
              " ...]"
            ]
          },
          "metadata": {
            "tags": []
          },
          "execution_count": 6
        }
      ]
    },
    {
      "cell_type": "code",
      "metadata": {
        "id": "b5Y3YhvODgQW",
        "colab_type": "code",
        "colab": {}
      },
      "source": [
        "logging.getLogger().setLevel(logging.INFO)"
      ],
      "execution_count": null,
      "outputs": []
    },
    {
      "cell_type": "code",
      "metadata": {
        "id": "m9pHt1xtDjtu",
        "colab_type": "code",
        "colab": {
          "base_uri": "https://localhost:8080/",
          "height": 411
        },
        "outputId": "c51f7887-5751-4bf5-aca3-136f9a33435d"
      },
      "source": [
        "df = pd.read_json(\"/content/drive/My Drive/5_corridors_train_val_data/via_region_data_train.json\", orient='rows').T\n",
        "df.head(5)\n",
        "df.drop([\"fileref\",\"file_attributes\",\"size\"], axis = 1, inplace = True) \n",
        "df.head(93)"
      ],
      "execution_count": null,
      "outputs": [
        {
          "output_type": "execute_result",
          "data": {
            "text/html": [
              "<div>\n",
              "<style scoped>\n",
              "    .dataframe tbody tr th:only-of-type {\n",
              "        vertical-align: middle;\n",
              "    }\n",
              "\n",
              "    .dataframe tbody tr th {\n",
              "        vertical-align: top;\n",
              "    }\n",
              "\n",
              "    .dataframe thead th {\n",
              "        text-align: right;\n",
              "    }\n",
              "</style>\n",
              "<table border=\"1\" class=\"dataframe\">\n",
              "  <thead>\n",
              "    <tr style=\"text-align: right;\">\n",
              "      <th></th>\n",
              "      <th>filename</th>\n",
              "      <th>regions</th>\n",
              "    </tr>\n",
              "  </thead>\n",
              "  <tbody>\n",
              "    <tr>\n",
              "      <th>South_St_525.jpg</th>\n",
              "      <td>South_St_525.jpg</td>\n",
              "      <td>{'6': {'shape_attributes': {'name': 'polygon',...</td>\n",
              "    </tr>\n",
              "    <tr>\n",
              "      <th>7_Ave_S_422.jpg</th>\n",
              "      <td>7_Ave_S_422.jpg</td>\n",
              "      <td>{'0': {'shape_attributes': {'name': 'polygon',...</td>\n",
              "    </tr>\n",
              "    <tr>\n",
              "      <th>7_Ave_S_172.jpg</th>\n",
              "      <td>7_Ave_S_172.jpg</td>\n",
              "      <td>{'0': {'shape_attributes': {'name': 'polygon',...</td>\n",
              "    </tr>\n",
              "    <tr>\n",
              "      <th>Yellowstone_Blvd_144.jpg</th>\n",
              "      <td>Yellowstone_Blvd_144.jpg</td>\n",
              "      <td>{'2': {'shape_attributes': {'name': 'polygon',...</td>\n",
              "    </tr>\n",
              "    <tr>\n",
              "      <th>7_Ave_S_106.jpg</th>\n",
              "      <td>7_Ave_S_106.jpg</td>\n",
              "      <td>{'0': {'shape_attributes': {'name': 'polygon',...</td>\n",
              "    </tr>\n",
              "    <tr>\n",
              "      <th>...</th>\n",
              "      <td>...</td>\n",
              "      <td>...</td>\n",
              "    </tr>\n",
              "    <tr>\n",
              "      <th>2nd_Ave_361.jpg</th>\n",
              "      <td>2nd_Ave_361.jpg</td>\n",
              "      <td>{'0': {'shape_attributes': {'name': 'polygon',...</td>\n",
              "    </tr>\n",
              "    <tr>\n",
              "      <th>7_Ave_S_28.jpg</th>\n",
              "      <td>7_Ave_S_28.jpg</td>\n",
              "      <td>{'0': {'shape_attributes': {'name': 'polygon',...</td>\n",
              "    </tr>\n",
              "    <tr>\n",
              "      <th>7_Ave_S_148.jpg</th>\n",
              "      <td>7_Ave_S_148.jpg</td>\n",
              "      <td>{'0': {'shape_attributes': {'name': 'polygon',...</td>\n",
              "    </tr>\n",
              "    <tr>\n",
              "      <th>2nd_Ave_1.jpg</th>\n",
              "      <td>2nd_Ave_1.jpg</td>\n",
              "      <td>{'0': {'shape_attributes': {'name': 'polygon',...</td>\n",
              "    </tr>\n",
              "    <tr>\n",
              "      <th>South_St_187.jpg</th>\n",
              "      <td>South_St_187.jpg</td>\n",
              "      <td>{'0': {'shape_attributes': {'name': 'polygon',...</td>\n",
              "    </tr>\n",
              "  </tbody>\n",
              "</table>\n",
              "<p>93 rows × 2 columns</p>\n",
              "</div>"
            ],
            "text/plain": [
              "                                          filename                                            regions\n",
              "South_St_525.jpg                  South_St_525.jpg  {'6': {'shape_attributes': {'name': 'polygon',...\n",
              "7_Ave_S_422.jpg                    7_Ave_S_422.jpg  {'0': {'shape_attributes': {'name': 'polygon',...\n",
              "7_Ave_S_172.jpg                    7_Ave_S_172.jpg  {'0': {'shape_attributes': {'name': 'polygon',...\n",
              "Yellowstone_Blvd_144.jpg  Yellowstone_Blvd_144.jpg  {'2': {'shape_attributes': {'name': 'polygon',...\n",
              "7_Ave_S_106.jpg                    7_Ave_S_106.jpg  {'0': {'shape_attributes': {'name': 'polygon',...\n",
              "...                                            ...                                                ...\n",
              "2nd_Ave_361.jpg                    2nd_Ave_361.jpg  {'0': {'shape_attributes': {'name': 'polygon',...\n",
              "7_Ave_S_28.jpg                      7_Ave_S_28.jpg  {'0': {'shape_attributes': {'name': 'polygon',...\n",
              "7_Ave_S_148.jpg                    7_Ave_S_148.jpg  {'0': {'shape_attributes': {'name': 'polygon',...\n",
              "2nd_Ave_1.jpg                        2nd_Ave_1.jpg  {'0': {'shape_attributes': {'name': 'polygon',...\n",
              "South_St_187.jpg                  South_St_187.jpg  {'0': {'shape_attributes': {'name': 'polygon',...\n",
              "\n",
              "[93 rows x 2 columns]"
            ]
          },
          "metadata": {
            "tags": []
          },
          "execution_count": 17
        }
      ]
    },
    {
      "cell_type": "code",
      "metadata": {
        "id": "iFwrYH9EDv3r",
        "colab_type": "code",
        "colab": {
          "base_uri": "https://localhost:8080/",
          "height": 35
        },
        "outputId": "ce52b41c-8dc7-4d03-fa32-22aa4f6c4fb3"
      },
      "source": [
        "df.shape"
      ],
      "execution_count": null,
      "outputs": [
        {
          "output_type": "execute_result",
          "data": {
            "text/plain": [
              "(847, 2)"
            ]
          },
          "metadata": {
            "tags": []
          },
          "execution_count": 18
        }
      ]
    },
    {
      "cell_type": "code",
      "metadata": {
        "id": "D056muogDwSN",
        "colab_type": "code",
        "colab": {}
      },
      "source": [
        "file_names =list(df['filename'])\n",
        "regions = list(df['regions'])"
      ],
      "execution_count": null,
      "outputs": []
    },
    {
      "cell_type": "code",
      "metadata": {
        "id": "IU53KVkbD9oN",
        "colab_type": "code",
        "colab": {
          "base_uri": "https://localhost:8080/",
          "height": 88
        },
        "outputId": "2546e5ef-0993-4a40-f5c0-97627e69a78f"
      },
      "source": [
        "regions[92]"
      ],
      "execution_count": null,
      "outputs": [
        {
          "output_type": "execute_result",
          "data": {
            "text/plain": [
              "{'0': {'region_attributes': {'class': 1},\n",
              "  'shape_attributes': {'all_points_x': [242, 828, 961, 963, 92, 242],\n",
              "   'all_points_y': [312, 307, 343, 356, 401, 312],\n",
              "   'name': 'polygon'}}}"
            ]
          },
          "metadata": {
            "tags": []
          },
          "execution_count": 20
        }
      ]
    },
    {
      "cell_type": "code",
      "metadata": {
        "id": "TZbyUQjSD-Jq",
        "colab_type": "code",
        "colab": {}
      },
      "source": [
        "def poly2mask(blobs_for_current_image, c, path_to_masks_folder, h, w,objects):\n",
        "    mask = np.zeros((h, w))\n",
        "    for j in range(len(blobs_for_current_image)):\n",
        "        fill_row_coords, fill_col_coords = draw.polygon(np.array(blobs_for_current_image[j][1]), np.array(blobs_for_current_image[j][0]))\n",
        "        mask[fill_row_coords, fill_col_coords] = 1\n",
        "    io.imsave(path_to_masks_folder + \"/\" + str(objects), mask)"
      ],
      "execution_count": null,
      "outputs": []
    },
    {
      "cell_type": "code",
      "metadata": {
        "id": "Qqk6-AHlFhSn",
        "colab_type": "code",
        "colab": {
          "base_uri": "https://localhost:8080/",
          "height": 1000
        },
        "outputId": "77710f66-7802-4383-acaa-87cdc824f74a"
      },
      "source": [
        "def convert_jason_to_masks(path_to_annotation_json, path_to_original_images_folder, path_to_masks_folder):\n",
        "    # make sure everything is setup.\n",
        "    if (not os.path.isdir(path_to_original_images_folder)):\n",
        "        logging.exception(\n",
        "            \"Please specify a valid directory path to download images, \" + path_to_original_images_folder + \" doesn't exist\")\n",
        "        return\n",
        "    print('check 1...........:')\n",
        "    if (not os.path.isdir(path_to_masks_folder)):\n",
        "        logging.exception(\n",
        "            \"Please specify a valid directory path to write mask files, \" + path_to_masks_folder + \" doesn't exist\")\n",
        "        return\n",
        "    print('check 2...........:')\n",
        "    if (not os.path.exists(path_to_annotation_json)):\n",
        "        logging.exception(\n",
        "            \"Please specify a valid path to dataturks JSON output file, \" + path_to_dataturks_annotation_json + \" doesn't exist\")\n",
        "        return\n",
        "    print('check 3...........:')\n",
        "\n",
        "    c = 0\n",
        "    index= 0\n",
        "    for objects in file_names:\n",
        "#         blobs = []\n",
        "#         classes = {}\n",
        "        height=768\n",
        "        width = 1366\n",
        "        \n",
        "        \n",
        "        annotations = regions[index]\n",
        "        index+=1\n",
        "\n",
        "       \n",
        "        \n",
        "        \n",
        "        keys =[]\n",
        "        for key in annotations:\n",
        "            keys.append(key)\n",
        "        blobs_for_current_image = []\n",
        "        for i in keys:\n",
        "            x = annotations[str(i)]['shape_attributes']['all_points_x']\n",
        "            y = annotations[str(i)]['shape_attributes']['all_points_y']\n",
        "            label = annotations[str(i)]['region_attributes']['class']\n",
        "#             classes.append(label)\n",
        "            # print(blobs_for_current_image)\n",
        "            blobs_for_current_image.append([x,y,height,width,label])\n",
        "\n",
        "#         blobs.append(blobs_for_current_image)\n",
        "#         print(blobs[0])    \n",
        "#         print('xxxxxxxxxxxxxxxxxxxxxxx',x)   \n",
        "#         print(objects)\n",
        "        print('image name::  ',objects)\n",
        "        poly2mask(blobs_for_current_image, c, path_to_masks_folder, height,width,objects)\n",
        "        c += 1\n",
        "\n",
        "convert_jason_to_masks('/content/drive/My Drive/5_corridors_train_val_data/via_region_data_train.json', '/content/drive/My Drive/5_corridors_train_val_data/train-20200530T092227Z-001/train', '/content/drive/My Drive/5_corridors_train_val_data/train-20200530T092227Z-001/mask')"
      ],
      "execution_count": null,
      "outputs": [
        {
          "output_type": "stream",
          "text": [
            "/usr/local/lib/python3.6/dist-packages/ipykernel_launcher.py:6: UserWarning: /content/drive/My Drive/5_corridors_train_val_data/train-20200530T092227Z-001/mask/South_St_525.jpg is a low contrast image\n",
            "  \n",
            "WARNING:root:Lossy conversion from float64 to uint8. Range [0, 1]. Convert image to uint8 prior to saving to suppress this warning.\n",
            "WARNING:root:Lossy conversion from float64 to uint8. Range [0, 1]. Convert image to uint8 prior to saving to suppress this warning.\n"
          ],
          "name": "stderr"
        },
        {
          "output_type": "stream",
          "text": [
            "check 1...........:\n",
            "check 2...........:\n",
            "check 3...........:\n",
            "image name::   South_St_525.jpg\n",
            "image name::   7_Ave_S_422.jpg\n",
            "image name::   7_Ave_S_172.jpg\n"
          ],
          "name": "stdout"
        },
        {
          "output_type": "stream",
          "text": [
            "WARNING:root:Lossy conversion from float64 to uint8. Range [0, 1]. Convert image to uint8 prior to saving to suppress this warning.\n",
            "WARNING:root:Lossy conversion from float64 to uint8. Range [0, 1]. Convert image to uint8 prior to saving to suppress this warning.\n",
            "WARNING:root:Lossy conversion from float64 to uint8. Range [0, 1]. Convert image to uint8 prior to saving to suppress this warning.\n"
          ],
          "name": "stderr"
        },
        {
          "output_type": "stream",
          "text": [
            "image name::   Yellowstone_Blvd_144.jpg\n",
            "image name::   7_Ave_S_106.jpg\n",
            "image name::   7_Ave_S_300.jpg\n"
          ],
          "name": "stdout"
        },
        {
          "output_type": "stream",
          "text": [
            "WARNING:root:Lossy conversion from float64 to uint8. Range [0, 1]. Convert image to uint8 prior to saving to suppress this warning.\n",
            "WARNING:root:Lossy conversion from float64 to uint8. Range [0, 1]. Convert image to uint8 prior to saving to suppress this warning.\n",
            "WARNING:root:Lossy conversion from float64 to uint8. Range [0, 1]. Convert image to uint8 prior to saving to suppress this warning.\n",
            "/usr/local/lib/python3.6/dist-packages/ipykernel_launcher.py:6: UserWarning: /content/drive/My Drive/5_corridors_train_val_data/train-20200530T092227Z-001/mask/2nd_Ave_23.jpg is a low contrast image\n",
            "  \n",
            "WARNING:root:Lossy conversion from float64 to uint8. Range [0, 1]. Convert image to uint8 prior to saving to suppress this warning.\n",
            "WARNING:root:Lossy conversion from float64 to uint8. Range [0, 1]. Convert image to uint8 prior to saving to suppress this warning.\n"
          ],
          "name": "stderr"
        },
        {
          "output_type": "stream",
          "text": [
            "image name::   7_Ave_S_388.jpg\n",
            "image name::   7_Ave_S_305.jpg\n",
            "image name::   2nd_Ave_23.jpg\n",
            "image name::   South_St_890.jpg\n"
          ],
          "name": "stdout"
        },
        {
          "output_type": "stream",
          "text": [
            "WARNING:root:Lossy conversion from float64 to uint8. Range [0, 1]. Convert image to uint8 prior to saving to suppress this warning.\n",
            "/usr/local/lib/python3.6/dist-packages/ipykernel_launcher.py:6: UserWarning: /content/drive/My Drive/5_corridors_train_val_data/train-20200530T092227Z-001/mask/7_Ave_S_60.jpg is a low contrast image\n",
            "  \n",
            "WARNING:root:Lossy conversion from float64 to uint8. Range [0, 1]. Convert image to uint8 prior to saving to suppress this warning.\n",
            "WARNING:root:Lossy conversion from float64 to uint8. Range [0, 1]. Convert image to uint8 prior to saving to suppress this warning.\n",
            "WARNING:root:Lossy conversion from float64 to uint8. Range [0, 1]. Convert image to uint8 prior to saving to suppress this warning.\n"
          ],
          "name": "stderr"
        },
        {
          "output_type": "stream",
          "text": [
            "image name::   South_St_672.jpg\n",
            "image name::   7_Ave_S_60.jpg\n",
            "image name::   7_Ave_S_439.jpg\n",
            "image name::   South_St_5.jpg\n"
          ],
          "name": "stdout"
        },
        {
          "output_type": "stream",
          "text": [
            "/usr/local/lib/python3.6/dist-packages/ipykernel_launcher.py:6: UserWarning: /content/drive/My Drive/5_corridors_train_val_data/train-20200530T092227Z-001/mask/43rd_Skillman_222.jpg is a low contrast image\n",
            "  \n",
            "WARNING:root:Lossy conversion from float64 to uint8. Range [0, 1]. Convert image to uint8 prior to saving to suppress this warning.\n",
            "WARNING:root:Lossy conversion from float64 to uint8. Range [0, 1]. Convert image to uint8 prior to saving to suppress this warning.\n"
          ],
          "name": "stderr"
        },
        {
          "output_type": "stream",
          "text": [
            "image name::   43rd_Skillman_222.jpg\n",
            "image name::   7_Ave_S_256.jpg\n",
            "image name::   2nd_Ave_160.jpg\n"
          ],
          "name": "stdout"
        },
        {
          "output_type": "stream",
          "text": [
            "WARNING:root:Lossy conversion from float64 to uint8. Range [0, 1]. Convert image to uint8 prior to saving to suppress this warning.\n",
            "/usr/local/lib/python3.6/dist-packages/ipykernel_launcher.py:6: UserWarning: /content/drive/My Drive/5_corridors_train_val_data/train-20200530T092227Z-001/mask/South_St_12.jpg is a low contrast image\n",
            "  \n",
            "WARNING:root:Lossy conversion from float64 to uint8. Range [0, 1]. Convert image to uint8 prior to saving to suppress this warning.\n",
            "WARNING:root:Lossy conversion from float64 to uint8. Range [0, 1]. Convert image to uint8 prior to saving to suppress this warning.\n",
            "WARNING:root:Lossy conversion from float64 to uint8. Range [0, 1]. Convert image to uint8 prior to saving to suppress this warning.\n",
            "WARNING:root:Lossy conversion from float64 to uint8. Range [0, 1]. Convert image to uint8 prior to saving to suppress this warning.\n"
          ],
          "name": "stderr"
        },
        {
          "output_type": "stream",
          "text": [
            "image name::   South_St_12.jpg\n",
            "image name::   Forest_Road_37.jpg\n",
            "image name::   2nd_Ave_6.jpg\n",
            "image name::   2nd_Ave_353.jpg\n"
          ],
          "name": "stdout"
        },
        {
          "output_type": "stream",
          "text": [
            "/usr/local/lib/python3.6/dist-packages/ipykernel_launcher.py:6: UserWarning: /content/drive/My Drive/5_corridors_train_val_data/train-20200530T092227Z-001/mask/Yellowstone_Blvd_205.jpg is a low contrast image\n",
            "  \n",
            "WARNING:root:Lossy conversion from float64 to uint8. Range [0, 1]. Convert image to uint8 prior to saving to suppress this warning.\n",
            "/usr/local/lib/python3.6/dist-packages/ipykernel_launcher.py:6: UserWarning: /content/drive/My Drive/5_corridors_train_val_data/train-20200530T092227Z-001/mask/7_Ave_S_198.jpg is a low contrast image\n",
            "  \n",
            "WARNING:root:Lossy conversion from float64 to uint8. Range [0, 1]. Convert image to uint8 prior to saving to suppress this warning.\n",
            "WARNING:root:Lossy conversion from float64 to uint8. Range [0, 1]. Convert image to uint8 prior to saving to suppress this warning.\n",
            "/usr/local/lib/python3.6/dist-packages/ipykernel_launcher.py:6: UserWarning: /content/drive/My Drive/5_corridors_train_val_data/train-20200530T092227Z-001/mask/7_Ave_S_381.jpg is a low contrast image\n",
            "  \n",
            "WARNING:root:Lossy conversion from float64 to uint8. Range [0, 1]. Convert image to uint8 prior to saving to suppress this warning.\n"
          ],
          "name": "stderr"
        },
        {
          "output_type": "stream",
          "text": [
            "image name::   Yellowstone_Blvd_205.jpg\n",
            "image name::   7_Ave_S_198.jpg\n",
            "image name::   South_St_884.jpg\n",
            "image name::   7_Ave_S_381.jpg\n",
            "image name::   Yellowstone_Blvd_299.jpg\n"
          ],
          "name": "stdout"
        },
        {
          "output_type": "stream",
          "text": [
            "WARNING:root:Lossy conversion from float64 to uint8. Range [0, 1]. Convert image to uint8 prior to saving to suppress this warning.\n",
            "WARNING:root:Lossy conversion from float64 to uint8. Range [0, 1]. Convert image to uint8 prior to saving to suppress this warning.\n",
            "WARNING:root:Lossy conversion from float64 to uint8. Range [0, 1]. Convert image to uint8 prior to saving to suppress this warning.\n",
            "/usr/local/lib/python3.6/dist-packages/ipykernel_launcher.py:6: UserWarning: /content/drive/My Drive/5_corridors_train_val_data/train-20200530T092227Z-001/mask/Queens_Blvd_137.jpg is a low contrast image\n",
            "  \n",
            "WARNING:root:Lossy conversion from float64 to uint8. Range [0, 1]. Convert image to uint8 prior to saving to suppress this warning.\n"
          ],
          "name": "stderr"
        },
        {
          "output_type": "stream",
          "text": [
            "image name::   2_Ave_36.jpg\n",
            "image name::   2nd_Ave_283.jpg\n",
            "image name::   Queens_Blvd_137.jpg\n"
          ],
          "name": "stdout"
        },
        {
          "output_type": "stream",
          "text": [
            "/usr/local/lib/python3.6/dist-packages/ipykernel_launcher.py:6: UserWarning: /content/drive/My Drive/5_corridors_train_val_data/train-20200530T092227Z-001/mask/7_Ave_S_313.jpg is a low contrast image\n",
            "  \n",
            "WARNING:root:Lossy conversion from float64 to uint8. Range [0, 1]. Convert image to uint8 prior to saving to suppress this warning.\n",
            "/usr/local/lib/python3.6/dist-packages/ipykernel_launcher.py:6: UserWarning: /content/drive/My Drive/5_corridors_train_val_data/train-20200530T092227Z-001/mask/South_St_669.jpg is a low contrast image\n",
            "  \n",
            "WARNING:root:Lossy conversion from float64 to uint8. Range [0, 1]. Convert image to uint8 prior to saving to suppress this warning.\n",
            "/usr/local/lib/python3.6/dist-packages/ipykernel_launcher.py:6: UserWarning: /content/drive/My Drive/5_corridors_train_val_data/train-20200530T092227Z-001/mask/2nd_Ave_110.jpg is a low contrast image\n",
            "  \n",
            "WARNING:root:Lossy conversion from float64 to uint8. Range [0, 1]. Convert image to uint8 prior to saving to suppress this warning.\n",
            "WARNING:root:Lossy conversion from float64 to uint8. Range [0, 1]. Convert image to uint8 prior to saving to suppress this warning.\n"
          ],
          "name": "stderr"
        },
        {
          "output_type": "stream",
          "text": [
            "image name::   7_Ave_S_313.jpg\n",
            "image name::   South_St_669.jpg\n",
            "image name::   2nd_Ave_110.jpg\n",
            "image name::   7_Ave_S_255.jpg\n",
            "image name::   South_St_214.jpg\n"
          ],
          "name": "stdout"
        },
        {
          "output_type": "stream",
          "text": [
            "WARNING:root:Lossy conversion from float64 to uint8. Range [0, 1]. Convert image to uint8 prior to saving to suppress this warning.\n",
            "/usr/local/lib/python3.6/dist-packages/ipykernel_launcher.py:6: UserWarning: /content/drive/My Drive/5_corridors_train_val_data/train-20200530T092227Z-001/mask/Yellowstone_Blvd_174.jpg is a low contrast image\n",
            "  \n",
            "WARNING:root:Lossy conversion from float64 to uint8. Range [0, 1]. Convert image to uint8 prior to saving to suppress this warning.\n",
            "/usr/local/lib/python3.6/dist-packages/ipykernel_launcher.py:6: UserWarning: /content/drive/My Drive/5_corridors_train_val_data/train-20200530T092227Z-001/mask/7_Ave_S_177.jpg is a low contrast image\n",
            "  \n",
            "WARNING:root:Lossy conversion from float64 to uint8. Range [0, 1]. Convert image to uint8 prior to saving to suppress this warning.\n"
          ],
          "name": "stderr"
        },
        {
          "output_type": "stream",
          "text": [
            "image name::   Yellowstone_Blvd_174.jpg\n",
            "image name::   7_Ave_S_177.jpg\n",
            "image name::   46_Ave_100.jpg\n"
          ],
          "name": "stdout"
        },
        {
          "output_type": "stream",
          "text": [
            "WARNING:root:Lossy conversion from float64 to uint8. Range [0, 1]. Convert image to uint8 prior to saving to suppress this warning.\n",
            "WARNING:root:Lossy conversion from float64 to uint8. Range [0, 1]. Convert image to uint8 prior to saving to suppress this warning.\n",
            "/usr/local/lib/python3.6/dist-packages/ipykernel_launcher.py:6: UserWarning: /content/drive/My Drive/5_corridors_train_val_data/train-20200530T092227Z-001/mask/Yellowstone_Blvd_256.jpg is a low contrast image\n",
            "  \n",
            "WARNING:root:Lossy conversion from float64 to uint8. Range [0, 1]. Convert image to uint8 prior to saving to suppress this warning.\n",
            "WARNING:root:Lossy conversion from float64 to uint8. Range [0, 1]. Convert image to uint8 prior to saving to suppress this warning.\n"
          ],
          "name": "stderr"
        },
        {
          "output_type": "stream",
          "text": [
            "image name::   2nd_Ave_138.jpg\n",
            "image name::   Yellowstone_Blvd_256.jpg\n",
            "image name::   7_Ave_S_257.jpg\n",
            "image name::   South_St_135.jpg\n"
          ],
          "name": "stdout"
        },
        {
          "output_type": "stream",
          "text": [
            "/usr/local/lib/python3.6/dist-packages/ipykernel_launcher.py:6: UserWarning: /content/drive/My Drive/5_corridors_train_val_data/train-20200530T092227Z-001/mask/South_St_135.jpg is a low contrast image\n",
            "  \n",
            "WARNING:root:Lossy conversion from float64 to uint8. Range [0, 1]. Convert image to uint8 prior to saving to suppress this warning.\n",
            "WARNING:root:Lossy conversion from float64 to uint8. Range [0, 1]. Convert image to uint8 prior to saving to suppress this warning.\n"
          ],
          "name": "stderr"
        },
        {
          "output_type": "stream",
          "text": [
            "image name::   2nd_Ave_26.jpg\n",
            "image name::   7_Ave_S_192.jpg\n"
          ],
          "name": "stdout"
        },
        {
          "output_type": "stream",
          "text": [
            "WARNING:root:Lossy conversion from float64 to uint8. Range [0, 1]. Convert image to uint8 prior to saving to suppress this warning.\n",
            "WARNING:root:Lossy conversion from float64 to uint8. Range [0, 1]. Convert image to uint8 prior to saving to suppress this warning.\n",
            "WARNING:root:Lossy conversion from float64 to uint8. Range [0, 1]. Convert image to uint8 prior to saving to suppress this warning.\n",
            "WARNING:root:Lossy conversion from float64 to uint8. Range [0, 1]. Convert image to uint8 prior to saving to suppress this warning.\n"
          ],
          "name": "stderr"
        },
        {
          "output_type": "stream",
          "text": [
            "image name::   2nd_Ave_375.jpg\n",
            "image name::   7_Ave_S_306.jpg\n",
            "image name::   7_Ave_S_425.jpg\n"
          ],
          "name": "stdout"
        },
        {
          "output_type": "stream",
          "text": [
            "WARNING:root:Lossy conversion from float64 to uint8. Range [0, 1]. Convert image to uint8 prior to saving to suppress this warning.\n",
            "WARNING:root:Lossy conversion from float64 to uint8. Range [0, 1]. Convert image to uint8 prior to saving to suppress this warning.\n",
            "/usr/local/lib/python3.6/dist-packages/ipykernel_launcher.py:6: UserWarning: /content/drive/My Drive/5_corridors_train_val_data/train-20200530T092227Z-001/mask/Yellowstone_Blvd_306.jpg is a low contrast image\n",
            "  \n",
            "WARNING:root:Lossy conversion from float64 to uint8. Range [0, 1]. Convert image to uint8 prior to saving to suppress this warning.\n",
            "WARNING:root:Lossy conversion from float64 to uint8. Range [0, 1]. Convert image to uint8 prior to saving to suppress this warning.\n"
          ],
          "name": "stderr"
        },
        {
          "output_type": "stream",
          "text": [
            "image name::   2_Ave_52.jpg\n",
            "image name::   South_St_634.jpg\n",
            "image name::   Yellowstone_Blvd_306.jpg\n",
            "image name::   South_St_938.jpg\n",
            "image name::   2nd_Ave_433.jpg\n"
          ],
          "name": "stdout"
        },
        {
          "output_type": "stream",
          "text": [
            "WARNING:root:Lossy conversion from float64 to uint8. Range [0, 1]. Convert image to uint8 prior to saving to suppress this warning.\n",
            "/usr/local/lib/python3.6/dist-packages/ipykernel_launcher.py:6: UserWarning: /content/drive/My Drive/5_corridors_train_val_data/train-20200530T092227Z-001/mask/Queens_Blvd_6.jpg is a low contrast image\n",
            "  \n",
            "WARNING:root:Lossy conversion from float64 to uint8. Range [0, 1]. Convert image to uint8 prior to saving to suppress this warning.\n",
            "/usr/local/lib/python3.6/dist-packages/ipykernel_launcher.py:6: UserWarning: /content/drive/My Drive/5_corridors_train_val_data/train-20200530T092227Z-001/mask/46_Ave_11.jpg is a low contrast image\n",
            "  \n",
            "WARNING:root:Lossy conversion from float64 to uint8. Range [0, 1]. Convert image to uint8 prior to saving to suppress this warning.\n",
            "/usr/local/lib/python3.6/dist-packages/ipykernel_launcher.py:6: UserWarning: /content/drive/My Drive/5_corridors_train_val_data/train-20200530T092227Z-001/mask/7_Ave_S_208.jpg is a low contrast image\n",
            "  \n",
            "WARNING:root:Lossy conversion from float64 to uint8. Range [0, 1]. Convert image to uint8 prior to saving to suppress this warning.\n",
            "/usr/local/lib/python3.6/dist-packages/ipykernel_launcher.py:6: UserWarning: /content/drive/My Drive/5_corridors_train_val_data/train-20200530T092227Z-001/mask/7_Ave_S_318.jpg is a low contrast image\n",
            "  \n",
            "WARNING:root:Lossy conversion from float64 to uint8. Range [0, 1]. Convert image to uint8 prior to saving to suppress this warning.\n",
            "WARNING:root:Lossy conversion from float64 to uint8. Range [0, 1]. Convert image to uint8 prior to saving to suppress this warning.\n"
          ],
          "name": "stderr"
        },
        {
          "output_type": "stream",
          "text": [
            "image name::   Queens_Blvd_6.jpg\n",
            "image name::   46_Ave_11.jpg\n",
            "image name::   7_Ave_S_208.jpg\n",
            "image name::   7_Ave_S_318.jpg\n",
            "image name::   7_Ave_S_231.jpg\n"
          ],
          "name": "stdout"
        },
        {
          "output_type": "stream",
          "text": [
            "WARNING:root:Lossy conversion from float64 to uint8. Range [0, 1]. Convert image to uint8 prior to saving to suppress this warning.\n",
            "/usr/local/lib/python3.6/dist-packages/ipykernel_launcher.py:6: UserWarning: /content/drive/My Drive/5_corridors_train_val_data/train-20200530T092227Z-001/mask/2nd_Ave_349.jpg is a low contrast image\n",
            "  \n",
            "WARNING:root:Lossy conversion from float64 to uint8. Range [0, 1]. Convert image to uint8 prior to saving to suppress this warning.\n",
            "/usr/local/lib/python3.6/dist-packages/ipykernel_launcher.py:6: UserWarning: /content/drive/My Drive/5_corridors_train_val_data/train-20200530T092227Z-001/mask/7_Ave_S_249.jpg is a low contrast image\n",
            "  \n",
            "WARNING:root:Lossy conversion from float64 to uint8. Range [0, 1]. Convert image to uint8 prior to saving to suppress this warning.\n",
            "WARNING:root:Lossy conversion from float64 to uint8. Range [0, 1]. Convert image to uint8 prior to saving to suppress this warning.\n",
            "/usr/local/lib/python3.6/dist-packages/ipykernel_launcher.py:6: UserWarning: /content/drive/My Drive/5_corridors_train_val_data/train-20200530T092227Z-001/mask/7_Ave_S_339.jpg is a low contrast image\n",
            "  \n",
            "WARNING:root:Lossy conversion from float64 to uint8. Range [0, 1]. Convert image to uint8 prior to saving to suppress this warning.\n"
          ],
          "name": "stderr"
        },
        {
          "output_type": "stream",
          "text": [
            "image name::   Forest_Road_36.jpg\n",
            "image name::   2nd_Ave_349.jpg\n",
            "image name::   7_Ave_S_249.jpg\n",
            "image name::   South_St_406.jpg\n",
            "image name::   7_Ave_S_339.jpg\n"
          ],
          "name": "stdout"
        },
        {
          "output_type": "stream",
          "text": [
            "WARNING:root:Lossy conversion from float64 to uint8. Range [0, 1]. Convert image to uint8 prior to saving to suppress this warning.\n",
            "/usr/local/lib/python3.6/dist-packages/ipykernel_launcher.py:6: UserWarning: /content/drive/My Drive/5_corridors_train_val_data/train-20200530T092227Z-001/mask/7_Ave_S_264.jpg is a low contrast image\n",
            "  \n",
            "WARNING:root:Lossy conversion from float64 to uint8. Range [0, 1]. Convert image to uint8 prior to saving to suppress this warning.\n"
          ],
          "name": "stderr"
        },
        {
          "output_type": "stream",
          "text": [
            "image name::   Yellowstone_Blvd_258.jpg\n",
            "image name::   7_Ave_S_264.jpg\n",
            "image name::   2nd_Ave_117.jpg\n"
          ],
          "name": "stdout"
        },
        {
          "output_type": "stream",
          "text": [
            "WARNING:root:Lossy conversion from float64 to uint8. Range [0, 1]. Convert image to uint8 prior to saving to suppress this warning.\n"
          ],
          "name": "stderr"
        },
        {
          "output_type": "stream",
          "text": [
            "image name::   2nd_Ave_152.jpg\n"
          ],
          "name": "stdout"
        },
        {
          "output_type": "stream",
          "text": [
            "WARNING:root:Lossy conversion from float64 to uint8. Range [0, 1]. Convert image to uint8 prior to saving to suppress this warning.\n",
            "/usr/local/lib/python3.6/dist-packages/ipykernel_launcher.py:6: UserWarning: /content/drive/My Drive/5_corridors_train_val_data/train-20200530T092227Z-001/mask/2nd_Ave_276.jpg is a low contrast image\n",
            "  \n",
            "WARNING:root:Lossy conversion from float64 to uint8. Range [0, 1]. Convert image to uint8 prior to saving to suppress this warning.\n",
            "/usr/local/lib/python3.6/dist-packages/ipykernel_launcher.py:6: UserWarning: /content/drive/My Drive/5_corridors_train_val_data/train-20200530T092227Z-001/mask/7_Ave_S_18.jpg is a low contrast image\n",
            "  \n",
            "WARNING:root:Lossy conversion from float64 to uint8. Range [0, 1]. Convert image to uint8 prior to saving to suppress this warning.\n",
            "WARNING:root:Lossy conversion from float64 to uint8. Range [0, 1]. Convert image to uint8 prior to saving to suppress this warning.\n",
            "WARNING:root:Lossy conversion from float64 to uint8. Range [0, 1]. Convert image to uint8 prior to saving to suppress this warning.\n"
          ],
          "name": "stderr"
        },
        {
          "output_type": "stream",
          "text": [
            "image name::   2nd_Ave_276.jpg\n",
            "image name::   7_Ave_S_18.jpg\n",
            "image name::   2nd_Ave_16.jpg\n",
            "image name::   7_Ave_S_201.jpg\n"
          ],
          "name": "stdout"
        },
        {
          "output_type": "stream",
          "text": [
            "WARNING:root:Lossy conversion from float64 to uint8. Range [0, 1]. Convert image to uint8 prior to saving to suppress this warning.\n",
            "WARNING:root:Lossy conversion from float64 to uint8. Range [0, 1]. Convert image to uint8 prior to saving to suppress this warning.\n",
            "/usr/local/lib/python3.6/dist-packages/ipykernel_launcher.py:6: UserWarning: /content/drive/My Drive/5_corridors_train_val_data/train-20200530T092227Z-001/mask/43rd_Skillman_63.jpg is a low contrast image\n",
            "  \n",
            "WARNING:root:Lossy conversion from float64 to uint8. Range [0, 1]. Convert image to uint8 prior to saving to suppress this warning.\n",
            "WARNING:root:Lossy conversion from float64 to uint8. Range [0, 1]. Convert image to uint8 prior to saving to suppress this warning.\n"
          ],
          "name": "stderr"
        },
        {
          "output_type": "stream",
          "text": [
            "image name::   South_St_467.jpg\n",
            "image name::   2nd_Ave_154.jpg\n",
            "image name::   43rd_Skillman_63.jpg\n",
            "image name::   7_Ave_S_55.jpg\n"
          ],
          "name": "stdout"
        },
        {
          "output_type": "stream",
          "text": [
            "WARNING:root:Lossy conversion from float64 to uint8. Range [0, 1]. Convert image to uint8 prior to saving to suppress this warning.\n",
            "/usr/local/lib/python3.6/dist-packages/ipykernel_launcher.py:6: UserWarning: /content/drive/My Drive/5_corridors_train_val_data/train-20200530T092227Z-001/mask/South_St_382.jpg is a low contrast image\n",
            "  \n",
            "WARNING:root:Lossy conversion from float64 to uint8. Range [0, 1]. Convert image to uint8 prior to saving to suppress this warning.\n",
            "WARNING:root:Lossy conversion from float64 to uint8. Range [0, 1]. Convert image to uint8 prior to saving to suppress this warning.\n",
            "WARNING:root:Lossy conversion from float64 to uint8. Range [0, 1]. Convert image to uint8 prior to saving to suppress this warning.\n",
            "/usr/local/lib/python3.6/dist-packages/ipykernel_launcher.py:6: UserWarning: /content/drive/My Drive/5_corridors_train_val_data/train-20200530T092227Z-001/mask/Queens_Blvd_74.jpg is a low contrast image\n",
            "  \n",
            "WARNING:root:Lossy conversion from float64 to uint8. Range [0, 1]. Convert image to uint8 prior to saving to suppress this warning.\n"
          ],
          "name": "stderr"
        },
        {
          "output_type": "stream",
          "text": [
            "image name::   7_Ave_S_394.jpg\n",
            "image name::   South_St_382.jpg\n",
            "image name::   7_Ave_S_311.jpg\n",
            "image name::   2nd_Ave_36.jpg\n",
            "image name::   Queens_Blvd_74.jpg\n"
          ],
          "name": "stdout"
        },
        {
          "output_type": "stream",
          "text": [
            "WARNING:root:Lossy conversion from float64 to uint8. Range [0, 1]. Convert image to uint8 prior to saving to suppress this warning.\n",
            "WARNING:root:Lossy conversion from float64 to uint8. Range [0, 1]. Convert image to uint8 prior to saving to suppress this warning.\n"
          ],
          "name": "stderr"
        },
        {
          "output_type": "stream",
          "text": [
            "image name::   2nd_Ave_413.jpg\n",
            "image name::   Queens_Blvd_71.jpg\n",
            "image name::   Yellowstone_Blvd_312.jpg\n"
          ],
          "name": "stdout"
        },
        {
          "output_type": "stream",
          "text": [
            "WARNING:root:Lossy conversion from float64 to uint8. Range [0, 1]. Convert image to uint8 prior to saving to suppress this warning.\n",
            "WARNING:root:Lossy conversion from float64 to uint8. Range [0, 1]. Convert image to uint8 prior to saving to suppress this warning.\n",
            "WARNING:root:Lossy conversion from float64 to uint8. Range [0, 1]. Convert image to uint8 prior to saving to suppress this warning.\n",
            "/usr/local/lib/python3.6/dist-packages/ipykernel_launcher.py:6: UserWarning: /content/drive/My Drive/5_corridors_train_val_data/train-20200530T092227Z-001/mask/2nd_Ave_402.jpg is a low contrast image\n",
            "  \n",
            "WARNING:root:Lossy conversion from float64 to uint8. Range [0, 1]. Convert image to uint8 prior to saving to suppress this warning.\n"
          ],
          "name": "stderr"
        },
        {
          "output_type": "stream",
          "text": [
            "image name::   Yellowstone_Blvd_285.jpg\n",
            "image name::   7_Ave_S_444.jpg\n",
            "image name::   2nd_Ave_402.jpg\n",
            "image name::   2nd_Ave_389.jpg\n"
          ],
          "name": "stdout"
        },
        {
          "output_type": "stream",
          "text": [
            "WARNING:root:Lossy conversion from float64 to uint8. Range [0, 1]. Convert image to uint8 prior to saving to suppress this warning.\n",
            "/usr/local/lib/python3.6/dist-packages/ipykernel_launcher.py:6: UserWarning: /content/drive/My Drive/5_corridors_train_val_data/train-20200530T092227Z-001/mask/7_Ave_S_387.jpg is a low contrast image\n",
            "  \n",
            "WARNING:root:Lossy conversion from float64 to uint8. Range [0, 1]. Convert image to uint8 prior to saving to suppress this warning.\n",
            "/usr/local/lib/python3.6/dist-packages/ipykernel_launcher.py:6: UserWarning: /content/drive/My Drive/5_corridors_train_val_data/train-20200530T092227Z-001/mask/South_St_143.jpg is a low contrast image\n",
            "  \n",
            "WARNING:root:Lossy conversion from float64 to uint8. Range [0, 1]. Convert image to uint8 prior to saving to suppress this warning.\n",
            "WARNING:root:Lossy conversion from float64 to uint8. Range [0, 1]. Convert image to uint8 prior to saving to suppress this warning.\n",
            "WARNING:root:Lossy conversion from float64 to uint8. Range [0, 1]. Convert image to uint8 prior to saving to suppress this warning.\n",
            "WARNING:root:Lossy conversion from float64 to uint8. Range [0, 1]. Convert image to uint8 prior to saving to suppress this warning.\n"
          ],
          "name": "stderr"
        },
        {
          "output_type": "stream",
          "text": [
            "image name::   7_Ave_S_387.jpg\n",
            "image name::   South_St_143.jpg\n",
            "image name::   2nd_Ave_268.jpg\n",
            "image name::   2nd_Ave_361.jpg\n",
            "image name::   7_Ave_S_28.jpg\n"
          ],
          "name": "stdout"
        },
        {
          "output_type": "stream",
          "text": [
            "/usr/local/lib/python3.6/dist-packages/ipykernel_launcher.py:6: UserWarning: /content/drive/My Drive/5_corridors_train_val_data/train-20200530T092227Z-001/mask/7_Ave_S_148.jpg is a low contrast image\n",
            "  \n",
            "WARNING:root:Lossy conversion from float64 to uint8. Range [0, 1]. Convert image to uint8 prior to saving to suppress this warning.\n",
            "WARNING:root:Lossy conversion from float64 to uint8. Range [0, 1]. Convert image to uint8 prior to saving to suppress this warning.\n",
            "WARNING:root:Lossy conversion from float64 to uint8. Range [0, 1]. Convert image to uint8 prior to saving to suppress this warning.\n",
            "/usr/local/lib/python3.6/dist-packages/ipykernel_launcher.py:6: UserWarning: /content/drive/My Drive/5_corridors_train_val_data/train-20200530T092227Z-001/mask/7_Ave_S_326.jpg is a low contrast image\n",
            "  \n",
            "WARNING:root:Lossy conversion from float64 to uint8. Range [0, 1]. Convert image to uint8 prior to saving to suppress this warning.\n"
          ],
          "name": "stderr"
        },
        {
          "output_type": "stream",
          "text": [
            "image name::   7_Ave_S_148.jpg\n",
            "image name::   2nd_Ave_1.jpg\n",
            "image name::   South_St_187.jpg\n",
            "image name::   7_Ave_S_326.jpg\n"
          ],
          "name": "stdout"
        },
        {
          "output_type": "stream",
          "text": [
            "WARNING:root:Lossy conversion from float64 to uint8. Range [0, 1]. Convert image to uint8 prior to saving to suppress this warning.\n",
            "WARNING:root:Lossy conversion from float64 to uint8. Range [0, 1]. Convert image to uint8 prior to saving to suppress this warning.\n",
            "WARNING:root:Lossy conversion from float64 to uint8. Range [0, 1]. Convert image to uint8 prior to saving to suppress this warning.\n",
            "WARNING:root:Lossy conversion from float64 to uint8. Range [0, 1]. Convert image to uint8 prior to saving to suppress this warning.\n"
          ],
          "name": "stderr"
        },
        {
          "output_type": "stream",
          "text": [
            "image name::   2nd_Ave_336.jpg\n",
            "image name::   7_Ave_S_95.jpg\n",
            "image name::   2nd_Ave_124.jpg\n",
            "image name::   43rd_Skillman_237.jpg\n"
          ],
          "name": "stdout"
        },
        {
          "output_type": "stream",
          "text": [
            "WARNING:root:Lossy conversion from float64 to uint8. Range [0, 1]. Convert image to uint8 prior to saving to suppress this warning.\n",
            "WARNING:root:Lossy conversion from float64 to uint8. Range [0, 1]. Convert image to uint8 prior to saving to suppress this warning.\n",
            "/usr/local/lib/python3.6/dist-packages/ipykernel_launcher.py:6: UserWarning: /content/drive/My Drive/5_corridors_train_val_data/train-20200530T092227Z-001/mask/2nd_Ave_144.jpg is a low contrast image\n",
            "  \n",
            "WARNING:root:Lossy conversion from float64 to uint8. Range [0, 1]. Convert image to uint8 prior to saving to suppress this warning.\n"
          ],
          "name": "stderr"
        },
        {
          "output_type": "stream",
          "text": [
            "image name::   South_St_663.jpg\n",
            "image name::   South_St_219.jpg\n",
            "image name::   2nd_Ave_144.jpg\n",
            "image name::   South_St_956.jpg\n"
          ],
          "name": "stdout"
        },
        {
          "output_type": "stream",
          "text": [
            "WARNING:root:Lossy conversion from float64 to uint8. Range [0, 1]. Convert image to uint8 prior to saving to suppress this warning.\n",
            "WARNING:root:Lossy conversion from float64 to uint8. Range [0, 1]. Convert image to uint8 prior to saving to suppress this warning.\n",
            "WARNING:root:Lossy conversion from float64 to uint8. Range [0, 1]. Convert image to uint8 prior to saving to suppress this warning.\n",
            "/usr/local/lib/python3.6/dist-packages/ipykernel_launcher.py:6: UserWarning: /content/drive/My Drive/5_corridors_train_val_data/train-20200530T092227Z-001/mask/2nd_Ave_74.jpg is a low contrast image\n",
            "  \n",
            "WARNING:root:Lossy conversion from float64 to uint8. Range [0, 1]. Convert image to uint8 prior to saving to suppress this warning.\n"
          ],
          "name": "stderr"
        },
        {
          "output_type": "stream",
          "text": [
            "image name::   2nd_Ave_279.jpg\n",
            "image name::   South_St_325.jpg\n",
            "image name::   2nd_Ave_74.jpg\n",
            "image name::   7_Ave_S_84.jpg\n"
          ],
          "name": "stdout"
        },
        {
          "output_type": "stream",
          "text": [
            "/usr/local/lib/python3.6/dist-packages/ipykernel_launcher.py:6: UserWarning: /content/drive/My Drive/5_corridors_train_val_data/train-20200530T092227Z-001/mask/7_Ave_S_84.jpg is a low contrast image\n",
            "  \n",
            "WARNING:root:Lossy conversion from float64 to uint8. Range [0, 1]. Convert image to uint8 prior to saving to suppress this warning.\n",
            "WARNING:root:Lossy conversion from float64 to uint8. Range [0, 1]. Convert image to uint8 prior to saving to suppress this warning.\n",
            "WARNING:root:Lossy conversion from float64 to uint8. Range [0, 1]. Convert image to uint8 prior to saving to suppress this warning.\n"
          ],
          "name": "stderr"
        },
        {
          "output_type": "stream",
          "text": [
            "image name::   7_Ave_S_48.jpg\n",
            "image name::   2nd_Ave_165.jpg\n",
            "image name::   2nd_Ave_39.jpg\n"
          ],
          "name": "stdout"
        },
        {
          "output_type": "stream",
          "text": [
            "WARNING:root:Lossy conversion from float64 to uint8. Range [0, 1]. Convert image to uint8 prior to saving to suppress this warning.\n",
            "/usr/local/lib/python3.6/dist-packages/ipykernel_launcher.py:6: UserWarning: /content/drive/My Drive/5_corridors_train_val_data/train-20200530T092227Z-001/mask/South_St_331.jpg is a low contrast image\n",
            "  \n",
            "WARNING:root:Lossy conversion from float64 to uint8. Range [0, 1]. Convert image to uint8 prior to saving to suppress this warning.\n",
            "WARNING:root:Lossy conversion from float64 to uint8. Range [0, 1]. Convert image to uint8 prior to saving to suppress this warning.\n",
            "WARNING:root:Lossy conversion from float64 to uint8. Range [0, 1]. Convert image to uint8 prior to saving to suppress this warning.\n",
            "WARNING:root:Lossy conversion from float64 to uint8. Range [0, 1]. Convert image to uint8 prior to saving to suppress this warning.\n"
          ],
          "name": "stderr"
        },
        {
          "output_type": "stream",
          "text": [
            "image name::   South_St_331.jpg\n",
            "image name::   2nd_Ave_332.jpg\n",
            "image name::   2_Ave_29.jpg\n",
            "image name::   43rd_Skillman_210.jpg\n"
          ],
          "name": "stdout"
        },
        {
          "output_type": "stream",
          "text": [
            "WARNING:root:Lossy conversion from float64 to uint8. Range [0, 1]. Convert image to uint8 prior to saving to suppress this warning.\n",
            "WARNING:root:Lossy conversion from float64 to uint8. Range [0, 1]. Convert image to uint8 prior to saving to suppress this warning.\n",
            "WARNING:root:Lossy conversion from float64 to uint8. Range [0, 1]. Convert image to uint8 prior to saving to suppress this warning.\n",
            "/usr/local/lib/python3.6/dist-packages/ipykernel_launcher.py:6: UserWarning: /content/drive/My Drive/5_corridors_train_val_data/train-20200530T092227Z-001/mask/Queens_Blvd_75.jpg is a low contrast image\n",
            "  \n",
            "WARNING:root:Lossy conversion from float64 to uint8. Range [0, 1]. Convert image to uint8 prior to saving to suppress this warning.\n"
          ],
          "name": "stderr"
        },
        {
          "output_type": "stream",
          "text": [
            "image name::   7_Ave_S_241.jpg\n",
            "image name::   7_Ave_S_378.jpg\n",
            "image name::   7_Ave_S_271.jpg\n",
            "image name::   Queens_Blvd_75.jpg\n",
            "image name::   7_Ave_S_142.jpg\n"
          ],
          "name": "stdout"
        },
        {
          "output_type": "stream",
          "text": [
            "WARNING:root:Lossy conversion from float64 to uint8. Range [0, 1]. Convert image to uint8 prior to saving to suppress this warning.\n",
            "WARNING:root:Lossy conversion from float64 to uint8. Range [0, 1]. Convert image to uint8 prior to saving to suppress this warning.\n",
            "/usr/local/lib/python3.6/dist-packages/ipykernel_launcher.py:6: UserWarning: /content/drive/My Drive/5_corridors_train_val_data/train-20200530T092227Z-001/mask/7_Ave_S_407.jpg is a low contrast image\n",
            "  \n",
            "WARNING:root:Lossy conversion from float64 to uint8. Range [0, 1]. Convert image to uint8 prior to saving to suppress this warning.\n",
            "WARNING:root:Lossy conversion from float64 to uint8. Range [0, 1]. Convert image to uint8 prior to saving to suppress this warning.\n"
          ],
          "name": "stderr"
        },
        {
          "output_type": "stream",
          "text": [
            "image name::   7_Ave_S_127.jpg\n",
            "image name::   7_Ave_S_407.jpg\n",
            "image name::   E_Tremont_168.jpg\n",
            "image name::   2nd_Ave_18.jpg\n"
          ],
          "name": "stdout"
        },
        {
          "output_type": "stream",
          "text": [
            "WARNING:root:Lossy conversion from float64 to uint8. Range [0, 1]. Convert image to uint8 prior to saving to suppress this warning.\n",
            "/usr/local/lib/python3.6/dist-packages/ipykernel_launcher.py:6: UserWarning: /content/drive/My Drive/5_corridors_train_val_data/train-20200530T092227Z-001/mask/2nd_Ave_14.jpg is a low contrast image\n",
            "  \n",
            "WARNING:root:Lossy conversion from float64 to uint8. Range [0, 1]. Convert image to uint8 prior to saving to suppress this warning.\n",
            "WARNING:root:Lossy conversion from float64 to uint8. Range [0, 1]. Convert image to uint8 prior to saving to suppress this warning.\n",
            "WARNING:root:Lossy conversion from float64 to uint8. Range [0, 1]. Convert image to uint8 prior to saving to suppress this warning.\n",
            "/usr/local/lib/python3.6/dist-packages/ipykernel_launcher.py:6: UserWarning: /content/drive/My Drive/5_corridors_train_val_data/train-20200530T092227Z-001/mask/43rd_Skillman_85.jpg is a low contrast image\n",
            "  \n",
            "WARNING:root:Lossy conversion from float64 to uint8. Range [0, 1]. Convert image to uint8 prior to saving to suppress this warning.\n"
          ],
          "name": "stderr"
        },
        {
          "output_type": "stream",
          "text": [
            "image name::   2nd_Ave_14.jpg\n",
            "image name::   2_Ave_60.jpg\n",
            "image name::   7_Ave_S_299.jpg\n",
            "image name::   43rd_Skillman_85.jpg\n",
            "image name::   2nd_Ave_327.jpg\n"
          ],
          "name": "stdout"
        },
        {
          "output_type": "stream",
          "text": [
            "WARNING:root:Lossy conversion from float64 to uint8. Range [0, 1]. Convert image to uint8 prior to saving to suppress this warning.\n",
            "WARNING:root:Lossy conversion from float64 to uint8. Range [0, 1]. Convert image to uint8 prior to saving to suppress this warning.\n",
            "WARNING:root:Lossy conversion from float64 to uint8. Range [0, 1]. Convert image to uint8 prior to saving to suppress this warning.\n",
            "WARNING:root:Lossy conversion from float64 to uint8. Range [0, 1]. Convert image to uint8 prior to saving to suppress this warning.\n",
            "WARNING:root:Lossy conversion from float64 to uint8. Range [0, 1]. Convert image to uint8 prior to saving to suppress this warning.\n"
          ],
          "name": "stderr"
        },
        {
          "output_type": "stream",
          "text": [
            "image name::   E_Tremont_44.jpg\n",
            "image name::   South_St_598.jpg\n",
            "image name::   2nd_Ave_10.jpg\n",
            "image name::   South_St_412.jpg\n",
            "image name::   Yellowstone_Blvd_316.jpg\n"
          ],
          "name": "stdout"
        },
        {
          "output_type": "stream",
          "text": [
            "/usr/local/lib/python3.6/dist-packages/ipykernel_launcher.py:6: UserWarning: /content/drive/My Drive/5_corridors_train_val_data/train-20200530T092227Z-001/mask/Yellowstone_Blvd_316.jpg is a low contrast image\n",
            "  \n",
            "WARNING:root:Lossy conversion from float64 to uint8. Range [0, 1]. Convert image to uint8 prior to saving to suppress this warning.\n",
            "WARNING:root:Lossy conversion from float64 to uint8. Range [0, 1]. Convert image to uint8 prior to saving to suppress this warning.\n",
            "WARNING:root:Lossy conversion from float64 to uint8. Range [0, 1]. Convert image to uint8 prior to saving to suppress this warning.\n",
            "/usr/local/lib/python3.6/dist-packages/ipykernel_launcher.py:6: UserWarning: /content/drive/My Drive/5_corridors_train_val_data/train-20200530T092227Z-001/mask/7_Ave_S_10.jpg is a low contrast image\n",
            "  \n",
            "WARNING:root:Lossy conversion from float64 to uint8. Range [0, 1]. Convert image to uint8 prior to saving to suppress this warning.\n"
          ],
          "name": "stderr"
        },
        {
          "output_type": "stream",
          "text": [
            "image name::   7_Ave_S_383.jpg\n",
            "image name::   2_Ave_2.jpg\n",
            "image name::   7_Ave_S_10.jpg\n",
            "image name::   2nd_Ave_428.jpg\n"
          ],
          "name": "stdout"
        },
        {
          "output_type": "stream",
          "text": [
            "WARNING:root:Lossy conversion from float64 to uint8. Range [0, 1]. Convert image to uint8 prior to saving to suppress this warning.\n",
            "/usr/local/lib/python3.6/dist-packages/ipykernel_launcher.py:6: UserWarning: /content/drive/My Drive/5_corridors_train_val_data/train-20200530T092227Z-001/mask/7_Ave_S_54.jpg is a low contrast image\n",
            "  \n",
            "WARNING:root:Lossy conversion from float64 to uint8. Range [0, 1]. Convert image to uint8 prior to saving to suppress this warning.\n",
            "WARNING:root:Lossy conversion from float64 to uint8. Range [0, 1]. Convert image to uint8 prior to saving to suppress this warning.\n",
            "WARNING:root:Lossy conversion from float64 to uint8. Range [0, 1]. Convert image to uint8 prior to saving to suppress this warning.\n",
            "/usr/local/lib/python3.6/dist-packages/ipykernel_launcher.py:6: UserWarning: /content/drive/My Drive/5_corridors_train_val_data/train-20200530T092227Z-001/mask/South_St_7.jpg is a low contrast image\n",
            "  \n",
            "WARNING:root:Lossy conversion from float64 to uint8. Range [0, 1]. Convert image to uint8 prior to saving to suppress this warning.\n"
          ],
          "name": "stderr"
        },
        {
          "output_type": "stream",
          "text": [
            "image name::   7_Ave_S_54.jpg\n",
            "image name::   Queens_Blvd_110.jpg\n",
            "image name::   2_Ave_44.jpg\n",
            "image name::   South_St_7.jpg\n",
            "image name::   46_Ave_96.jpg\n"
          ],
          "name": "stdout"
        },
        {
          "output_type": "stream",
          "text": [
            "WARNING:root:Lossy conversion from float64 to uint8. Range [0, 1]. Convert image to uint8 prior to saving to suppress this warning.\n",
            "WARNING:root:Lossy conversion from float64 to uint8. Range [0, 1]. Convert image to uint8 prior to saving to suppress this warning.\n",
            "WARNING:root:Lossy conversion from float64 to uint8. Range [0, 1]. Convert image to uint8 prior to saving to suppress this warning.\n",
            "WARNING:root:Lossy conversion from float64 to uint8. Range [0, 1]. Convert image to uint8 prior to saving to suppress this warning.\n",
            "WARNING:root:Lossy conversion from float64 to uint8. Range [0, 1]. Convert image to uint8 prior to saving to suppress this warning.\n"
          ],
          "name": "stderr"
        },
        {
          "output_type": "stream",
          "text": [
            "image name::   2nd_Ave_148.jpg\n",
            "image name::   7_Ave_S_114.jpg\n",
            "image name::   South_St_685.jpg\n",
            "image name::   46_Ave_36.jpg\n",
            "image name::   46_Ave_68.jpg\n"
          ],
          "name": "stdout"
        },
        {
          "output_type": "stream",
          "text": [
            "/usr/local/lib/python3.6/dist-packages/ipykernel_launcher.py:6: UserWarning: /content/drive/My Drive/5_corridors_train_val_data/train-20200530T092227Z-001/mask/46_Ave_68.jpg is a low contrast image\n",
            "  \n",
            "WARNING:root:Lossy conversion from float64 to uint8. Range [0, 1]. Convert image to uint8 prior to saving to suppress this warning.\n",
            "/usr/local/lib/python3.6/dist-packages/ipykernel_launcher.py:6: UserWarning: /content/drive/My Drive/5_corridors_train_val_data/train-20200530T092227Z-001/mask/2nd_Ave_285.jpg is a low contrast image\n",
            "  \n",
            "WARNING:root:Lossy conversion from float64 to uint8. Range [0, 1]. Convert image to uint8 prior to saving to suppress this warning.\n",
            "/usr/local/lib/python3.6/dist-packages/ipykernel_launcher.py:6: UserWarning: /content/drive/My Drive/5_corridors_train_val_data/train-20200530T092227Z-001/mask/7_Ave_S_409.jpg is a low contrast image\n",
            "  \n",
            "WARNING:root:Lossy conversion from float64 to uint8. Range [0, 1]. Convert image to uint8 prior to saving to suppress this warning.\n",
            "WARNING:root:Lossy conversion from float64 to uint8. Range [0, 1]. Convert image to uint8 prior to saving to suppress this warning.\n",
            "WARNING:root:Lossy conversion from float64 to uint8. Range [0, 1]. Convert image to uint8 prior to saving to suppress this warning.\n"
          ],
          "name": "stderr"
        },
        {
          "output_type": "stream",
          "text": [
            "image name::   2nd_Ave_285.jpg\n",
            "image name::   7_Ave_S_409.jpg\n",
            "image name::   7_Ave_S_369.jpg\n",
            "image name::   2nd_Ave_68.jpg\n"
          ],
          "name": "stdout"
        },
        {
          "output_type": "stream",
          "text": [
            "WARNING:root:Lossy conversion from float64 to uint8. Range [0, 1]. Convert image to uint8 prior to saving to suppress this warning.\n",
            "WARNING:root:Lossy conversion from float64 to uint8. Range [0, 1]. Convert image to uint8 prior to saving to suppress this warning.\n",
            "WARNING:root:Lossy conversion from float64 to uint8. Range [0, 1]. Convert image to uint8 prior to saving to suppress this warning.\n"
          ],
          "name": "stderr"
        },
        {
          "output_type": "stream",
          "text": [
            "image name::   2nd_Ave_264.jpg\n",
            "image name::   Queens_Blvd_91.jpg\n",
            "image name::   South_St_939.jpg\n"
          ],
          "name": "stdout"
        },
        {
          "output_type": "stream",
          "text": [
            "WARNING:root:Lossy conversion from float64 to uint8. Range [0, 1]. Convert image to uint8 prior to saving to suppress this warning.\n",
            "WARNING:root:Lossy conversion from float64 to uint8. Range [0, 1]. Convert image to uint8 prior to saving to suppress this warning.\n"
          ],
          "name": "stderr"
        },
        {
          "output_type": "stream",
          "text": [
            "image name::   7_Ave_S_73.jpg\n",
            "image name::   2nd_Ave_369.jpg\n",
            "image name::   2nd_Ave_171.jpg\n"
          ],
          "name": "stdout"
        },
        {
          "output_type": "stream",
          "text": [
            "WARNING:root:Lossy conversion from float64 to uint8. Range [0, 1]. Convert image to uint8 prior to saving to suppress this warning.\n",
            "WARNING:root:Lossy conversion from float64 to uint8. Range [0, 1]. Convert image to uint8 prior to saving to suppress this warning.\n",
            "/usr/local/lib/python3.6/dist-packages/ipykernel_launcher.py:6: UserWarning: /content/drive/My Drive/5_corridors_train_val_data/train-20200530T092227Z-001/mask/43rd_Skillman_208.jpg is a low contrast image\n",
            "  \n",
            "WARNING:root:Lossy conversion from float64 to uint8. Range [0, 1]. Convert image to uint8 prior to saving to suppress this warning.\n",
            "WARNING:root:Lossy conversion from float64 to uint8. Range [0, 1]. Convert image to uint8 prior to saving to suppress this warning.\n"
          ],
          "name": "stderr"
        },
        {
          "output_type": "stream",
          "text": [
            "image name::   2nd_Ave_288.jpg\n",
            "image name::   43rd_Skillman_208.jpg\n",
            "image name::   South_St_161.jpg\n",
            "image name::   2_Ave_13.jpg\n"
          ],
          "name": "stdout"
        },
        {
          "output_type": "stream",
          "text": [
            "WARNING:root:Lossy conversion from float64 to uint8. Range [0, 1]. Convert image to uint8 prior to saving to suppress this warning.\n",
            "WARNING:root:Lossy conversion from float64 to uint8. Range [0, 1]. Convert image to uint8 prior to saving to suppress this warning.\n",
            "WARNING:root:Lossy conversion from float64 to uint8. Range [0, 1]. Convert image to uint8 prior to saving to suppress this warning.\n",
            "/usr/local/lib/python3.6/dist-packages/ipykernel_launcher.py:6: UserWarning: /content/drive/My Drive/5_corridors_train_val_data/train-20200530T092227Z-001/mask/7_Ave_S_86.jpg is a low contrast image\n",
            "  \n",
            "WARNING:root:Lossy conversion from float64 to uint8. Range [0, 1]. Convert image to uint8 prior to saving to suppress this warning.\n",
            "WARNING:root:Lossy conversion from float64 to uint8. Range [0, 1]. Convert image to uint8 prior to saving to suppress this warning.\n"
          ],
          "name": "stderr"
        },
        {
          "output_type": "stream",
          "text": [
            "image name::   43rd_Skillman_100.jpg\n",
            "image name::   South_St_574.jpg\n",
            "image name::   7_Ave_S_86.jpg\n",
            "image name::   2nd_Ave_411.jpg\n",
            "image name::   South_St_130.jpg\n"
          ],
          "name": "stdout"
        },
        {
          "output_type": "stream",
          "text": [
            "WARNING:root:Lossy conversion from float64 to uint8. Range [0, 1]. Convert image to uint8 prior to saving to suppress this warning.\n",
            "WARNING:root:Lossy conversion from float64 to uint8. Range [0, 1]. Convert image to uint8 prior to saving to suppress this warning.\n",
            "/usr/local/lib/python3.6/dist-packages/ipykernel_launcher.py:6: UserWarning: /content/drive/My Drive/5_corridors_train_val_data/train-20200530T092227Z-001/mask/Forest_Road_12.jpg is a low contrast image\n",
            "  \n",
            "WARNING:root:Lossy conversion from float64 to uint8. Range [0, 1]. Convert image to uint8 prior to saving to suppress this warning.\n",
            "/usr/local/lib/python3.6/dist-packages/ipykernel_launcher.py:6: UserWarning: /content/drive/My Drive/5_corridors_train_val_data/train-20200530T092227Z-001/mask/7_Ave_S_332.jpg is a low contrast image\n",
            "  \n",
            "WARNING:root:Lossy conversion from float64 to uint8. Range [0, 1]. Convert image to uint8 prior to saving to suppress this warning.\n",
            "/usr/local/lib/python3.6/dist-packages/ipykernel_launcher.py:6: UserWarning: /content/drive/My Drive/5_corridors_train_val_data/train-20200530T092227Z-001/mask/7_Ave_S_185.jpg is a low contrast image\n",
            "  \n",
            "WARNING:root:Lossy conversion from float64 to uint8. Range [0, 1]. Convert image to uint8 prior to saving to suppress this warning.\n"
          ],
          "name": "stderr"
        },
        {
          "output_type": "stream",
          "text": [
            "image name::   South_St_17.jpg\n",
            "image name::   Forest_Road_12.jpg\n",
            "image name::   7_Ave_S_332.jpg\n",
            "image name::   7_Ave_S_185.jpg\n",
            "image name::   South_St_136.jpg\n"
          ],
          "name": "stdout"
        },
        {
          "output_type": "stream",
          "text": [
            "WARNING:root:Lossy conversion from float64 to uint8. Range [0, 1]. Convert image to uint8 prior to saving to suppress this warning.\n",
            "WARNING:root:Lossy conversion from float64 to uint8. Range [0, 1]. Convert image to uint8 prior to saving to suppress this warning.\n",
            "WARNING:root:Lossy conversion from float64 to uint8. Range [0, 1]. Convert image to uint8 prior to saving to suppress this warning.\n",
            "/usr/local/lib/python3.6/dist-packages/ipykernel_launcher.py:6: UserWarning: /content/drive/My Drive/5_corridors_train_val_data/train-20200530T092227Z-001/mask/Queens_Blvd_68.jpg is a low contrast image\n",
            "  \n",
            "WARNING:root:Lossy conversion from float64 to uint8. Range [0, 1]. Convert image to uint8 prior to saving to suppress this warning.\n"
          ],
          "name": "stderr"
        },
        {
          "output_type": "stream",
          "text": [
            "image name::   2nd_Ave_98.jpg\n",
            "image name::   South_St_528.jpg\n",
            "image name::   Queens_Blvd_68.jpg\n",
            "image name::   7_Ave_S_104.jpg\n"
          ],
          "name": "stdout"
        },
        {
          "output_type": "stream",
          "text": [
            "WARNING:root:Lossy conversion from float64 to uint8. Range [0, 1]. Convert image to uint8 prior to saving to suppress this warning.\n",
            "/usr/local/lib/python3.6/dist-packages/ipykernel_launcher.py:6: UserWarning: /content/drive/My Drive/5_corridors_train_val_data/train-20200530T092227Z-001/mask/7_Ave_S_322.jpg is a low contrast image\n",
            "  \n",
            "WARNING:root:Lossy conversion from float64 to uint8. Range [0, 1]. Convert image to uint8 prior to saving to suppress this warning.\n",
            "WARNING:root:Lossy conversion from float64 to uint8. Range [0, 1]. Convert image to uint8 prior to saving to suppress this warning.\n"
          ],
          "name": "stderr"
        },
        {
          "output_type": "stream",
          "text": [
            "image name::   7_Ave_S_322.jpg\n",
            "image name::   South_St_122.jpg\n",
            "image name::   2nd_Ave_62.jpg\n"
          ],
          "name": "stdout"
        },
        {
          "output_type": "stream",
          "text": [
            "WARNING:root:Lossy conversion from float64 to uint8. Range [0, 1]. Convert image to uint8 prior to saving to suppress this warning.\n",
            "/usr/local/lib/python3.6/dist-packages/ipykernel_launcher.py:6: UserWarning: /content/drive/My Drive/5_corridors_train_val_data/train-20200530T092227Z-001/mask/2nd_Ave_61.jpg is a low contrast image\n",
            "  \n",
            "WARNING:root:Lossy conversion from float64 to uint8. Range [0, 1]. Convert image to uint8 prior to saving to suppress this warning.\n",
            "WARNING:root:Lossy conversion from float64 to uint8. Range [0, 1]. Convert image to uint8 prior to saving to suppress this warning.\n",
            "WARNING:root:Lossy conversion from float64 to uint8. Range [0, 1]. Convert image to uint8 prior to saving to suppress this warning.\n",
            "WARNING:root:Lossy conversion from float64 to uint8. Range [0, 1]. Convert image to uint8 prior to saving to suppress this warning.\n"
          ],
          "name": "stderr"
        },
        {
          "output_type": "stream",
          "text": [
            "image name::   2nd_Ave_61.jpg\n",
            "image name::   Queens_Blvd_171.jpg\n",
            "image name::   Yellowstone_Blvd_124.jpg\n",
            "image name::   7_Ave_S_443.jpg\n"
          ],
          "name": "stdout"
        },
        {
          "output_type": "stream",
          "text": [
            "/usr/local/lib/python3.6/dist-packages/ipykernel_launcher.py:6: UserWarning: /content/drive/My Drive/5_corridors_train_val_data/train-20200530T092227Z-001/mask/South_St_546.jpg is a low contrast image\n",
            "  \n",
            "WARNING:root:Lossy conversion from float64 to uint8. Range [0, 1]. Convert image to uint8 prior to saving to suppress this warning.\n",
            "WARNING:root:Lossy conversion from float64 to uint8. Range [0, 1]. Convert image to uint8 prior to saving to suppress this warning.\n",
            "/usr/local/lib/python3.6/dist-packages/ipykernel_launcher.py:6: UserWarning: /content/drive/My Drive/5_corridors_train_val_data/train-20200530T092227Z-001/mask/7_Ave_S_221.jpg is a low contrast image\n",
            "  \n",
            "WARNING:root:Lossy conversion from float64 to uint8. Range [0, 1]. Convert image to uint8 prior to saving to suppress this warning.\n",
            "WARNING:root:Lossy conversion from float64 to uint8. Range [0, 1]. Convert image to uint8 prior to saving to suppress this warning.\n",
            "/usr/local/lib/python3.6/dist-packages/ipykernel_launcher.py:6: UserWarning: /content/drive/My Drive/5_corridors_train_val_data/train-20200530T092227Z-001/mask/Yellowstone_Blvd_309.jpg is a low contrast image\n",
            "  \n",
            "WARNING:root:Lossy conversion from float64 to uint8. Range [0, 1]. Convert image to uint8 prior to saving to suppress this warning.\n"
          ],
          "name": "stderr"
        },
        {
          "output_type": "stream",
          "text": [
            "image name::   South_St_546.jpg\n",
            "image name::   Yellowstone_Blvd_135.jpg\n",
            "image name::   7_Ave_S_221.jpg\n",
            "image name::   Yellowstone_Blvd_178.jpg\n",
            "image name::   Yellowstone_Blvd_309.jpg\n"
          ],
          "name": "stdout"
        },
        {
          "output_type": "stream",
          "text": [
            "WARNING:root:Lossy conversion from float64 to uint8. Range [0, 1]. Convert image to uint8 prior to saving to suppress this warning.\n",
            "/usr/local/lib/python3.6/dist-packages/ipykernel_launcher.py:6: UserWarning: /content/drive/My Drive/5_corridors_train_val_data/train-20200530T092227Z-001/mask/7_Ave_S_304.jpg is a low contrast image\n",
            "  \n",
            "WARNING:root:Lossy conversion from float64 to uint8. Range [0, 1]. Convert image to uint8 prior to saving to suppress this warning.\n",
            "/usr/local/lib/python3.6/dist-packages/ipykernel_launcher.py:6: UserWarning: /content/drive/My Drive/5_corridors_train_val_data/train-20200530T092227Z-001/mask/7_Ave_S_94.jpg is a low contrast image\n",
            "  \n",
            "WARNING:root:Lossy conversion from float64 to uint8. Range [0, 1]. Convert image to uint8 prior to saving to suppress this warning.\n",
            "WARNING:root:Lossy conversion from float64 to uint8. Range [0, 1]. Convert image to uint8 prior to saving to suppress this warning.\n",
            "/usr/local/lib/python3.6/dist-packages/ipykernel_launcher.py:6: UserWarning: /content/drive/My Drive/5_corridors_train_val_data/train-20200530T092227Z-001/mask/7_Ave_S_347.jpg is a low contrast image\n",
            "  \n",
            "WARNING:root:Lossy conversion from float64 to uint8. Range [0, 1]. Convert image to uint8 prior to saving to suppress this warning.\n"
          ],
          "name": "stderr"
        },
        {
          "output_type": "stream",
          "text": [
            "image name::   Yellowstone_Blvd_310.jpg\n",
            "image name::   7_Ave_S_304.jpg\n",
            "image name::   7_Ave_S_94.jpg\n",
            "image name::   South_St_145.jpg\n",
            "image name::   7_Ave_S_347.jpg\n"
          ],
          "name": "stdout"
        },
        {
          "output_type": "stream",
          "text": [
            "WARNING:root:Lossy conversion from float64 to uint8. Range [0, 1]. Convert image to uint8 prior to saving to suppress this warning.\n"
          ],
          "name": "stderr"
        },
        {
          "output_type": "stream",
          "text": [
            "image name::   E_Tremont_29.jpg\n",
            "image name::   2nd_Ave_15.jpg\n"
          ],
          "name": "stdout"
        },
        {
          "output_type": "stream",
          "text": [
            "WARNING:root:Lossy conversion from float64 to uint8. Range [0, 1]. Convert image to uint8 prior to saving to suppress this warning.\n",
            "WARNING:root:Lossy conversion from float64 to uint8. Range [0, 1]. Convert image to uint8 prior to saving to suppress this warning.\n",
            "/usr/local/lib/python3.6/dist-packages/ipykernel_launcher.py:6: UserWarning: /content/drive/My Drive/5_corridors_train_val_data/train-20200530T092227Z-001/mask/46_Ave_32.jpg is a low contrast image\n",
            "  \n",
            "WARNING:root:Lossy conversion from float64 to uint8. Range [0, 1]. Convert image to uint8 prior to saving to suppress this warning.\n",
            "WARNING:root:Lossy conversion from float64 to uint8. Range [0, 1]. Convert image to uint8 prior to saving to suppress this warning.\n",
            "/usr/local/lib/python3.6/dist-packages/ipykernel_launcher.py:6: UserWarning: /content/drive/My Drive/5_corridors_train_val_data/train-20200530T092227Z-001/mask/Queens_Blvd_31.jpg is a low contrast image\n",
            "  \n",
            "WARNING:root:Lossy conversion from float64 to uint8. Range [0, 1]. Convert image to uint8 prior to saving to suppress this warning.\n",
            "/usr/local/lib/python3.6/dist-packages/ipykernel_launcher.py:6: UserWarning: /content/drive/My Drive/5_corridors_train_val_data/train-20200530T092227Z-001/mask/2_Ave_1.jpg is a low contrast image\n",
            "  \n",
            "WARNING:root:Lossy conversion from float64 to uint8. Range [0, 1]. Convert image to uint8 prior to saving to suppress this warning.\n"
          ],
          "name": "stderr"
        },
        {
          "output_type": "stream",
          "text": [
            "image name::   43rd_Skillman_122.jpg\n",
            "image name::   46_Ave_32.jpg\n",
            "image name::   2nd_Ave_111.jpg\n",
            "image name::   Queens_Blvd_31.jpg\n",
            "image name::   2_Ave_1.jpg\n"
          ],
          "name": "stdout"
        },
        {
          "output_type": "stream",
          "text": [
            "WARNING:root:Lossy conversion from float64 to uint8. Range [0, 1]. Convert image to uint8 prior to saving to suppress this warning.\n",
            "/usr/local/lib/python3.6/dist-packages/ipykernel_launcher.py:6: UserWarning: /content/drive/My Drive/5_corridors_train_val_data/train-20200530T092227Z-001/mask/South_St_186.jpg is a low contrast image\n",
            "  \n",
            "WARNING:root:Lossy conversion from float64 to uint8. Range [0, 1]. Convert image to uint8 prior to saving to suppress this warning.\n",
            "WARNING:root:Lossy conversion from float64 to uint8. Range [0, 1]. Convert image to uint8 prior to saving to suppress this warning.\n"
          ],
          "name": "stderr"
        },
        {
          "output_type": "stream",
          "text": [
            "image name::   43rd_Skillman_177.jpg\n",
            "image name::   South_St_186.jpg\n",
            "image name::   7_Ave_S_238.jpg\n",
            "image name::   2nd_Ave_416.jpg\n"
          ],
          "name": "stdout"
        },
        {
          "output_type": "stream",
          "text": [
            "WARNING:root:Lossy conversion from float64 to uint8. Range [0, 1]. Convert image to uint8 prior to saving to suppress this warning.\n",
            "/usr/local/lib/python3.6/dist-packages/ipykernel_launcher.py:6: UserWarning: /content/drive/My Drive/5_corridors_train_val_data/train-20200530T092227Z-001/mask/E_Tremont_72.jpg is a low contrast image\n",
            "  \n",
            "WARNING:root:Lossy conversion from float64 to uint8. Range [0, 1]. Convert image to uint8 prior to saving to suppress this warning.\n",
            "WARNING:root:Lossy conversion from float64 to uint8. Range [0, 1]. Convert image to uint8 prior to saving to suppress this warning.\n",
            "/usr/local/lib/python3.6/dist-packages/ipykernel_launcher.py:6: UserWarning: /content/drive/My Drive/5_corridors_train_val_data/train-20200530T092227Z-001/mask/7_Ave_S_46.jpg is a low contrast image\n",
            "  \n",
            "WARNING:root:Lossy conversion from float64 to uint8. Range [0, 1]. Convert image to uint8 prior to saving to suppress this warning.\n"
          ],
          "name": "stderr"
        },
        {
          "output_type": "stream",
          "text": [
            "image name::   E_Tremont_72.jpg\n",
            "image name::   7_Ave_S_251.jpg\n",
            "image name::   7_Ave_S_46.jpg\n",
            "image name::   2nd_Ave_376.jpg\n"
          ],
          "name": "stdout"
        },
        {
          "output_type": "stream",
          "text": [
            "WARNING:root:Lossy conversion from float64 to uint8. Range [0, 1]. Convert image to uint8 prior to saving to suppress this warning.\n",
            "WARNING:root:Lossy conversion from float64 to uint8. Range [0, 1]. Convert image to uint8 prior to saving to suppress this warning.\n",
            "WARNING:root:Lossy conversion from float64 to uint8. Range [0, 1]. Convert image to uint8 prior to saving to suppress this warning.\n",
            "WARNING:root:Lossy conversion from float64 to uint8. Range [0, 1]. Convert image to uint8 prior to saving to suppress this warning.\n"
          ],
          "name": "stderr"
        },
        {
          "output_type": "stream",
          "text": [
            "image name::   46_Ave_53.jpg\n",
            "image name::   Queens_Blvd_40.jpg\n",
            "image name::   7_Ave_S_219.jpg\n",
            "image name::   7_Ave_S_103.jpg\n"
          ],
          "name": "stdout"
        },
        {
          "output_type": "stream",
          "text": [
            "WARNING:root:Lossy conversion from float64 to uint8. Range [0, 1]. Convert image to uint8 prior to saving to suppress this warning.\n",
            "/usr/local/lib/python3.6/dist-packages/ipykernel_launcher.py:6: UserWarning: /content/drive/My Drive/5_corridors_train_val_data/train-20200530T092227Z-001/mask/7_Ave_S_328.jpg is a low contrast image\n",
            "  \n",
            "WARNING:root:Lossy conversion from float64 to uint8. Range [0, 1]. Convert image to uint8 prior to saving to suppress this warning.\n",
            "WARNING:root:Lossy conversion from float64 to uint8. Range [0, 1]. Convert image to uint8 prior to saving to suppress this warning.\n",
            "WARNING:root:Lossy conversion from float64 to uint8. Range [0, 1]. Convert image to uint8 prior to saving to suppress this warning.\n",
            "WARNING:root:Lossy conversion from float64 to uint8. Range [0, 1]. Convert image to uint8 prior to saving to suppress this warning.\n",
            "/usr/local/lib/python3.6/dist-packages/ipykernel_launcher.py:6: UserWarning: /content/drive/My Drive/5_corridors_train_val_data/train-20200530T092227Z-001/mask/7_Ave_S_236.jpg is a low contrast image\n",
            "  \n",
            "WARNING:root:Lossy conversion from float64 to uint8. Range [0, 1]. Convert image to uint8 prior to saving to suppress this warning.\n"
          ],
          "name": "stderr"
        },
        {
          "output_type": "stream",
          "text": [
            "image name::   7_Ave_S_328.jpg\n",
            "image name::   South_St_945.jpg\n",
            "image name::   2nd_Ave_409.jpg\n",
            "image name::   2_Ave_77.jpg\n",
            "image name::   7_Ave_S_236.jpg\n"
          ],
          "name": "stdout"
        },
        {
          "output_type": "stream",
          "text": [
            "WARNING:root:Lossy conversion from float64 to uint8. Range [0, 1]. Convert image to uint8 prior to saving to suppress this warning.\n",
            "WARNING:root:Lossy conversion from float64 to uint8. Range [0, 1]. Convert image to uint8 prior to saving to suppress this warning.\n",
            "/usr/local/lib/python3.6/dist-packages/ipykernel_launcher.py:6: UserWarning: /content/drive/My Drive/5_corridors_train_val_data/train-20200530T092227Z-001/mask/2nd_Ave_40.jpg is a low contrast image\n",
            "  \n",
            "WARNING:root:Lossy conversion from float64 to uint8. Range [0, 1]. Convert image to uint8 prior to saving to suppress this warning.\n",
            "/usr/local/lib/python3.6/dist-packages/ipykernel_launcher.py:6: UserWarning: /content/drive/My Drive/5_corridors_train_val_data/train-20200530T092227Z-001/mask/South_St_466.jpg is a low contrast image\n",
            "  \n",
            "WARNING:root:Lossy conversion from float64 to uint8. Range [0, 1]. Convert image to uint8 prior to saving to suppress this warning.\n"
          ],
          "name": "stderr"
        },
        {
          "output_type": "stream",
          "text": [
            "image name::   7_Ave_S_424.jpg\n",
            "image name::   South_St_114.jpg\n",
            "image name::   2nd_Ave_40.jpg\n",
            "image name::   South_St_466.jpg\n"
          ],
          "name": "stdout"
        },
        {
          "output_type": "stream",
          "text": [
            "WARNING:root:Lossy conversion from float64 to uint8. Range [0, 1]. Convert image to uint8 prior to saving to suppress this warning.\n",
            "WARNING:root:Lossy conversion from float64 to uint8. Range [0, 1]. Convert image to uint8 prior to saving to suppress this warning.\n"
          ],
          "name": "stderr"
        },
        {
          "output_type": "stream",
          "text": [
            "image name::   South_St_121.jpg\n",
            "image name::   7_Ave_S_237.jpg\n"
          ],
          "name": "stdout"
        },
        {
          "output_type": "stream",
          "text": [
            "/usr/local/lib/python3.6/dist-packages/ipykernel_launcher.py:6: UserWarning: /content/drive/My Drive/5_corridors_train_val_data/train-20200530T092227Z-001/mask/South_St_2.jpg is a low contrast image\n",
            "  \n",
            "WARNING:root:Lossy conversion from float64 to uint8. Range [0, 1]. Convert image to uint8 prior to saving to suppress this warning.\n",
            "WARNING:root:Lossy conversion from float64 to uint8. Range [0, 1]. Convert image to uint8 prior to saving to suppress this warning.\n",
            "WARNING:root:Lossy conversion from float64 to uint8. Range [0, 1]. Convert image to uint8 prior to saving to suppress this warning.\n",
            "WARNING:root:Lossy conversion from float64 to uint8. Range [0, 1]. Convert image to uint8 prior to saving to suppress this warning.\n"
          ],
          "name": "stderr"
        },
        {
          "output_type": "stream",
          "text": [
            "image name::   South_St_2.jpg\n",
            "image name::   7_Ave_S_205.jpg\n",
            "image name::   7_Ave_S_247.jpg\n",
            "image name::   2nd_Ave_350.jpg\n"
          ],
          "name": "stdout"
        },
        {
          "output_type": "stream",
          "text": [
            "WARNING:root:Lossy conversion from float64 to uint8. Range [0, 1]. Convert image to uint8 prior to saving to suppress this warning.\n",
            "WARNING:root:Lossy conversion from float64 to uint8. Range [0, 1]. Convert image to uint8 prior to saving to suppress this warning.\n",
            "/usr/local/lib/python3.6/dist-packages/ipykernel_launcher.py:6: UserWarning: /content/drive/My Drive/5_corridors_train_val_data/train-20200530T092227Z-001/mask/Queens_Blvd_38.jpg is a low contrast image\n",
            "  \n",
            "WARNING:root:Lossy conversion from float64 to uint8. Range [0, 1]. Convert image to uint8 prior to saving to suppress this warning.\n",
            "WARNING:root:Lossy conversion from float64 to uint8. Range [0, 1]. Convert image to uint8 prior to saving to suppress this warning.\n",
            "/usr/local/lib/python3.6/dist-packages/ipykernel_launcher.py:6: UserWarning: /content/drive/My Drive/5_corridors_train_val_data/train-20200530T092227Z-001/mask/South_St_532.jpg is a low contrast image\n",
            "  \n",
            "WARNING:root:Lossy conversion from float64 to uint8. Range [0, 1]. Convert image to uint8 prior to saving to suppress this warning.\n"
          ],
          "name": "stderr"
        },
        {
          "output_type": "stream",
          "text": [
            "image name::   2_Ave_22.jpg\n",
            "image name::   Forest_Road_2.jpg\n",
            "image name::   Queens_Blvd_38.jpg\n",
            "image name::   South_St_227.jpg\n",
            "image name::   South_St_532.jpg\n"
          ],
          "name": "stdout"
        },
        {
          "output_type": "stream",
          "text": [
            "WARNING:root:Lossy conversion from float64 to uint8. Range [0, 1]. Convert image to uint8 prior to saving to suppress this warning.\n",
            "/usr/local/lib/python3.6/dist-packages/ipykernel_launcher.py:6: UserWarning: /content/drive/My Drive/5_corridors_train_val_data/train-20200530T092227Z-001/mask/South_St_647.jpg is a low contrast image\n",
            "  \n",
            "WARNING:root:Lossy conversion from float64 to uint8. Range [0, 1]. Convert image to uint8 prior to saving to suppress this warning.\n",
            "/usr/local/lib/python3.6/dist-packages/ipykernel_launcher.py:6: UserWarning: /content/drive/My Drive/5_corridors_train_val_data/train-20200530T092227Z-001/mask/2nd_Ave_3.jpg is a low contrast image\n",
            "  \n",
            "WARNING:root:Lossy conversion from float64 to uint8. Range [0, 1]. Convert image to uint8 prior to saving to suppress this warning.\n",
            "/usr/local/lib/python3.6/dist-packages/ipykernel_launcher.py:6: UserWarning: /content/drive/My Drive/5_corridors_train_val_data/train-20200530T092227Z-001/mask/2_Ave_14.jpg is a low contrast image\n",
            "  \n",
            "WARNING:root:Lossy conversion from float64 to uint8. Range [0, 1]. Convert image to uint8 prior to saving to suppress this warning.\n"
          ],
          "name": "stderr"
        },
        {
          "output_type": "stream",
          "text": [
            "image name::   2nd_Ave_420.jpg\n",
            "image name::   South_St_647.jpg\n",
            "image name::   2nd_Ave_3.jpg\n",
            "image name::   2_Ave_14.jpg\n",
            "image name::   Yellowstone_Blvd_186.jpg\n"
          ],
          "name": "stdout"
        },
        {
          "output_type": "stream",
          "text": [
            "/usr/local/lib/python3.6/dist-packages/ipykernel_launcher.py:6: UserWarning: /content/drive/My Drive/5_corridors_train_val_data/train-20200530T092227Z-001/mask/Yellowstone_Blvd_186.jpg is a low contrast image\n",
            "  \n",
            "WARNING:root:Lossy conversion from float64 to uint8. Range [0, 1]. Convert image to uint8 prior to saving to suppress this warning.\n",
            "WARNING:root:Lossy conversion from float64 to uint8. Range [0, 1]. Convert image to uint8 prior to saving to suppress this warning.\n",
            "WARNING:root:Lossy conversion from float64 to uint8. Range [0, 1]. Convert image to uint8 prior to saving to suppress this warning.\n"
          ],
          "name": "stderr"
        },
        {
          "output_type": "stream",
          "text": [
            "image name::   2_Ave_28.jpg\n",
            "image name::   South_St_146.jpg\n",
            "image name::   Queens_Blvd_39.jpg\n"
          ],
          "name": "stdout"
        },
        {
          "output_type": "stream",
          "text": [
            "WARNING:root:Lossy conversion from float64 to uint8. Range [0, 1]. Convert image to uint8 prior to saving to suppress this warning.\n",
            "WARNING:root:Lossy conversion from float64 to uint8. Range [0, 1]. Convert image to uint8 prior to saving to suppress this warning.\n",
            "/usr/local/lib/python3.6/dist-packages/ipykernel_launcher.py:6: UserWarning: /content/drive/My Drive/5_corridors_train_val_data/train-20200530T092227Z-001/mask/South_St_475.jpg is a low contrast image\n",
            "  \n",
            "WARNING:root:Lossy conversion from float64 to uint8. Range [0, 1]. Convert image to uint8 prior to saving to suppress this warning.\n",
            "/usr/local/lib/python3.6/dist-packages/ipykernel_launcher.py:6: UserWarning: /content/drive/My Drive/5_corridors_train_val_data/train-20200530T092227Z-001/mask/Queens_Blvd_167.jpg is a low contrast image\n",
            "  \n",
            "WARNING:root:Lossy conversion from float64 to uint8. Range [0, 1]. Convert image to uint8 prior to saving to suppress this warning.\n"
          ],
          "name": "stderr"
        },
        {
          "output_type": "stream",
          "text": [
            "image name::   South_St_327.jpg\n",
            "image name::   South_St_475.jpg\n",
            "image name::   Queens_Blvd_167.jpg\n",
            "image name::   46_Ave_39.jpg\n"
          ],
          "name": "stdout"
        },
        {
          "output_type": "stream",
          "text": [
            "WARNING:root:Lossy conversion from float64 to uint8. Range [0, 1]. Convert image to uint8 prior to saving to suppress this warning.\n",
            "/usr/local/lib/python3.6/dist-packages/ipykernel_launcher.py:6: UserWarning: /content/drive/My Drive/5_corridors_train_val_data/train-20200530T092227Z-001/mask/E_Tremont_166.jpg is a low contrast image\n",
            "  \n",
            "WARNING:root:Lossy conversion from float64 to uint8. Range [0, 1]. Convert image to uint8 prior to saving to suppress this warning.\n",
            "/usr/local/lib/python3.6/dist-packages/ipykernel_launcher.py:6: UserWarning: /content/drive/My Drive/5_corridors_train_val_data/train-20200530T092227Z-001/mask/Forest_Road_26.jpg is a low contrast image\n",
            "  \n",
            "WARNING:root:Lossy conversion from float64 to uint8. Range [0, 1]. Convert image to uint8 prior to saving to suppress this warning.\n",
            "WARNING:root:Lossy conversion from float64 to uint8. Range [0, 1]. Convert image to uint8 prior to saving to suppress this warning.\n",
            "WARNING:root:Lossy conversion from float64 to uint8. Range [0, 1]. Convert image to uint8 prior to saving to suppress this warning.\n"
          ],
          "name": "stderr"
        },
        {
          "output_type": "stream",
          "text": [
            "image name::   E_Tremont_166.jpg\n",
            "image name::   Forest_Road_26.jpg\n",
            "image name::   2nd_Ave_79.jpg\n",
            "image name::   7_Ave_S_81.jpg\n"
          ],
          "name": "stdout"
        },
        {
          "output_type": "stream",
          "text": [
            "/usr/local/lib/python3.6/dist-packages/ipykernel_launcher.py:6: UserWarning: /content/drive/My Drive/5_corridors_train_val_data/train-20200530T092227Z-001/mask/Queens_Blvd_5.jpg is a low contrast image\n",
            "  \n",
            "WARNING:root:Lossy conversion from float64 to uint8. Range [0, 1]. Convert image to uint8 prior to saving to suppress this warning.\n",
            "/usr/local/lib/python3.6/dist-packages/ipykernel_launcher.py:6: UserWarning: /content/drive/My Drive/5_corridors_train_val_data/train-20200530T092227Z-001/mask/7_Ave_S_285.jpg is a low contrast image\n",
            "  \n",
            "WARNING:root:Lossy conversion from float64 to uint8. Range [0, 1]. Convert image to uint8 prior to saving to suppress this warning.\n",
            "WARNING:root:Lossy conversion from float64 to uint8. Range [0, 1]. Convert image to uint8 prior to saving to suppress this warning.\n",
            "/usr/local/lib/python3.6/dist-packages/ipykernel_launcher.py:6: UserWarning: /content/drive/My Drive/5_corridors_train_val_data/train-20200530T092227Z-001/mask/7_Ave_S_138.jpg is a low contrast image\n",
            "  \n",
            "WARNING:root:Lossy conversion from float64 to uint8. Range [0, 1]. Convert image to uint8 prior to saving to suppress this warning.\n"
          ],
          "name": "stderr"
        },
        {
          "output_type": "stream",
          "text": [
            "image name::   Queens_Blvd_5.jpg\n",
            "image name::   7_Ave_S_285.jpg\n",
            "image name::   7_Ave_S_364.jpg\n",
            "image name::   7_Ave_S_138.jpg\n",
            "image name::   2nd_Ave_398.jpg\n"
          ],
          "name": "stdout"
        },
        {
          "output_type": "stream",
          "text": [
            "WARNING:root:Lossy conversion from float64 to uint8. Range [0, 1]. Convert image to uint8 prior to saving to suppress this warning.\n",
            "WARNING:root:Lossy conversion from float64 to uint8. Range [0, 1]. Convert image to uint8 prior to saving to suppress this warning.\n",
            "WARNING:root:Lossy conversion from float64 to uint8. Range [0, 1]. Convert image to uint8 prior to saving to suppress this warning.\n",
            "WARNING:root:Lossy conversion from float64 to uint8. Range [0, 1]. Convert image to uint8 prior to saving to suppress this warning.\n",
            "/usr/local/lib/python3.6/dist-packages/ipykernel_launcher.py:6: UserWarning: /content/drive/My Drive/5_corridors_train_val_data/train-20200530T092227Z-001/mask/7_Ave_S_298.jpg is a low contrast image\n",
            "  \n",
            "WARNING:root:Lossy conversion from float64 to uint8. Range [0, 1]. Convert image to uint8 prior to saving to suppress this warning.\n"
          ],
          "name": "stderr"
        },
        {
          "output_type": "stream",
          "text": [
            "image name::   South_St_244.jpg\n",
            "image name::   South_St_358.jpg\n",
            "image name::   2nd_Ave_78.jpg\n",
            "image name::   7_Ave_S_298.jpg\n",
            "image name::   Yellowstone_Blvd_142.jpg\n"
          ],
          "name": "stdout"
        },
        {
          "output_type": "stream",
          "text": [
            "/usr/local/lib/python3.6/dist-packages/ipykernel_launcher.py:6: UserWarning: /content/drive/My Drive/5_corridors_train_val_data/train-20200530T092227Z-001/mask/Yellowstone_Blvd_142.jpg is a low contrast image\n",
            "  \n",
            "WARNING:root:Lossy conversion from float64 to uint8. Range [0, 1]. Convert image to uint8 prior to saving to suppress this warning.\n",
            "WARNING:root:Lossy conversion from float64 to uint8. Range [0, 1]. Convert image to uint8 prior to saving to suppress this warning.\n",
            "WARNING:root:Lossy conversion from float64 to uint8. Range [0, 1]. Convert image to uint8 prior to saving to suppress this warning.\n",
            "WARNING:root:Lossy conversion from float64 to uint8. Range [0, 1]. Convert image to uint8 prior to saving to suppress this warning.\n",
            "/usr/local/lib/python3.6/dist-packages/ipykernel_launcher.py:6: UserWarning: /content/drive/My Drive/5_corridors_train_val_data/train-20200530T092227Z-001/mask/43rd_Skillman_236.jpg is a low contrast image\n",
            "  \n",
            "WARNING:root:Lossy conversion from float64 to uint8. Range [0, 1]. Convert image to uint8 prior to saving to suppress this warning.\n"
          ],
          "name": "stderr"
        },
        {
          "output_type": "stream",
          "text": [
            "image name::   Queens_Blvd_58.jpg\n",
            "image name::   South_St_179.jpg\n",
            "image name::   2nd_Ave_303.jpg\n",
            "image name::   43rd_Skillman_236.jpg\n",
            "image name::   2nd_Ave_419.jpg\n"
          ],
          "name": "stdout"
        },
        {
          "output_type": "stream",
          "text": [
            "WARNING:root:Lossy conversion from float64 to uint8. Range [0, 1]. Convert image to uint8 prior to saving to suppress this warning.\n",
            "WARNING:root:Lossy conversion from float64 to uint8. Range [0, 1]. Convert image to uint8 prior to saving to suppress this warning.\n",
            "WARNING:root:Lossy conversion from float64 to uint8. Range [0, 1]. Convert image to uint8 prior to saving to suppress this warning.\n"
          ],
          "name": "stderr"
        },
        {
          "output_type": "stream",
          "text": [
            "image name::   Queens_Blvd_41.jpg\n",
            "image name::   South_St_113.jpg\n"
          ],
          "name": "stdout"
        },
        {
          "output_type": "stream",
          "text": [
            "/usr/local/lib/python3.6/dist-packages/ipykernel_launcher.py:6: UserWarning: /content/drive/My Drive/5_corridors_train_val_data/train-20200530T092227Z-001/mask/South_St_953.jpg is a low contrast image\n",
            "  \n",
            "WARNING:root:Lossy conversion from float64 to uint8. Range [0, 1]. Convert image to uint8 prior to saving to suppress this warning.\n",
            "WARNING:root:Lossy conversion from float64 to uint8. Range [0, 1]. Convert image to uint8 prior to saving to suppress this warning.\n",
            "WARNING:root:Lossy conversion from float64 to uint8. Range [0, 1]. Convert image to uint8 prior to saving to suppress this warning.\n"
          ],
          "name": "stderr"
        },
        {
          "output_type": "stream",
          "text": [
            "image name::   South_St_953.jpg\n",
            "image name::   South_St_4.jpg\n",
            "image name::   2nd_Ave_163.jpg\n",
            "image name::   46_Ave_29.jpg\n"
          ],
          "name": "stdout"
        },
        {
          "output_type": "stream",
          "text": [
            "/usr/local/lib/python3.6/dist-packages/ipykernel_launcher.py:6: UserWarning: /content/drive/My Drive/5_corridors_train_val_data/train-20200530T092227Z-001/mask/46_Ave_29.jpg is a low contrast image\n",
            "  \n",
            "WARNING:root:Lossy conversion from float64 to uint8. Range [0, 1]. Convert image to uint8 prior to saving to suppress this warning.\n",
            "/usr/local/lib/python3.6/dist-packages/ipykernel_launcher.py:6: UserWarning: /content/drive/My Drive/5_corridors_train_val_data/train-20200530T092227Z-001/mask/Yellowstone_Blvd_196.jpg is a low contrast image\n",
            "  \n",
            "WARNING:root:Lossy conversion from float64 to uint8. Range [0, 1]. Convert image to uint8 prior to saving to suppress this warning.\n",
            "/usr/local/lib/python3.6/dist-packages/ipykernel_launcher.py:6: UserWarning: /content/drive/My Drive/5_corridors_train_val_data/train-20200530T092227Z-001/mask/2nd_Ave_331.jpg is a low contrast image\n",
            "  \n",
            "WARNING:root:Lossy conversion from float64 to uint8. Range [0, 1]. Convert image to uint8 prior to saving to suppress this warning.\n",
            "WARNING:root:Lossy conversion from float64 to uint8. Range [0, 1]. Convert image to uint8 prior to saving to suppress this warning.\n",
            "/usr/local/lib/python3.6/dist-packages/ipykernel_launcher.py:6: UserWarning: /content/drive/My Drive/5_corridors_train_val_data/train-20200530T092227Z-001/mask/7_Ave_S_132.jpg is a low contrast image\n",
            "  \n",
            "WARNING:root:Lossy conversion from float64 to uint8. Range [0, 1]. Convert image to uint8 prior to saving to suppress this warning.\n",
            "WARNING:root:Lossy conversion from float64 to uint8. Range [0, 1]. Convert image to uint8 prior to saving to suppress this warning.\n"
          ],
          "name": "stderr"
        },
        {
          "output_type": "stream",
          "text": [
            "image name::   Yellowstone_Blvd_196.jpg\n",
            "image name::   2nd_Ave_331.jpg\n",
            "image name::   Queens_Blvd_170.jpg\n",
            "image name::   7_Ave_S_132.jpg\n",
            "image name::   South_St_540.jpg\n"
          ],
          "name": "stdout"
        },
        {
          "output_type": "stream",
          "text": [
            "WARNING:root:Lossy conversion from float64 to uint8. Range [0, 1]. Convert image to uint8 prior to saving to suppress this warning.\n",
            "/usr/local/lib/python3.6/dist-packages/ipykernel_launcher.py:6: UserWarning: /content/drive/My Drive/5_corridors_train_val_data/train-20200530T092227Z-001/mask/7_Ave_S_327.jpg is a low contrast image\n",
            "  \n",
            "WARNING:root:Lossy conversion from float64 to uint8. Range [0, 1]. Convert image to uint8 prior to saving to suppress this warning.\n",
            "WARNING:root:Lossy conversion from float64 to uint8. Range [0, 1]. Convert image to uint8 prior to saving to suppress this warning.\n"
          ],
          "name": "stderr"
        },
        {
          "output_type": "stream",
          "text": [
            "image name::   South_St_461.jpg\n",
            "image name::   7_Ave_S_327.jpg\n",
            "image name::   2nd_Ave_403.jpg\n",
            "image name::   2nd_Ave_309.jpg\n"
          ],
          "name": "stdout"
        },
        {
          "output_type": "stream",
          "text": [
            "WARNING:root:Lossy conversion from float64 to uint8. Range [0, 1]. Convert image to uint8 prior to saving to suppress this warning.\n",
            "WARNING:root:Lossy conversion from float64 to uint8. Range [0, 1]. Convert image to uint8 prior to saving to suppress this warning.\n",
            "WARNING:root:Lossy conversion from float64 to uint8. Range [0, 1]. Convert image to uint8 prior to saving to suppress this warning.\n",
            "/usr/local/lib/python3.6/dist-packages/ipykernel_launcher.py:6: UserWarning: /content/drive/My Drive/5_corridors_train_val_data/train-20200530T092227Z-001/mask/South_St_925.jpg is a low contrast image\n",
            "  \n",
            "WARNING:root:Lossy conversion from float64 to uint8. Range [0, 1]. Convert image to uint8 prior to saving to suppress this warning.\n",
            "WARNING:root:Lossy conversion from float64 to uint8. Range [0, 1]. Convert image to uint8 prior to saving to suppress this warning.\n",
            "/usr/local/lib/python3.6/dist-packages/ipykernel_launcher.py:6: UserWarning: /content/drive/My Drive/5_corridors_train_val_data/train-20200530T092227Z-001/mask/South_St_118.jpg is a low contrast image\n",
            "  \n",
            "WARNING:root:Lossy conversion from float64 to uint8. Range [0, 1]. Convert image to uint8 prior to saving to suppress this warning.\n"
          ],
          "name": "stderr"
        },
        {
          "output_type": "stream",
          "text": [
            "image name::   7_Ave_S_87.jpg\n",
            "image name::   7_Ave_S_71.jpg\n",
            "image name::   South_St_925.jpg\n",
            "image name::   Queens_Blvd_9.jpg\n",
            "image name::   South_St_118.jpg\n"
          ],
          "name": "stdout"
        },
        {
          "output_type": "stream",
          "text": [
            "WARNING:root:Lossy conversion from float64 to uint8. Range [0, 1]. Convert image to uint8 prior to saving to suppress this warning.\n",
            "WARNING:root:Lossy conversion from float64 to uint8. Range [0, 1]. Convert image to uint8 prior to saving to suppress this warning.\n",
            "WARNING:root:Lossy conversion from float64 to uint8. Range [0, 1]. Convert image to uint8 prior to saving to suppress this warning.\n",
            "/usr/local/lib/python3.6/dist-packages/ipykernel_launcher.py:6: UserWarning: /content/drive/My Drive/5_corridors_train_val_data/train-20200530T092227Z-001/mask/Yellowstone_Blvd_221.jpg is a low contrast image\n",
            "  \n",
            "WARNING:root:Lossy conversion from float64 to uint8. Range [0, 1]. Convert image to uint8 prior to saving to suppress this warning.\n"
          ],
          "name": "stderr"
        },
        {
          "output_type": "stream",
          "text": [
            "image name::   7_Ave_S_152.jpg\n",
            "image name::   South_St_510.jpg\n",
            "image name::   46_Ave_97.jpg\n",
            "image name::   Yellowstone_Blvd_221.jpg\n"
          ],
          "name": "stdout"
        },
        {
          "output_type": "stream",
          "text": [
            "WARNING:root:Lossy conversion from float64 to uint8. Range [0, 1]. Convert image to uint8 prior to saving to suppress this warning.\n",
            "WARNING:root:Lossy conversion from float64 to uint8. Range [0, 1]. Convert image to uint8 prior to saving to suppress this warning.\n"
          ],
          "name": "stderr"
        },
        {
          "output_type": "stream",
          "text": [
            "image name::   2nd_Ave_93.jpg\n",
            "image name::   South_St_625.jpg\n",
            "image name::   7_Ave_S_227.jpg\n"
          ],
          "name": "stdout"
        },
        {
          "output_type": "stream",
          "text": [
            "WARNING:root:Lossy conversion from float64 to uint8. Range [0, 1]. Convert image to uint8 prior to saving to suppress this warning.\n",
            "/usr/local/lib/python3.6/dist-packages/ipykernel_launcher.py:6: UserWarning: /content/drive/My Drive/5_corridors_train_val_data/train-20200530T092227Z-001/mask/South_St_317.jpg is a low contrast image\n",
            "  \n",
            "WARNING:root:Lossy conversion from float64 to uint8. Range [0, 1]. Convert image to uint8 prior to saving to suppress this warning.\n",
            "/usr/local/lib/python3.6/dist-packages/ipykernel_launcher.py:6: UserWarning: /content/drive/My Drive/5_corridors_train_val_data/train-20200530T092227Z-001/mask/2nd_Ave_337.jpg is a low contrast image\n",
            "  \n",
            "WARNING:root:Lossy conversion from float64 to uint8. Range [0, 1]. Convert image to uint8 prior to saving to suppress this warning.\n",
            "WARNING:root:Lossy conversion from float64 to uint8. Range [0, 1]. Convert image to uint8 prior to saving to suppress this warning.\n",
            "/usr/local/lib/python3.6/dist-packages/ipykernel_launcher.py:6: UserWarning: /content/drive/My Drive/5_corridors_train_val_data/train-20200530T092227Z-001/mask/2_Ave_51.jpg is a low contrast image\n",
            "  \n",
            "WARNING:root:Lossy conversion from float64 to uint8. Range [0, 1]. Convert image to uint8 prior to saving to suppress this warning.\n"
          ],
          "name": "stderr"
        },
        {
          "output_type": "stream",
          "text": [
            "image name::   South_St_317.jpg\n",
            "image name::   2nd_Ave_337.jpg\n",
            "image name::   2nd_Ave_150.jpg\n",
            "image name::   2_Ave_51.jpg\n",
            "image name::   South_St_236.jpg\n"
          ],
          "name": "stdout"
        },
        {
          "output_type": "stream",
          "text": [
            "WARNING:root:Lossy conversion from float64 to uint8. Range [0, 1]. Convert image to uint8 prior to saving to suppress this warning.\n",
            "WARNING:root:Lossy conversion from float64 to uint8. Range [0, 1]. Convert image to uint8 prior to saving to suppress this warning.\n",
            "WARNING:root:Lossy conversion from float64 to uint8. Range [0, 1]. Convert image to uint8 prior to saving to suppress this warning.\n"
          ],
          "name": "stderr"
        },
        {
          "output_type": "stream",
          "text": [
            "image name::   7_Ave_S_49.jpg\n",
            "image name::   Yellowstone_Blvd_199.jpg\n",
            "image name::   South_St_351.jpg\n"
          ],
          "name": "stdout"
        },
        {
          "output_type": "stream",
          "text": [
            "WARNING:root:Lossy conversion from float64 to uint8. Range [0, 1]. Convert image to uint8 prior to saving to suppress this warning.\n",
            "WARNING:root:Lossy conversion from float64 to uint8. Range [0, 1]. Convert image to uint8 prior to saving to suppress this warning.\n",
            "/usr/local/lib/python3.6/dist-packages/ipykernel_launcher.py:6: UserWarning: /content/drive/My Drive/5_corridors_train_val_data/train-20200530T092227Z-001/mask/7_Ave_S_292.jpg is a low contrast image\n",
            "  \n",
            "WARNING:root:Lossy conversion from float64 to uint8. Range [0, 1]. Convert image to uint8 prior to saving to suppress this warning.\n",
            "WARNING:root:Lossy conversion from float64 to uint8. Range [0, 1]. Convert image to uint8 prior to saving to suppress this warning.\n",
            "/usr/local/lib/python3.6/dist-packages/ipykernel_launcher.py:6: UserWarning: /content/drive/My Drive/5_corridors_train_val_data/train-20200530T092227Z-001/mask/South_St_11.jpg is a low contrast image\n",
            "  \n",
            "WARNING:root:Lossy conversion from float64 to uint8. Range [0, 1]. Convert image to uint8 prior to saving to suppress this warning.\n"
          ],
          "name": "stderr"
        },
        {
          "output_type": "stream",
          "text": [
            "image name::   7_Ave_S_396.jpg\n",
            "image name::   7_Ave_S_292.jpg\n",
            "image name::   South_St_147.jpg\n",
            "image name::   South_St_11.jpg\n",
            "image name::   7_Ave_S_274.jpg\n"
          ],
          "name": "stdout"
        },
        {
          "output_type": "stream",
          "text": [
            "WARNING:root:Lossy conversion from float64 to uint8. Range [0, 1]. Convert image to uint8 prior to saving to suppress this warning.\n",
            "/usr/local/lib/python3.6/dist-packages/ipykernel_launcher.py:6: UserWarning: /content/drive/My Drive/5_corridors_train_val_data/train-20200530T092227Z-001/mask/Yellowstone_Blvd_315.jpg is a low contrast image\n",
            "  \n",
            "WARNING:root:Lossy conversion from float64 to uint8. Range [0, 1]. Convert image to uint8 prior to saving to suppress this warning.\n",
            "WARNING:root:Lossy conversion from float64 to uint8. Range [0, 1]. Convert image to uint8 prior to saving to suppress this warning.\n",
            "/usr/local/lib/python3.6/dist-packages/ipykernel_launcher.py:6: UserWarning: /content/drive/My Drive/5_corridors_train_val_data/train-20200530T092227Z-001/mask/7_Ave_S_3.jpg is a low contrast image\n",
            "  \n",
            "WARNING:root:Lossy conversion from float64 to uint8. Range [0, 1]. Convert image to uint8 prior to saving to suppress this warning.\n",
            "WARNING:root:Lossy conversion from float64 to uint8. Range [0, 1]. Convert image to uint8 prior to saving to suppress this warning.\n"
          ],
          "name": "stderr"
        },
        {
          "output_type": "stream",
          "text": [
            "image name::   Yellowstone_Blvd_315.jpg\n",
            "image name::   2nd_Ave_95.jpg\n",
            "image name::   7_Ave_S_3.jpg\n",
            "image name::   South_St_199.jpg\n"
          ],
          "name": "stdout"
        },
        {
          "output_type": "stream",
          "text": [
            "WARNING:root:Lossy conversion from float64 to uint8. Range [0, 1]. Convert image to uint8 prior to saving to suppress this warning.\n",
            "/usr/local/lib/python3.6/dist-packages/ipykernel_launcher.py:6: UserWarning: /content/drive/My Drive/5_corridors_train_val_data/train-20200530T092227Z-001/mask/Queens_Blvd_7.jpg is a low contrast image\n",
            "  \n",
            "WARNING:root:Lossy conversion from float64 to uint8. Range [0, 1]. Convert image to uint8 prior to saving to suppress this warning.\n",
            "WARNING:root:Lossy conversion from float64 to uint8. Range [0, 1]. Convert image to uint8 prior to saving to suppress this warning.\n",
            "/usr/local/lib/python3.6/dist-packages/ipykernel_launcher.py:6: UserWarning: /content/drive/My Drive/5_corridors_train_val_data/train-20200530T092227Z-001/mask/2nd_Ave_101.jpg is a low contrast image\n",
            "  \n",
            "WARNING:root:Lossy conversion from float64 to uint8. Range [0, 1]. Convert image to uint8 prior to saving to suppress this warning.\n",
            "/usr/local/lib/python3.6/dist-packages/ipykernel_launcher.py:6: UserWarning: /content/drive/My Drive/5_corridors_train_val_data/train-20200530T092227Z-001/mask/7_Ave_S_155.jpg is a low contrast image\n",
            "  \n",
            "WARNING:root:Lossy conversion from float64 to uint8. Range [0, 1]. Convert image to uint8 prior to saving to suppress this warning.\n"
          ],
          "name": "stderr"
        },
        {
          "output_type": "stream",
          "text": [
            "image name::   2nd_Ave_358.jpg\n",
            "image name::   Queens_Blvd_7.jpg\n",
            "image name::   2nd_Ave_47.jpg\n",
            "image name::   2nd_Ave_101.jpg\n",
            "image name::   7_Ave_S_155.jpg\n"
          ],
          "name": "stdout"
        },
        {
          "output_type": "stream",
          "text": [
            "/usr/local/lib/python3.6/dist-packages/ipykernel_launcher.py:6: UserWarning: /content/drive/My Drive/5_corridors_train_val_data/train-20200530T092227Z-001/mask/South_St_937.jpg is a low contrast image\n",
            "  \n",
            "WARNING:root:Lossy conversion from float64 to uint8. Range [0, 1]. Convert image to uint8 prior to saving to suppress this warning.\n",
            "/usr/local/lib/python3.6/dist-packages/ipykernel_launcher.py:6: UserWarning: /content/drive/My Drive/5_corridors_train_val_data/train-20200530T092227Z-001/mask/South_St_882.jpg is a low contrast image\n",
            "  \n",
            "WARNING:root:Lossy conversion from float64 to uint8. Range [0, 1]. Convert image to uint8 prior to saving to suppress this warning.\n",
            "WARNING:root:Lossy conversion from float64 to uint8. Range [0, 1]. Convert image to uint8 prior to saving to suppress this warning.\n",
            "WARNING:root:Lossy conversion from float64 to uint8. Range [0, 1]. Convert image to uint8 prior to saving to suppress this warning.\n"
          ],
          "name": "stderr"
        },
        {
          "output_type": "stream",
          "text": [
            "image name::   South_St_937.jpg\n",
            "image name::   South_St_882.jpg\n",
            "image name::   7_Ave_S_166.jpg\n",
            "image name::   46_Ave_12.jpg\n"
          ],
          "name": "stdout"
        },
        {
          "output_type": "stream",
          "text": [
            "/usr/local/lib/python3.6/dist-packages/ipykernel_launcher.py:6: UserWarning: /content/drive/My Drive/5_corridors_train_val_data/train-20200530T092227Z-001/mask/46_Ave_34.jpg is a low contrast image\n",
            "  \n",
            "WARNING:root:Lossy conversion from float64 to uint8. Range [0, 1]. Convert image to uint8 prior to saving to suppress this warning.\n",
            "/usr/local/lib/python3.6/dist-packages/ipykernel_launcher.py:6: UserWarning: /content/drive/My Drive/5_corridors_train_val_data/train-20200530T092227Z-001/mask/Yellowstone_Blvd_252.jpg is a low contrast image\n",
            "  \n",
            "WARNING:root:Lossy conversion from float64 to uint8. Range [0, 1]. Convert image to uint8 prior to saving to suppress this warning.\n",
            "WARNING:root:Lossy conversion from float64 to uint8. Range [0, 1]. Convert image to uint8 prior to saving to suppress this warning.\n"
          ],
          "name": "stderr"
        },
        {
          "output_type": "stream",
          "text": [
            "image name::   46_Ave_34.jpg\n",
            "image name::   Yellowstone_Blvd_252.jpg\n",
            "image name::   7_Ave_S_287.jpg\n",
            "image name::   South_St_1.jpg\n"
          ],
          "name": "stdout"
        },
        {
          "output_type": "stream",
          "text": [
            "/usr/local/lib/python3.6/dist-packages/ipykernel_launcher.py:6: UserWarning: /content/drive/My Drive/5_corridors_train_val_data/train-20200530T092227Z-001/mask/South_St_1.jpg is a low contrast image\n",
            "  \n",
            "WARNING:root:Lossy conversion from float64 to uint8. Range [0, 1]. Convert image to uint8 prior to saving to suppress this warning.\n",
            "WARNING:root:Lossy conversion from float64 to uint8. Range [0, 1]. Convert image to uint8 prior to saving to suppress this warning.\n",
            "/usr/local/lib/python3.6/dist-packages/ipykernel_launcher.py:6: UserWarning: /content/drive/My Drive/5_corridors_train_val_data/train-20200530T092227Z-001/mask/Yellowstone_Blvd_251.jpg is a low contrast image\n",
            "  \n",
            "WARNING:root:Lossy conversion from float64 to uint8. Range [0, 1]. Convert image to uint8 prior to saving to suppress this warning.\n",
            "/usr/local/lib/python3.6/dist-packages/ipykernel_launcher.py:6: UserWarning: /content/drive/My Drive/5_corridors_train_val_data/train-20200530T092227Z-001/mask/South_St_365.jpg is a low contrast image\n",
            "  \n",
            "WARNING:root:Lossy conversion from float64 to uint8. Range [0, 1]. Convert image to uint8 prior to saving to suppress this warning.\n"
          ],
          "name": "stderr"
        },
        {
          "output_type": "stream",
          "text": [
            "image name::   South_St_618.jpg\n",
            "image name::   Yellowstone_Blvd_251.jpg\n",
            "image name::   South_St_365.jpg\n",
            "image name::   7_Ave_S_389.jpg\n"
          ],
          "name": "stdout"
        },
        {
          "output_type": "stream",
          "text": [
            "WARNING:root:Lossy conversion from float64 to uint8. Range [0, 1]. Convert image to uint8 prior to saving to suppress this warning.\n",
            "WARNING:root:Lossy conversion from float64 to uint8. Range [0, 1]. Convert image to uint8 prior to saving to suppress this warning.\n",
            "WARNING:root:Lossy conversion from float64 to uint8. Range [0, 1]. Convert image to uint8 prior to saving to suppress this warning.\n",
            "WARNING:root:Lossy conversion from float64 to uint8. Range [0, 1]. Convert image to uint8 prior to saving to suppress this warning.\n",
            "WARNING:root:Lossy conversion from float64 to uint8. Range [0, 1]. Convert image to uint8 prior to saving to suppress this warning.\n"
          ],
          "name": "stderr"
        },
        {
          "output_type": "stream",
          "text": [
            "image name::   7_Ave_S_294.jpg\n",
            "image name::   Yellowstone_Blvd_179.jpg\n",
            "image name::   2nd_Ave_368.jpg\n",
            "image name::   South_St_503.jpg\n"
          ],
          "name": "stdout"
        },
        {
          "output_type": "stream",
          "text": [
            "WARNING:root:Lossy conversion from float64 to uint8. Range [0, 1]. Convert image to uint8 prior to saving to suppress this warning.\n",
            "WARNING:root:Lossy conversion from float64 to uint8. Range [0, 1]. Convert image to uint8 prior to saving to suppress this warning.\n",
            "WARNING:root:Lossy conversion from float64 to uint8. Range [0, 1]. Convert image to uint8 prior to saving to suppress this warning.\n"
          ],
          "name": "stderr"
        },
        {
          "output_type": "stream",
          "text": [
            "image name::   E_Tremont_180.jpg\n",
            "image name::   Queens_Blvd_76.jpg\n",
            "image name::   Yellowstone_Blvd_279.jpg\n"
          ],
          "name": "stdout"
        },
        {
          "output_type": "stream",
          "text": [
            "WARNING:root:Lossy conversion from float64 to uint8. Range [0, 1]. Convert image to uint8 prior to saving to suppress this warning.\n",
            "WARNING:root:Lossy conversion from float64 to uint8. Range [0, 1]. Convert image to uint8 prior to saving to suppress this warning.\n",
            "WARNING:root:Lossy conversion from float64 to uint8. Range [0, 1]. Convert image to uint8 prior to saving to suppress this warning.\n",
            "WARNING:root:Lossy conversion from float64 to uint8. Range [0, 1]. Convert image to uint8 prior to saving to suppress this warning.\n"
          ],
          "name": "stderr"
        },
        {
          "output_type": "stream",
          "text": [
            "image name::   43rd_Skillman_190.jpg\n",
            "image name::   7_Ave_S_41.jpg\n",
            "image name::   South_St_708.jpg\n",
            "image name::   43rd_Skillman_65.jpg\n"
          ],
          "name": "stdout"
        },
        {
          "output_type": "stream",
          "text": [
            "WARNING:root:Lossy conversion from float64 to uint8. Range [0, 1]. Convert image to uint8 prior to saving to suppress this warning.\n",
            "WARNING:root:Lossy conversion from float64 to uint8. Range [0, 1]. Convert image to uint8 prior to saving to suppress this warning.\n",
            "WARNING:root:Lossy conversion from float64 to uint8. Range [0, 1]. Convert image to uint8 prior to saving to suppress this warning.\n",
            "WARNING:root:Lossy conversion from float64 to uint8. Range [0, 1]. Convert image to uint8 prior to saving to suppress this warning.\n"
          ],
          "name": "stderr"
        },
        {
          "output_type": "stream",
          "text": [
            "image name::   7_Ave_S_24.jpg\n",
            "image name::   2_Ave_43.jpg\n",
            "image name::   7_Ave_S_164.jpg\n",
            "image name::   7_Ave_S_191.jpg\n"
          ],
          "name": "stdout"
        },
        {
          "output_type": "stream",
          "text": [
            "WARNING:root:Lossy conversion from float64 to uint8. Range [0, 1]. Convert image to uint8 prior to saving to suppress this warning.\n",
            "/usr/local/lib/python3.6/dist-packages/ipykernel_launcher.py:6: UserWarning: /content/drive/My Drive/5_corridors_train_val_data/train-20200530T092227Z-001/mask/7_Ave_S_269.jpg is a low contrast image\n",
            "  \n",
            "WARNING:root:Lossy conversion from float64 to uint8. Range [0, 1]. Convert image to uint8 prior to saving to suppress this warning.\n",
            "WARNING:root:Lossy conversion from float64 to uint8. Range [0, 1]. Convert image to uint8 prior to saving to suppress this warning.\n"
          ],
          "name": "stderr"
        },
        {
          "output_type": "stream",
          "text": [
            "image name::   South_St_485.jpg\n",
            "image name::   7_Ave_S_269.jpg\n",
            "image name::   2nd_Ave_340.jpg\n",
            "image name::   2_Ave_45.jpg\n"
          ],
          "name": "stdout"
        },
        {
          "output_type": "stream",
          "text": [
            "WARNING:root:Lossy conversion from float64 to uint8. Range [0, 1]. Convert image to uint8 prior to saving to suppress this warning.\n",
            "WARNING:root:Lossy conversion from float64 to uint8. Range [0, 1]. Convert image to uint8 prior to saving to suppress this warning.\n",
            "/usr/local/lib/python3.6/dist-packages/ipykernel_launcher.py:6: UserWarning: /content/drive/My Drive/5_corridors_train_val_data/train-20200530T092227Z-001/mask/7_Ave_S_147.jpg is a low contrast image\n",
            "  \n",
            "WARNING:root:Lossy conversion from float64 to uint8. Range [0, 1]. Convert image to uint8 prior to saving to suppress this warning.\n"
          ],
          "name": "stderr"
        },
        {
          "output_type": "stream",
          "text": [
            "image name::   7_Ave_S_319.jpg\n",
            "image name::   7_Ave_S_147.jpg\n",
            "image name::   7_Ave_S_96.jpg\n"
          ],
          "name": "stdout"
        },
        {
          "output_type": "stream",
          "text": [
            "WARNING:root:Lossy conversion from float64 to uint8. Range [0, 1]. Convert image to uint8 prior to saving to suppress this warning.\n",
            "WARNING:root:Lossy conversion from float64 to uint8. Range [0, 1]. Convert image to uint8 prior to saving to suppress this warning.\n",
            "WARNING:root:Lossy conversion from float64 to uint8. Range [0, 1]. Convert image to uint8 prior to saving to suppress this warning.\n",
            "/usr/local/lib/python3.6/dist-packages/ipykernel_launcher.py:6: UserWarning: /content/drive/My Drive/5_corridors_train_val_data/train-20200530T092227Z-001/mask/Queens_Blvd_213.jpg is a low contrast image\n",
            "  \n",
            "WARNING:root:Lossy conversion from float64 to uint8. Range [0, 1]. Convert image to uint8 prior to saving to suppress this warning.\n",
            "WARNING:root:Lossy conversion from float64 to uint8. Range [0, 1]. Convert image to uint8 prior to saving to suppress this warning.\n"
          ],
          "name": "stderr"
        },
        {
          "output_type": "stream",
          "text": [
            "image name::   Waterbury_Ave_3.jpg\n",
            "image name::   Forest_Road_22.jpg\n",
            "image name::   Queens_Blvd_213.jpg\n",
            "image name::   2nd_Ave_354.jpg\n"
          ],
          "name": "stdout"
        },
        {
          "output_type": "stream",
          "text": [
            "WARNING:root:Lossy conversion from float64 to uint8. Range [0, 1]. Convert image to uint8 prior to saving to suppress this warning.\n",
            "/usr/local/lib/python3.6/dist-packages/ipykernel_launcher.py:6: UserWarning: /content/drive/My Drive/5_corridors_train_val_data/train-20200530T092227Z-001/mask/7_Ave_S_254.jpg is a low contrast image\n",
            "  \n",
            "WARNING:root:Lossy conversion from float64 to uint8. Range [0, 1]. Convert image to uint8 prior to saving to suppress this warning.\n",
            "WARNING:root:Lossy conversion from float64 to uint8. Range [0, 1]. Convert image to uint8 prior to saving to suppress this warning.\n",
            "WARNING:root:Lossy conversion from float64 to uint8. Range [0, 1]. Convert image to uint8 prior to saving to suppress this warning.\n"
          ],
          "name": "stderr"
        },
        {
          "output_type": "stream",
          "text": [
            "image name::   46_Ave_3.jpg\n",
            "image name::   7_Ave_S_254.jpg\n",
            "image name::   South_St_619.jpg\n",
            "image name::   7_Ave_S_324.jpg\n"
          ],
          "name": "stdout"
        },
        {
          "output_type": "stream",
          "text": [
            "WARNING:root:Lossy conversion from float64 to uint8. Range [0, 1]. Convert image to uint8 prior to saving to suppress this warning.\n",
            "WARNING:root:Lossy conversion from float64 to uint8. Range [0, 1]. Convert image to uint8 prior to saving to suppress this warning.\n"
          ],
          "name": "stderr"
        },
        {
          "output_type": "stream",
          "text": [
            "image name::   2nd_Ave_53.jpg\n",
            "image name::   2nd_Ave_25.jpg\n"
          ],
          "name": "stdout"
        },
        {
          "output_type": "stream",
          "text": [
            "WARNING:root:Lossy conversion from float64 to uint8. Range [0, 1]. Convert image to uint8 prior to saving to suppress this warning.\n",
            "WARNING:root:Lossy conversion from float64 to uint8. Range [0, 1]. Convert image to uint8 prior to saving to suppress this warning.\n"
          ],
          "name": "stderr"
        },
        {
          "output_type": "stream",
          "text": [
            "image name::   South_St_3.jpg\n",
            "image name::   7_Ave_S_186.jpg\n",
            "image name::   2nd_Ave_427.jpg\n"
          ],
          "name": "stdout"
        },
        {
          "output_type": "stream",
          "text": [
            "WARNING:root:Lossy conversion from float64 to uint8. Range [0, 1]. Convert image to uint8 prior to saving to suppress this warning.\n",
            "WARNING:root:Lossy conversion from float64 to uint8. Range [0, 1]. Convert image to uint8 prior to saving to suppress this warning.\n",
            "/usr/local/lib/python3.6/dist-packages/ipykernel_launcher.py:6: UserWarning: /content/drive/My Drive/5_corridors_train_val_data/train-20200530T092227Z-001/mask/2nd_Ave_85.jpg is a low contrast image\n",
            "  \n",
            "WARNING:root:Lossy conversion from float64 to uint8. Range [0, 1]. Convert image to uint8 prior to saving to suppress this warning.\n",
            "/usr/local/lib/python3.6/dist-packages/ipykernel_launcher.py:6: UserWarning: /content/drive/My Drive/5_corridors_train_val_data/train-20200530T092227Z-001/mask/46_Ave_86.jpg is a low contrast image\n",
            "  \n",
            "WARNING:root:Lossy conversion from float64 to uint8. Range [0, 1]. Convert image to uint8 prior to saving to suppress this warning.\n",
            "WARNING:root:Lossy conversion from float64 to uint8. Range [0, 1]. Convert image to uint8 prior to saving to suppress this warning.\n"
          ],
          "name": "stderr"
        },
        {
          "output_type": "stream",
          "text": [
            "image name::   7_Ave_S_377.jpg\n",
            "image name::   2nd_Ave_85.jpg\n",
            "image name::   46_Ave_86.jpg\n",
            "image name::   7_Ave_S_65.jpg\n",
            "image name::   7_Ave_S_376.jpg\n"
          ],
          "name": "stdout"
        },
        {
          "output_type": "stream",
          "text": [
            "/usr/local/lib/python3.6/dist-packages/ipykernel_launcher.py:6: UserWarning: /content/drive/My Drive/5_corridors_train_val_data/train-20200530T092227Z-001/mask/7_Ave_S_376.jpg is a low contrast image\n",
            "  \n",
            "WARNING:root:Lossy conversion from float64 to uint8. Range [0, 1]. Convert image to uint8 prior to saving to suppress this warning.\n",
            "WARNING:root:Lossy conversion from float64 to uint8. Range [0, 1]. Convert image to uint8 prior to saving to suppress this warning.\n",
            "/usr/local/lib/python3.6/dist-packages/ipykernel_launcher.py:6: UserWarning: /content/drive/My Drive/5_corridors_train_val_data/train-20200530T092227Z-001/mask/7_Ave_S_245.jpg is a low contrast image\n",
            "  \n",
            "WARNING:root:Lossy conversion from float64 to uint8. Range [0, 1]. Convert image to uint8 prior to saving to suppress this warning.\n",
            "WARNING:root:Lossy conversion from float64 to uint8. Range [0, 1]. Convert image to uint8 prior to saving to suppress this warning.\n",
            "WARNING:root:Lossy conversion from float64 to uint8. Range [0, 1]. Convert image to uint8 prior to saving to suppress this warning.\n",
            "/usr/local/lib/python3.6/dist-packages/ipykernel_launcher.py:6: UserWarning: /content/drive/My Drive/5_corridors_train_val_data/train-20200530T092227Z-001/mask/South_St_211.jpg is a low contrast image\n",
            "  \n",
            "WARNING:root:Lossy conversion from float64 to uint8. Range [0, 1]. Convert image to uint8 prior to saving to suppress this warning.\n"
          ],
          "name": "stderr"
        },
        {
          "output_type": "stream",
          "text": [
            "image name::   Forest_Road_21.jpg\n",
            "image name::   7_Ave_S_245.jpg\n",
            "image name::   South_St_649.jpg\n",
            "image name::   7_Ave_S_156.jpg\n",
            "image name::   South_St_211.jpg\n"
          ],
          "name": "stdout"
        },
        {
          "output_type": "stream",
          "text": [
            "/usr/local/lib/python3.6/dist-packages/ipykernel_launcher.py:6: UserWarning: /content/drive/My Drive/5_corridors_train_val_data/train-20200530T092227Z-001/mask/46_Ave_92.jpg is a low contrast image\n",
            "  \n",
            "WARNING:root:Lossy conversion from float64 to uint8. Range [0, 1]. Convert image to uint8 prior to saving to suppress this warning.\n",
            "WARNING:root:Lossy conversion from float64 to uint8. Range [0, 1]. Convert image to uint8 prior to saving to suppress this warning.\n",
            "WARNING:root:Lossy conversion from float64 to uint8. Range [0, 1]. Convert image to uint8 prior to saving to suppress this warning.\n"
          ],
          "name": "stderr"
        },
        {
          "output_type": "stream",
          "text": [
            "image name::   46_Ave_92.jpg\n",
            "image name::   South_St_589.jpg\n",
            "image name::   2nd_Ave_394.jpg\n",
            "image name::   E_Tremont_46.jpg\n"
          ],
          "name": "stdout"
        },
        {
          "output_type": "stream",
          "text": [
            "WARNING:root:Lossy conversion from float64 to uint8. Range [0, 1]. Convert image to uint8 prior to saving to suppress this warning.\n",
            "WARNING:root:Lossy conversion from float64 to uint8. Range [0, 1]. Convert image to uint8 prior to saving to suppress this warning.\n",
            "WARNING:root:Lossy conversion from float64 to uint8. Range [0, 1]. Convert image to uint8 prior to saving to suppress this warning.\n",
            "/usr/local/lib/python3.6/dist-packages/ipykernel_launcher.py:6: UserWarning: /content/drive/My Drive/5_corridors_train_val_data/train-20200530T092227Z-001/mask/7_Ave_S_442.jpg is a low contrast image\n",
            "  \n",
            "WARNING:root:Lossy conversion from float64 to uint8. Range [0, 1]. Convert image to uint8 prior to saving to suppress this warning.\n",
            "WARNING:root:Lossy conversion from float64 to uint8. Range [0, 1]. Convert image to uint8 prior to saving to suppress this warning.\n"
          ],
          "name": "stderr"
        },
        {
          "output_type": "stream",
          "text": [
            "image name::   South_St_178.jpg\n",
            "image name::   46_Ave_45.jpg\n",
            "image name::   7_Ave_S_442.jpg\n",
            "image name::   2nd_Ave_8.jpg\n",
            "image name::   7_Ave_S_126.jpg\n"
          ],
          "name": "stdout"
        },
        {
          "output_type": "stream",
          "text": [
            "/usr/local/lib/python3.6/dist-packages/ipykernel_launcher.py:6: UserWarning: /content/drive/My Drive/5_corridors_train_val_data/train-20200530T092227Z-001/mask/7_Ave_S_126.jpg is a low contrast image\n",
            "  \n",
            "WARNING:root:Lossy conversion from float64 to uint8. Range [0, 1]. Convert image to uint8 prior to saving to suppress this warning.\n",
            "WARNING:root:Lossy conversion from float64 to uint8. Range [0, 1]. Convert image to uint8 prior to saving to suppress this warning.\n",
            "/usr/local/lib/python3.6/dist-packages/ipykernel_launcher.py:6: UserWarning: /content/drive/My Drive/5_corridors_train_val_data/train-20200530T092227Z-001/mask/7_Ave_S_78.jpg is a low contrast image\n",
            "  \n",
            "WARNING:root:Lossy conversion from float64 to uint8. Range [0, 1]. Convert image to uint8 prior to saving to suppress this warning.\n",
            "/usr/local/lib/python3.6/dist-packages/ipykernel_launcher.py:6: UserWarning: /content/drive/My Drive/5_corridors_train_val_data/train-20200530T092227Z-001/mask/2_Ave_59.jpg is a low contrast image\n",
            "  \n",
            "WARNING:root:Lossy conversion from float64 to uint8. Range [0, 1]. Convert image to uint8 prior to saving to suppress this warning.\n",
            "WARNING:root:Lossy conversion from float64 to uint8. Range [0, 1]. Convert image to uint8 prior to saving to suppress this warning.\n"
          ],
          "name": "stderr"
        },
        {
          "output_type": "stream",
          "text": [
            "image name::   46_Ave_2.jpg\n",
            "image name::   7_Ave_S_78.jpg\n",
            "image name::   2_Ave_59.jpg\n",
            "image name::   2nd_Ave_371.jpg\n",
            "image name::   2nd_Ave_275.jpg\n"
          ],
          "name": "stdout"
        },
        {
          "output_type": "stream",
          "text": [
            "WARNING:root:Lossy conversion from float64 to uint8. Range [0, 1]. Convert image to uint8 prior to saving to suppress this warning.\n",
            "WARNING:root:Lossy conversion from float64 to uint8. Range [0, 1]. Convert image to uint8 prior to saving to suppress this warning.\n",
            "/usr/local/lib/python3.6/dist-packages/ipykernel_launcher.py:6: UserWarning: /content/drive/My Drive/5_corridors_train_val_data/train-20200530T092227Z-001/mask/2nd_Ave_372.jpg is a low contrast image\n",
            "  \n",
            "WARNING:root:Lossy conversion from float64 to uint8. Range [0, 1]. Convert image to uint8 prior to saving to suppress this warning.\n",
            "WARNING:root:Lossy conversion from float64 to uint8. Range [0, 1]. Convert image to uint8 prior to saving to suppress this warning.\n"
          ],
          "name": "stderr"
        },
        {
          "output_type": "stream",
          "text": [
            "image name::   7_Ave_S_121.jpg\n",
            "image name::   2nd_Ave_372.jpg\n",
            "image name::   2nd_Ave_384.jpg\n"
          ],
          "name": "stdout"
        },
        {
          "output_type": "stream",
          "text": [
            "WARNING:root:Lossy conversion from float64 to uint8. Range [0, 1]. Convert image to uint8 prior to saving to suppress this warning.\n",
            "WARNING:root:Lossy conversion from float64 to uint8. Range [0, 1]. Convert image to uint8 prior to saving to suppress this warning.\n",
            "WARNING:root:Lossy conversion from float64 to uint8. Range [0, 1]. Convert image to uint8 prior to saving to suppress this warning.\n"
          ],
          "name": "stderr"
        },
        {
          "output_type": "stream",
          "text": [
            "image name::   7_Ave_S_173.jpg\n",
            "image name::   7_Ave_S_19.jpg\n",
            "image name::   Queens_Blvd_140.jpg\n",
            "image name::   South_St_154.jpg\n"
          ],
          "name": "stdout"
        },
        {
          "output_type": "stream",
          "text": [
            "WARNING:root:Lossy conversion from float64 to uint8. Range [0, 1]. Convert image to uint8 prior to saving to suppress this warning.\n",
            "WARNING:root:Lossy conversion from float64 to uint8. Range [0, 1]. Convert image to uint8 prior to saving to suppress this warning.\n",
            "WARNING:root:Lossy conversion from float64 to uint8. Range [0, 1]. Convert image to uint8 prior to saving to suppress this warning.\n",
            "WARNING:root:Lossy conversion from float64 to uint8. Range [0, 1]. Convert image to uint8 prior to saving to suppress this warning.\n",
            "WARNING:root:Lossy conversion from float64 to uint8. Range [0, 1]. Convert image to uint8 prior to saving to suppress this warning.\n"
          ],
          "name": "stderr"
        },
        {
          "output_type": "stream",
          "text": [
            "image name::   South_St_263.jpg\n",
            "image name::   43rd_Skillman_189.jpg\n",
            "image name::   7_Ave_S_144.jpg\n",
            "image name::   2nd_Ave_421.jpg\n"
          ],
          "name": "stdout"
        },
        {
          "output_type": "stream",
          "text": [
            "/usr/local/lib/python3.6/dist-packages/ipykernel_launcher.py:6: UserWarning: /content/drive/My Drive/5_corridors_train_val_data/train-20200530T092227Z-001/mask/2nd_Ave_422.jpg is a low contrast image\n",
            "  \n",
            "WARNING:root:Lossy conversion from float64 to uint8. Range [0, 1]. Convert image to uint8 prior to saving to suppress this warning.\n",
            "/usr/local/lib/python3.6/dist-packages/ipykernel_launcher.py:6: UserWarning: /content/drive/My Drive/5_corridors_train_val_data/train-20200530T092227Z-001/mask/2nd_Ave_157.jpg is a low contrast image\n",
            "  \n",
            "WARNING:root:Lossy conversion from float64 to uint8. Range [0, 1]. Convert image to uint8 prior to saving to suppress this warning.\n",
            "WARNING:root:Lossy conversion from float64 to uint8. Range [0, 1]. Convert image to uint8 prior to saving to suppress this warning.\n",
            "WARNING:root:Lossy conversion from float64 to uint8. Range [0, 1]. Convert image to uint8 prior to saving to suppress this warning.\n"
          ],
          "name": "stderr"
        },
        {
          "output_type": "stream",
          "text": [
            "image name::   2nd_Ave_422.jpg\n",
            "image name::   2nd_Ave_157.jpg\n",
            "image name::   2nd_Ave_48.jpg\n",
            "image name::   7_Ave_S_89.jpg\n",
            "image name::   7_Ave_S_272.jpg\n"
          ],
          "name": "stdout"
        },
        {
          "output_type": "stream",
          "text": [
            "WARNING:root:Lossy conversion from float64 to uint8. Range [0, 1]. Convert image to uint8 prior to saving to suppress this warning.\n",
            "WARNING:root:Lossy conversion from float64 to uint8. Range [0, 1]. Convert image to uint8 prior to saving to suppress this warning.\n",
            "WARNING:root:Lossy conversion from float64 to uint8. Range [0, 1]. Convert image to uint8 prior to saving to suppress this warning.\n",
            "WARNING:root:Lossy conversion from float64 to uint8. Range [0, 1]. Convert image to uint8 prior to saving to suppress this warning.\n"
          ],
          "name": "stderr"
        },
        {
          "output_type": "stream",
          "text": [
            "image name::   7_Ave_S_105.jpg\n",
            "image name::   South_St_511.jpg\n",
            "image name::   7_Ave_S_390.jpg\n",
            "image name::   Queens_Blvd_93.jpg\n"
          ],
          "name": "stdout"
        },
        {
          "output_type": "stream",
          "text": [
            "WARNING:root:Lossy conversion from float64 to uint8. Range [0, 1]. Convert image to uint8 prior to saving to suppress this warning.\n",
            "WARNING:root:Lossy conversion from float64 to uint8. Range [0, 1]. Convert image to uint8 prior to saving to suppress this warning.\n",
            "WARNING:root:Lossy conversion from float64 to uint8. Range [0, 1]. Convert image to uint8 prior to saving to suppress this warning.\n",
            "WARNING:root:Lossy conversion from float64 to uint8. Range [0, 1]. Convert image to uint8 prior to saving to suppress this warning.\n",
            "/usr/local/lib/python3.6/dist-packages/ipykernel_launcher.py:6: UserWarning: /content/drive/My Drive/5_corridors_train_val_data/train-20200530T092227Z-001/mask/Yellowstone_Blvd_276.jpg is a low contrast image\n",
            "  \n",
            "WARNING:root:Lossy conversion from float64 to uint8. Range [0, 1]. Convert image to uint8 prior to saving to suppress this warning.\n"
          ],
          "name": "stderr"
        },
        {
          "output_type": "stream",
          "text": [
            "image name::   2nd_Ave_282.jpg\n",
            "image name::   7_Ave_S_134.jpg\n",
            "image name::   7_Ave_S_432.jpg\n",
            "image name::   Yellowstone_Blvd_276.jpg\n"
          ],
          "name": "stdout"
        },
        {
          "output_type": "stream",
          "text": [
            "WARNING:root:Lossy conversion from float64 to uint8. Range [0, 1]. Convert image to uint8 prior to saving to suppress this warning.\n",
            "WARNING:root:Lossy conversion from float64 to uint8. Range [0, 1]. Convert image to uint8 prior to saving to suppress this warning.\n",
            "/usr/local/lib/python3.6/dist-packages/ipykernel_launcher.py:6: UserWarning: /content/drive/My Drive/5_corridors_train_val_data/train-20200530T092227Z-001/mask/2nd_Ave_289.jpg is a low contrast image\n",
            "  \n",
            "WARNING:root:Lossy conversion from float64 to uint8. Range [0, 1]. Convert image to uint8 prior to saving to suppress this warning.\n",
            "WARNING:root:Lossy conversion from float64 to uint8. Range [0, 1]. Convert image to uint8 prior to saving to suppress this warning.\n"
          ],
          "name": "stderr"
        },
        {
          "output_type": "stream",
          "text": [
            "image name::   2nd_Ave_164.jpg\n",
            "image name::   2nd_Ave_359.jpg\n",
            "image name::   2nd_Ave_289.jpg\n",
            "image name::   7_Ave_S_56.jpg\n"
          ],
          "name": "stdout"
        },
        {
          "output_type": "stream",
          "text": [
            "WARNING:root:Lossy conversion from float64 to uint8. Range [0, 1]. Convert image to uint8 prior to saving to suppress this warning.\n",
            "WARNING:root:Lossy conversion from float64 to uint8. Range [0, 1]. Convert image to uint8 prior to saving to suppress this warning.\n",
            "WARNING:root:Lossy conversion from float64 to uint8. Range [0, 1]. Convert image to uint8 prior to saving to suppress this warning.\n"
          ],
          "name": "stderr"
        },
        {
          "output_type": "stream",
          "text": [
            "image name::   7_Ave_S_113.jpg\n",
            "image name::   7_Ave_S_286.jpg\n",
            "image name::   2nd_Ave_75.jpg\n",
            "image name::   2nd_Ave_89.jpg\n"
          ],
          "name": "stdout"
        },
        {
          "output_type": "stream",
          "text": [
            "WARNING:root:Lossy conversion from float64 to uint8. Range [0, 1]. Convert image to uint8 prior to saving to suppress this warning.\n",
            "/usr/local/lib/python3.6/dist-packages/ipykernel_launcher.py:6: UserWarning: /content/drive/My Drive/5_corridors_train_val_data/train-20200530T092227Z-001/mask/South_St_539.jpg is a low contrast image\n",
            "  \n",
            "WARNING:root:Lossy conversion from float64 to uint8. Range [0, 1]. Convert image to uint8 prior to saving to suppress this warning.\n",
            "/usr/local/lib/python3.6/dist-packages/ipykernel_launcher.py:6: UserWarning: /content/drive/My Drive/5_corridors_train_val_data/train-20200530T092227Z-001/mask/Queens_Blvd_25.jpg is a low contrast image\n",
            "  \n",
            "WARNING:root:Lossy conversion from float64 to uint8. Range [0, 1]. Convert image to uint8 prior to saving to suppress this warning.\n",
            "/usr/local/lib/python3.6/dist-packages/ipykernel_launcher.py:6: UserWarning: /content/drive/My Drive/5_corridors_train_val_data/train-20200530T092227Z-001/mask/2nd_Ave_149.jpg is a low contrast image\n",
            "  \n",
            "WARNING:root:Lossy conversion from float64 to uint8. Range [0, 1]. Convert image to uint8 prior to saving to suppress this warning.\n",
            "/usr/local/lib/python3.6/dist-packages/ipykernel_launcher.py:6: UserWarning: /content/drive/My Drive/5_corridors_train_val_data/train-20200530T092227Z-001/mask/43rd_Skillman_155.jpg is a low contrast image\n",
            "  \n",
            "WARNING:root:Lossy conversion from float64 to uint8. Range [0, 1]. Convert image to uint8 prior to saving to suppress this warning.\n",
            "WARNING:root:Lossy conversion from float64 to uint8. Range [0, 1]. Convert image to uint8 prior to saving to suppress this warning.\n"
          ],
          "name": "stderr"
        },
        {
          "output_type": "stream",
          "text": [
            "image name::   South_St_539.jpg\n",
            "image name::   Queens_Blvd_25.jpg\n",
            "image name::   2nd_Ave_149.jpg\n",
            "image name::   43rd_Skillman_155.jpg\n",
            "image name::   7_Ave_S_209.jpg\n"
          ],
          "name": "stdout"
        },
        {
          "output_type": "stream",
          "text": [
            "WARNING:root:Lossy conversion from float64 to uint8. Range [0, 1]. Convert image to uint8 prior to saving to suppress this warning.\n",
            "/usr/local/lib/python3.6/dist-packages/ipykernel_launcher.py:6: UserWarning: /content/drive/My Drive/5_corridors_train_val_data/train-20200530T092227Z-001/mask/Yellowstone_Blvd_237.jpg is a low contrast image\n",
            "  \n",
            "WARNING:root:Lossy conversion from float64 to uint8. Range [0, 1]. Convert image to uint8 prior to saving to suppress this warning.\n",
            "/usr/local/lib/python3.6/dist-packages/ipykernel_launcher.py:6: UserWarning: /content/drive/My Drive/5_corridors_train_val_data/train-20200530T092227Z-001/mask/Queens_Blvd_103.jpg is a low contrast image\n",
            "  \n",
            "WARNING:root:Lossy conversion from float64 to uint8. Range [0, 1]. Convert image to uint8 prior to saving to suppress this warning.\n",
            "/usr/local/lib/python3.6/dist-packages/ipykernel_launcher.py:6: UserWarning: /content/drive/My Drive/5_corridors_train_val_data/train-20200530T092227Z-001/mask/7_Ave_S_382.jpg is a low contrast image\n",
            "  \n",
            "WARNING:root:Lossy conversion from float64 to uint8. Range [0, 1]. Convert image to uint8 prior to saving to suppress this warning.\n"
          ],
          "name": "stderr"
        },
        {
          "output_type": "stream",
          "text": [
            "image name::   7_Ave_S_267.jpg\n",
            "image name::   Yellowstone_Blvd_237.jpg\n",
            "image name::   Queens_Blvd_103.jpg\n",
            "image name::   7_Ave_S_382.jpg\n"
          ],
          "name": "stdout"
        },
        {
          "output_type": "stream",
          "text": [
            "/usr/local/lib/python3.6/dist-packages/ipykernel_launcher.py:6: UserWarning: /content/drive/My Drive/5_corridors_train_val_data/train-20200530T092227Z-001/mask/Queens_Blvd_115.jpg is a low contrast image\n",
            "  \n",
            "WARNING:root:Lossy conversion from float64 to uint8. Range [0, 1]. Convert image to uint8 prior to saving to suppress this warning.\n",
            "/usr/local/lib/python3.6/dist-packages/ipykernel_launcher.py:6: UserWarning: /content/drive/My Drive/5_corridors_train_val_data/train-20200530T092227Z-001/mask/Yellowstone_Blvd_143.jpg is a low contrast image\n",
            "  \n",
            "WARNING:root:Lossy conversion from float64 to uint8. Range [0, 1]. Convert image to uint8 prior to saving to suppress this warning.\n",
            "WARNING:root:Lossy conversion from float64 to uint8. Range [0, 1]. Convert image to uint8 prior to saving to suppress this warning.\n"
          ],
          "name": "stderr"
        },
        {
          "output_type": "stream",
          "text": [
            "image name::   Queens_Blvd_115.jpg\n",
            "image name::   Yellowstone_Blvd_143.jpg\n",
            "image name::   43rd_Skillman_64.jpg\n",
            "image name::   2nd_Ave_140.jpg\n"
          ],
          "name": "stdout"
        },
        {
          "output_type": "stream",
          "text": [
            "WARNING:root:Lossy conversion from float64 to uint8. Range [0, 1]. Convert image to uint8 prior to saving to suppress this warning.\n",
            "/usr/local/lib/python3.6/dist-packages/ipykernel_launcher.py:6: UserWarning: /content/drive/My Drive/5_corridors_train_val_data/train-20200530T092227Z-001/mask/Queens_Blvd_26.jpg is a low contrast image\n",
            "  \n",
            "WARNING:root:Lossy conversion from float64 to uint8. Range [0, 1]. Convert image to uint8 prior to saving to suppress this warning.\n",
            "/usr/local/lib/python3.6/dist-packages/ipykernel_launcher.py:6: UserWarning: /content/drive/My Drive/5_corridors_train_val_data/train-20200530T092227Z-001/mask/E_Tremont_89.jpg is a low contrast image\n",
            "  \n",
            "WARNING:root:Lossy conversion from float64 to uint8. Range [0, 1]. Convert image to uint8 prior to saving to suppress this warning.\n",
            "WARNING:root:Lossy conversion from float64 to uint8. Range [0, 1]. Convert image to uint8 prior to saving to suppress this warning.\n",
            "WARNING:root:Lossy conversion from float64 to uint8. Range [0, 1]. Convert image to uint8 prior to saving to suppress this warning.\n"
          ],
          "name": "stderr"
        },
        {
          "output_type": "stream",
          "text": [
            "image name::   Queens_Blvd_26.jpg\n",
            "image name::   E_Tremont_89.jpg\n",
            "image name::   2nd_Ave_66.jpg\n",
            "image name::   43rd_Skillman_135.jpg\n",
            "image name::   7_Ave_S_297.jpg\n"
          ],
          "name": "stdout"
        },
        {
          "output_type": "stream",
          "text": [
            "/usr/local/lib/python3.6/dist-packages/ipykernel_launcher.py:6: UserWarning: /content/drive/My Drive/5_corridors_train_val_data/train-20200530T092227Z-001/mask/7_Ave_S_297.jpg is a low contrast image\n",
            "  \n",
            "WARNING:root:Lossy conversion from float64 to uint8. Range [0, 1]. Convert image to uint8 prior to saving to suppress this warning.\n",
            "WARNING:root:Lossy conversion from float64 to uint8. Range [0, 1]. Convert image to uint8 prior to saving to suppress this warning.\n",
            "WARNING:root:Lossy conversion from float64 to uint8. Range [0, 1]. Convert image to uint8 prior to saving to suppress this warning.\n",
            "WARNING:root:Lossy conversion from float64 to uint8. Range [0, 1]. Convert image to uint8 prior to saving to suppress this warning.\n",
            "/usr/local/lib/python3.6/dist-packages/ipykernel_launcher.py:6: UserWarning: /content/drive/My Drive/5_corridors_train_val_data/train-20200530T092227Z-001/mask/7_Ave_S_203.jpg is a low contrast image\n",
            "  \n",
            "WARNING:root:Lossy conversion from float64 to uint8. Range [0, 1]. Convert image to uint8 prior to saving to suppress this warning.\n"
          ],
          "name": "stderr"
        },
        {
          "output_type": "stream",
          "text": [
            "image name::   Yellowstone_Blvd_177.jpg\n",
            "image name::   South_St_955.jpg\n",
            "image name::   7_Ave_S_384.jpg\n",
            "image name::   7_Ave_S_203.jpg\n"
          ],
          "name": "stdout"
        },
        {
          "output_type": "stream",
          "text": [
            "WARNING:root:Lossy conversion from float64 to uint8. Range [0, 1]. Convert image to uint8 prior to saving to suppress this warning.\n",
            "WARNING:root:Lossy conversion from float64 to uint8. Range [0, 1]. Convert image to uint8 prior to saving to suppress this warning.\n",
            "WARNING:root:Lossy conversion from float64 to uint8. Range [0, 1]. Convert image to uint8 prior to saving to suppress this warning.\n",
            "/usr/local/lib/python3.6/dist-packages/ipykernel_launcher.py:6: UserWarning: /content/drive/My Drive/5_corridors_train_val_data/train-20200530T092227Z-001/mask/Forest_Road_34.jpg is a low contrast image\n",
            "  \n",
            "WARNING:root:Lossy conversion from float64 to uint8. Range [0, 1]. Convert image to uint8 prior to saving to suppress this warning.\n"
          ],
          "name": "stderr"
        },
        {
          "output_type": "stream",
          "text": [
            "image name::   2nd_Ave_338.jpg\n",
            "image name::   7_Ave_S_50.jpg\n",
            "image name::   7_Ave_S_157.jpg\n",
            "image name::   Forest_Road_34.jpg\n"
          ],
          "name": "stdout"
        },
        {
          "output_type": "stream",
          "text": [
            "/usr/local/lib/python3.6/dist-packages/ipykernel_launcher.py:6: UserWarning: /content/drive/My Drive/5_corridors_train_val_data/train-20200530T092227Z-001/mask/Yellowstone_Blvd_218.jpg is a low contrast image\n",
            "  \n",
            "WARNING:root:Lossy conversion from float64 to uint8. Range [0, 1]. Convert image to uint8 prior to saving to suppress this warning.\n",
            "WARNING:root:Lossy conversion from float64 to uint8. Range [0, 1]. Convert image to uint8 prior to saving to suppress this warning.\n",
            "WARNING:root:Lossy conversion from float64 to uint8. Range [0, 1]. Convert image to uint8 prior to saving to suppress this warning.\n",
            "/usr/local/lib/python3.6/dist-packages/ipykernel_launcher.py:6: UserWarning: /content/drive/My Drive/5_corridors_train_val_data/train-20200530T092227Z-001/mask/Queens_Blvd_188.jpg is a low contrast image\n",
            "  \n",
            "WARNING:root:Lossy conversion from float64 to uint8. Range [0, 1]. Convert image to uint8 prior to saving to suppress this warning.\n"
          ],
          "name": "stderr"
        },
        {
          "output_type": "stream",
          "text": [
            "image name::   Yellowstone_Blvd_218.jpg\n",
            "image name::   2nd_Ave_425.jpg\n",
            "image name::   Queens_Blvd_77.jpg\n",
            "image name::   Queens_Blvd_188.jpg\n",
            "image name::   7_Ave_S_215.jpg\n"
          ],
          "name": "stdout"
        },
        {
          "output_type": "stream",
          "text": [
            "WARNING:root:Lossy conversion from float64 to uint8. Range [0, 1]. Convert image to uint8 prior to saving to suppress this warning.\n",
            "WARNING:root:Lossy conversion from float64 to uint8. Range [0, 1]. Convert image to uint8 prior to saving to suppress this warning.\n",
            "WARNING:root:Lossy conversion from float64 to uint8. Range [0, 1]. Convert image to uint8 prior to saving to suppress this warning.\n",
            "/usr/local/lib/python3.6/dist-packages/ipykernel_launcher.py:6: UserWarning: /content/drive/My Drive/5_corridors_train_val_data/train-20200530T092227Z-001/mask/7_Ave_S_222.jpg is a low contrast image\n",
            "  \n",
            "WARNING:root:Lossy conversion from float64 to uint8. Range [0, 1]. Convert image to uint8 prior to saving to suppress this warning.\n",
            "WARNING:root:Lossy conversion from float64 to uint8. Range [0, 1]. Convert image to uint8 prior to saving to suppress this warning.\n"
          ],
          "name": "stderr"
        },
        {
          "output_type": "stream",
          "text": [
            "image name::   South_St_932.jpg\n",
            "image name::   Yellowstone_Blvd_132.jpg\n",
            "image name::   7_Ave_S_222.jpg\n",
            "image name::   Queens_Blvd_157.jpg\n"
          ],
          "name": "stdout"
        },
        {
          "output_type": "stream",
          "text": [
            "WARNING:root:Lossy conversion from float64 to uint8. Range [0, 1]. Convert image to uint8 prior to saving to suppress this warning.\n",
            "/usr/local/lib/python3.6/dist-packages/ipykernel_launcher.py:6: UserWarning: /content/drive/My Drive/5_corridors_train_val_data/train-20200530T092227Z-001/mask/2nd_Ave_341.jpg is a low contrast image\n",
            "  \n",
            "WARNING:root:Lossy conversion from float64 to uint8. Range [0, 1]. Convert image to uint8 prior to saving to suppress this warning.\n",
            "/usr/local/lib/python3.6/dist-packages/ipykernel_launcher.py:6: UserWarning: /content/drive/My Drive/5_corridors_train_val_data/train-20200530T092227Z-001/mask/7_Ave_S_421.jpg is a low contrast image\n",
            "  \n",
            "WARNING:root:Lossy conversion from float64 to uint8. Range [0, 1]. Convert image to uint8 prior to saving to suppress this warning.\n",
            "WARNING:root:Lossy conversion from float64 to uint8. Range [0, 1]. Convert image to uint8 prior to saving to suppress this warning.\n"
          ],
          "name": "stderr"
        },
        {
          "output_type": "stream",
          "text": [
            "image name::   South_St_376.jpg\n",
            "image name::   2nd_Ave_341.jpg\n",
            "image name::   7_Ave_S_421.jpg\n",
            "image name::   South_St_163.jpg\n",
            "image name::   7_Ave_S_429.jpg\n"
          ],
          "name": "stdout"
        },
        {
          "output_type": "stream",
          "text": [
            "/usr/local/lib/python3.6/dist-packages/ipykernel_launcher.py:6: UserWarning: /content/drive/My Drive/5_corridors_train_val_data/train-20200530T092227Z-001/mask/7_Ave_S_429.jpg is a low contrast image\n",
            "  \n",
            "WARNING:root:Lossy conversion from float64 to uint8. Range [0, 1]. Convert image to uint8 prior to saving to suppress this warning.\n",
            "WARNING:root:Lossy conversion from float64 to uint8. Range [0, 1]. Convert image to uint8 prior to saving to suppress this warning.\n",
            "WARNING:root:Lossy conversion from float64 to uint8. Range [0, 1]. Convert image to uint8 prior to saving to suppress this warning.\n",
            "WARNING:root:Lossy conversion from float64 to uint8. Range [0, 1]. Convert image to uint8 prior to saving to suppress this warning.\n"
          ],
          "name": "stderr"
        },
        {
          "output_type": "stream",
          "text": [
            "image name::   46_Ave_79.jpg\n",
            "image name::   South_St_404.jpg\n",
            "image name::   South_St_243.jpg\n",
            "image name::   South_St_476.jpg\n"
          ],
          "name": "stdout"
        },
        {
          "output_type": "stream",
          "text": [
            "WARNING:root:Lossy conversion from float64 to uint8. Range [0, 1]. Convert image to uint8 prior to saving to suppress this warning.\n",
            "WARNING:root:Lossy conversion from float64 to uint8. Range [0, 1]. Convert image to uint8 prior to saving to suppress this warning.\n",
            "WARNING:root:Lossy conversion from float64 to uint8. Range [0, 1]. Convert image to uint8 prior to saving to suppress this warning.\n",
            "/usr/local/lib/python3.6/dist-packages/ipykernel_launcher.py:6: UserWarning: /content/drive/My Drive/5_corridors_train_val_data/train-20200530T092227Z-001/mask/2_Ave_81.jpg is a low contrast image\n",
            "  \n",
            "WARNING:root:Lossy conversion from float64 to uint8. Range [0, 1]. Convert image to uint8 prior to saving to suppress this warning.\n"
          ],
          "name": "stderr"
        },
        {
          "output_type": "stream",
          "text": [
            "image name::   Forest_Road_49.jpg\n",
            "image name::   Yellowstone_Blvd_225.jpg\n",
            "image name::   2_Ave_81.jpg\n",
            "image name::   7_Ave_S_223.jpg\n"
          ],
          "name": "stdout"
        },
        {
          "output_type": "stream",
          "text": [
            "WARNING:root:Lossy conversion from float64 to uint8. Range [0, 1]. Convert image to uint8 prior to saving to suppress this warning.\n",
            "WARNING:root:Lossy conversion from float64 to uint8. Range [0, 1]. Convert image to uint8 prior to saving to suppress this warning.\n",
            "WARNING:root:Lossy conversion from float64 to uint8. Range [0, 1]. Convert image to uint8 prior to saving to suppress this warning.\n"
          ],
          "name": "stderr"
        },
        {
          "output_type": "stream",
          "text": [
            "image name::   7_Ave_S_187.jpg\n",
            "image name::   Forest_Road_1.jpg\n",
            "image name::   2nd_Ave_274.jpg\n"
          ],
          "name": "stdout"
        },
        {
          "output_type": "stream",
          "text": [
            "WARNING:root:Lossy conversion from float64 to uint8. Range [0, 1]. Convert image to uint8 prior to saving to suppress this warning.\n",
            "WARNING:root:Lossy conversion from float64 to uint8. Range [0, 1]. Convert image to uint8 prior to saving to suppress this warning.\n",
            "WARNING:root:Lossy conversion from float64 to uint8. Range [0, 1]. Convert image to uint8 prior to saving to suppress this warning.\n",
            "/usr/local/lib/python3.6/dist-packages/ipykernel_launcher.py:6: UserWarning: /content/drive/My Drive/5_corridors_train_val_data/train-20200530T092227Z-001/mask/46_Ave_31.jpg is a low contrast image\n",
            "  \n",
            "WARNING:root:Lossy conversion from float64 to uint8. Range [0, 1]. Convert image to uint8 prior to saving to suppress this warning.\n",
            "WARNING:root:Lossy conversion from float64 to uint8. Range [0, 1]. Convert image to uint8 prior to saving to suppress this warning.\n"
          ],
          "name": "stderr"
        },
        {
          "output_type": "stream",
          "text": [
            "image name::   2nd_Ave_430.jpg\n",
            "image name::   2nd_Ave_133.jpg\n",
            "image name::   46_Ave_31.jpg\n",
            "image name::   South_St_883.jpg\n"
          ],
          "name": "stdout"
        },
        {
          "output_type": "stream",
          "text": [
            "WARNING:root:Lossy conversion from float64 to uint8. Range [0, 1]. Convert image to uint8 prior to saving to suppress this warning.\n",
            "WARNING:root:Lossy conversion from float64 to uint8. Range [0, 1]. Convert image to uint8 prior to saving to suppress this warning.\n",
            "WARNING:root:Lossy conversion from float64 to uint8. Range [0, 1]. Convert image to uint8 prior to saving to suppress this warning.\n",
            "/usr/local/lib/python3.6/dist-packages/ipykernel_launcher.py:6: UserWarning: /content/drive/My Drive/5_corridors_train_val_data/train-20200530T092227Z-001/mask/South_St_482.jpg is a low contrast image\n",
            "  \n",
            "WARNING:root:Lossy conversion from float64 to uint8. Range [0, 1]. Convert image to uint8 prior to saving to suppress this warning.\n"
          ],
          "name": "stderr"
        },
        {
          "output_type": "stream",
          "text": [
            "image name::   Queens_Blvd_192.jpg\n",
            "image name::   46_Ave_37.jpg\n",
            "image name::   2nd_Ave_312.jpg\n",
            "image name::   South_St_482.jpg\n"
          ],
          "name": "stdout"
        },
        {
          "output_type": "stream",
          "text": [
            "WARNING:root:Lossy conversion from float64 to uint8. Range [0, 1]. Convert image to uint8 prior to saving to suppress this warning.\n",
            "/usr/local/lib/python3.6/dist-packages/ipykernel_launcher.py:6: UserWarning: /content/drive/My Drive/5_corridors_train_val_data/train-20200530T092227Z-001/mask/Queens_Blvd_138.jpg is a low contrast image\n",
            "  \n",
            "WARNING:root:Lossy conversion from float64 to uint8. Range [0, 1]. Convert image to uint8 prior to saving to suppress this warning.\n",
            "WARNING:root:Lossy conversion from float64 to uint8. Range [0, 1]. Convert image to uint8 prior to saving to suppress this warning.\n",
            "/usr/local/lib/python3.6/dist-packages/ipykernel_launcher.py:6: UserWarning: /content/drive/My Drive/5_corridors_train_val_data/train-20200530T092227Z-001/mask/Queens_Blvd_69.jpg is a low contrast image\n",
            "  \n",
            "WARNING:root:Lossy conversion from float64 to uint8. Range [0, 1]. Convert image to uint8 prior to saving to suppress this warning.\n"
          ],
          "name": "stderr"
        },
        {
          "output_type": "stream",
          "text": [
            "image name::   Yellowstone_Blvd_283.jpg\n",
            "image name::   Queens_Blvd_138.jpg\n",
            "image name::   2_Ave_21.jpg\n",
            "image name::   Queens_Blvd_69.jpg\n"
          ],
          "name": "stdout"
        },
        {
          "output_type": "stream",
          "text": [
            "WARNING:root:Lossy conversion from float64 to uint8. Range [0, 1]. Convert image to uint8 prior to saving to suppress this warning.\n",
            "WARNING:root:Lossy conversion from float64 to uint8. Range [0, 1]. Convert image to uint8 prior to saving to suppress this warning.\n",
            "/usr/local/lib/python3.6/dist-packages/ipykernel_launcher.py:6: UserWarning: /content/drive/My Drive/5_corridors_train_val_data/train-20200530T092227Z-001/mask/Yellowstone_Blvd_308.jpg is a low contrast image\n",
            "  \n",
            "WARNING:root:Lossy conversion from float64 to uint8. Range [0, 1]. Convert image to uint8 prior to saving to suppress this warning.\n",
            "WARNING:root:Lossy conversion from float64 to uint8. Range [0, 1]. Convert image to uint8 prior to saving to suppress this warning.\n",
            "WARNING:root:Lossy conversion from float64 to uint8. Range [0, 1]. Convert image to uint8 prior to saving to suppress this warning.\n"
          ],
          "name": "stderr"
        },
        {
          "output_type": "stream",
          "text": [
            "image name::   South_St_550.jpg\n",
            "image name::   2_Ave_27.jpg\n",
            "image name::   Yellowstone_Blvd_308.jpg\n",
            "image name::   2nd_Ave_374.jpg\n",
            "image name::   2nd_Ave_45.jpg\n"
          ],
          "name": "stdout"
        },
        {
          "output_type": "stream",
          "text": [
            "WARNING:root:Lossy conversion from float64 to uint8. Range [0, 1]. Convert image to uint8 prior to saving to suppress this warning.\n",
            "/usr/local/lib/python3.6/dist-packages/ipykernel_launcher.py:6: UserWarning: /content/drive/My Drive/5_corridors_train_val_data/train-20200530T092227Z-001/mask/7_Ave_S_430.jpg is a low contrast image\n",
            "  \n",
            "WARNING:root:Lossy conversion from float64 to uint8. Range [0, 1]. Convert image to uint8 prior to saving to suppress this warning.\n",
            "/usr/local/lib/python3.6/dist-packages/ipykernel_launcher.py:6: UserWarning: /content/drive/My Drive/5_corridors_train_val_data/train-20200530T092227Z-001/mask/2nd_Ave_99.jpg is a low contrast image\n",
            "  \n",
            "WARNING:root:Lossy conversion from float64 to uint8. Range [0, 1]. Convert image to uint8 prior to saving to suppress this warning.\n",
            "/usr/local/lib/python3.6/dist-packages/ipykernel_launcher.py:6: UserWarning: /content/drive/My Drive/5_corridors_train_val_data/train-20200530T092227Z-001/mask/2nd_Ave_319.jpg is a low contrast image\n",
            "  \n",
            "WARNING:root:Lossy conversion from float64 to uint8. Range [0, 1]. Convert image to uint8 prior to saving to suppress this warning.\n"
          ],
          "name": "stderr"
        },
        {
          "output_type": "stream",
          "text": [
            "image name::   South_St_270.jpg\n",
            "image name::   7_Ave_S_430.jpg\n",
            "image name::   2nd_Ave_99.jpg\n",
            "image name::   2nd_Ave_319.jpg\n",
            "image name::   7_Ave_S_262.jpg\n"
          ],
          "name": "stdout"
        },
        {
          "output_type": "stream",
          "text": [
            "WARNING:root:Lossy conversion from float64 to uint8. Range [0, 1]. Convert image to uint8 prior to saving to suppress this warning.\n",
            "WARNING:root:Lossy conversion from float64 to uint8. Range [0, 1]. Convert image to uint8 prior to saving to suppress this warning.\n",
            "/usr/local/lib/python3.6/dist-packages/ipykernel_launcher.py:6: UserWarning: /content/drive/My Drive/5_corridors_train_val_data/train-20200530T092227Z-001/mask/7_Ave_S_325.jpg is a low contrast image\n",
            "  \n",
            "WARNING:root:Lossy conversion from float64 to uint8. Range [0, 1]. Convert image to uint8 prior to saving to suppress this warning.\n",
            "/usr/local/lib/python3.6/dist-packages/ipykernel_launcher.py:6: UserWarning: /content/drive/My Drive/5_corridors_train_val_data/train-20200530T092227Z-001/mask/46_Ave_44.jpg is a low contrast image\n",
            "  \n",
            "WARNING:root:Lossy conversion from float64 to uint8. Range [0, 1]. Convert image to uint8 prior to saving to suppress this warning.\n",
            "/usr/local/lib/python3.6/dist-packages/ipykernel_launcher.py:6: UserWarning: /content/drive/My Drive/5_corridors_train_val_data/train-20200530T092227Z-001/mask/7_Ave_S_213.jpg is a low contrast image\n",
            "  \n",
            "WARNING:root:Lossy conversion from float64 to uint8. Range [0, 1]. Convert image to uint8 prior to saving to suppress this warning.\n"
          ],
          "name": "stderr"
        },
        {
          "output_type": "stream",
          "text": [
            "image name::   Yellowstone_Blvd_257.jpg\n",
            "image name::   7_Ave_S_325.jpg\n",
            "image name::   46_Ave_44.jpg\n",
            "image name::   7_Ave_S_213.jpg\n",
            "image name::   Yellowstone_Blvd_176.jpg\n"
          ],
          "name": "stdout"
        },
        {
          "output_type": "stream",
          "text": [
            "WARNING:root:Lossy conversion from float64 to uint8. Range [0, 1]. Convert image to uint8 prior to saving to suppress this warning.\n",
            "WARNING:root:Lossy conversion from float64 to uint8. Range [0, 1]. Convert image to uint8 prior to saving to suppress this warning.\n"
          ],
          "name": "stderr"
        },
        {
          "output_type": "stream",
          "text": [
            "image name::   2nd_Ave_96.jpg\n"
          ],
          "name": "stdout"
        },
        {
          "output_type": "stream",
          "text": [
            "WARNING:root:Lossy conversion from float64 to uint8. Range [0, 1]. Convert image to uint8 prior to saving to suppress this warning.\n",
            "WARNING:root:Lossy conversion from float64 to uint8. Range [0, 1]. Convert image to uint8 prior to saving to suppress this warning.\n",
            "/usr/local/lib/python3.6/dist-packages/ipykernel_launcher.py:6: UserWarning: /content/drive/My Drive/5_corridors_train_val_data/train-20200530T092227Z-001/mask/2nd_Ave_46.jpg is a low contrast image\n",
            "  \n",
            "WARNING:root:Lossy conversion from float64 to uint8. Range [0, 1]. Convert image to uint8 prior to saving to suppress this warning.\n"
          ],
          "name": "stderr"
        },
        {
          "output_type": "stream",
          "text": [
            "image name::   2nd_Ave_63.jpg\n",
            "image name::   7_Ave_S_359.jpg\n",
            "image name::   2nd_Ave_46.jpg\n",
            "image name::   2nd_Ave_113.jpg\n"
          ],
          "name": "stdout"
        },
        {
          "output_type": "stream",
          "text": [
            "WARNING:root:Lossy conversion from float64 to uint8. Range [0, 1]. Convert image to uint8 prior to saving to suppress this warning.\n",
            "/usr/local/lib/python3.6/dist-packages/ipykernel_launcher.py:6: UserWarning: /content/drive/My Drive/5_corridors_train_val_data/train-20200530T092227Z-001/mask/Forest_Road_47.jpg is a low contrast image\n",
            "  \n",
            "WARNING:root:Lossy conversion from float64 to uint8. Range [0, 1]. Convert image to uint8 prior to saving to suppress this warning.\n",
            "WARNING:root:Lossy conversion from float64 to uint8. Range [0, 1]. Convert image to uint8 prior to saving to suppress this warning.\n",
            "/usr/local/lib/python3.6/dist-packages/ipykernel_launcher.py:6: UserWarning: /content/drive/My Drive/5_corridors_train_val_data/train-20200530T092227Z-001/mask/46_Ave_93.jpg is a low contrast image\n",
            "  \n",
            "WARNING:root:Lossy conversion from float64 to uint8. Range [0, 1]. Convert image to uint8 prior to saving to suppress this warning.\n",
            "WARNING:root:Lossy conversion from float64 to uint8. Range [0, 1]. Convert image to uint8 prior to saving to suppress this warning.\n",
            "/usr/local/lib/python3.6/dist-packages/ipykernel_launcher.py:6: UserWarning: /content/drive/My Drive/5_corridors_train_val_data/train-20200530T092227Z-001/mask/Yellowstone_Blvd_109.jpg is a low contrast image\n",
            "  \n",
            "WARNING:root:Lossy conversion from float64 to uint8. Range [0, 1]. Convert image to uint8 prior to saving to suppress this warning.\n"
          ],
          "name": "stderr"
        },
        {
          "output_type": "stream",
          "text": [
            "image name::   Forest_Road_47.jpg\n",
            "image name::   South_St_499.jpg\n",
            "image name::   46_Ave_93.jpg\n",
            "image name::   2_Ave_61.jpg\n",
            "image name::   Yellowstone_Blvd_109.jpg\n"
          ],
          "name": "stdout"
        },
        {
          "output_type": "stream",
          "text": [
            "WARNING:root:Lossy conversion from float64 to uint8. Range [0, 1]. Convert image to uint8 prior to saving to suppress this warning.\n",
            "WARNING:root:Lossy conversion from float64 to uint8. Range [0, 1]. Convert image to uint8 prior to saving to suppress this warning.\n",
            "WARNING:root:Lossy conversion from float64 to uint8. Range [0, 1]. Convert image to uint8 prior to saving to suppress this warning.\n"
          ],
          "name": "stderr"
        },
        {
          "output_type": "stream",
          "text": [
            "image name::   2nd_Ave_290.jpg\n",
            "image name::   Queens_Blvd_109.jpg\n",
            "image name::   2nd_Ave_108.jpg\n"
          ],
          "name": "stdout"
        },
        {
          "output_type": "stream",
          "text": [
            "/usr/local/lib/python3.6/dist-packages/ipykernel_launcher.py:6: UserWarning: /content/drive/My Drive/5_corridors_train_val_data/train-20200530T092227Z-001/mask/7_Ave_S_69.jpg is a low contrast image\n",
            "  \n",
            "WARNING:root:Lossy conversion from float64 to uint8. Range [0, 1]. Convert image to uint8 prior to saving to suppress this warning.\n",
            "WARNING:root:Lossy conversion from float64 to uint8. Range [0, 1]. Convert image to uint8 prior to saving to suppress this warning.\n",
            "/usr/local/lib/python3.6/dist-packages/ipykernel_launcher.py:6: UserWarning: /content/drive/My Drive/5_corridors_train_val_data/train-20200530T092227Z-001/mask/7_Ave_S_149.jpg is a low contrast image\n",
            "  \n",
            "WARNING:root:Lossy conversion from float64 to uint8. Range [0, 1]. Convert image to uint8 prior to saving to suppress this warning.\n",
            "WARNING:root:Lossy conversion from float64 to uint8. Range [0, 1]. Convert image to uint8 prior to saving to suppress this warning.\n"
          ],
          "name": "stderr"
        },
        {
          "output_type": "stream",
          "text": [
            "image name::   7_Ave_S_69.jpg\n",
            "image name::   South_St_251.jpg\n",
            "image name::   7_Ave_S_149.jpg\n",
            "image name::   2nd_Ave_343.jpg\n",
            "image name::   7_Ave_S_9.jpg\n"
          ],
          "name": "stdout"
        },
        {
          "output_type": "stream",
          "text": [
            "/usr/local/lib/python3.6/dist-packages/ipykernel_launcher.py:6: UserWarning: /content/drive/My Drive/5_corridors_train_val_data/train-20200530T092227Z-001/mask/7_Ave_S_9.jpg is a low contrast image\n",
            "  \n",
            "WARNING:root:Lossy conversion from float64 to uint8. Range [0, 1]. Convert image to uint8 prior to saving to suppress this warning.\n",
            "WARNING:root:Lossy conversion from float64 to uint8. Range [0, 1]. Convert image to uint8 prior to saving to suppress this warning.\n",
            "WARNING:root:Lossy conversion from float64 to uint8. Range [0, 1]. Convert image to uint8 prior to saving to suppress this warning.\n",
            "WARNING:root:Lossy conversion from float64 to uint8. Range [0, 1]. Convert image to uint8 prior to saving to suppress this warning.\n"
          ],
          "name": "stderr"
        },
        {
          "output_type": "stream",
          "text": [
            "image name::   Queens_Blvd_32.jpg\n",
            "image name::   7_Ave_S_133.jpg\n",
            "image name::   7_Ave_S_370.jpg\n"
          ],
          "name": "stdout"
        },
        {
          "output_type": "stream",
          "text": [
            "WARNING:root:Lossy conversion from float64 to uint8. Range [0, 1]. Convert image to uint8 prior to saving to suppress this warning.\n",
            "WARNING:root:Lossy conversion from float64 to uint8. Range [0, 1]. Convert image to uint8 prior to saving to suppress this warning.\n"
          ],
          "name": "stderr"
        },
        {
          "output_type": "stream",
          "text": [
            "image name::   2nd_Ave_405.jpg\n",
            "image name::   South_St_171.jpg\n",
            "image name::   South_St_169.jpg\n"
          ],
          "name": "stdout"
        },
        {
          "output_type": "stream",
          "text": [
            "WARNING:root:Lossy conversion from float64 to uint8. Range [0, 1]. Convert image to uint8 prior to saving to suppress this warning.\n",
            "WARNING:root:Lossy conversion from float64 to uint8. Range [0, 1]. Convert image to uint8 prior to saving to suppress this warning.\n",
            "WARNING:root:Lossy conversion from float64 to uint8. Range [0, 1]. Convert image to uint8 prior to saving to suppress this warning.\n",
            "WARNING:root:Lossy conversion from float64 to uint8. Range [0, 1]. Convert image to uint8 prior to saving to suppress this warning.\n"
          ],
          "name": "stderr"
        },
        {
          "output_type": "stream",
          "text": [
            "image name::   2nd_Ave_302.jpg\n",
            "image name::   Queens_Blvd_155.jpg\n",
            "image name::   2nd_Ave_158.jpg\n",
            "image name::   2nd_Ave_304.jpg\n"
          ],
          "name": "stdout"
        },
        {
          "output_type": "stream",
          "text": [
            "WARNING:root:Lossy conversion from float64 to uint8. Range [0, 1]. Convert image to uint8 prior to saving to suppress this warning.\n",
            "WARNING:root:Lossy conversion from float64 to uint8. Range [0, 1]. Convert image to uint8 prior to saving to suppress this warning.\n"
          ],
          "name": "stderr"
        },
        {
          "output_type": "stream",
          "text": [
            "image name::   2nd_Ave_334.jpg\n",
            "image name::   2nd_Ave_373.jpg\n"
          ],
          "name": "stdout"
        },
        {
          "output_type": "stream",
          "text": [
            "WARNING:root:Lossy conversion from float64 to uint8. Range [0, 1]. Convert image to uint8 prior to saving to suppress this warning.\n",
            "WARNING:root:Lossy conversion from float64 to uint8. Range [0, 1]. Convert image to uint8 prior to saving to suppress this warning.\n",
            "WARNING:root:Lossy conversion from float64 to uint8. Range [0, 1]. Convert image to uint8 prior to saving to suppress this warning.\n",
            "/usr/local/lib/python3.6/dist-packages/ipykernel_launcher.py:6: UserWarning: /content/drive/My Drive/5_corridors_train_val_data/train-20200530T092227Z-001/mask/South_St_9.jpg is a low contrast image\n",
            "  \n",
            "WARNING:root:Lossy conversion from float64 to uint8. Range [0, 1]. Convert image to uint8 prior to saving to suppress this warning.\n",
            "WARNING:root:Lossy conversion from float64 to uint8. Range [0, 1]. Convert image to uint8 prior to saving to suppress this warning.\n"
          ],
          "name": "stderr"
        },
        {
          "output_type": "stream",
          "text": [
            "image name::   7_Ave_S_395.jpg\n",
            "image name::   Forest_Road_48.jpg\n",
            "image name::   South_St_9.jpg\n",
            "image name::   7_Ave_S_7.jpg\n"
          ],
          "name": "stdout"
        },
        {
          "output_type": "stream",
          "text": [
            "WARNING:root:Lossy conversion from float64 to uint8. Range [0, 1]. Convert image to uint8 prior to saving to suppress this warning.\n",
            "WARNING:root:Lossy conversion from float64 to uint8. Range [0, 1]. Convert image to uint8 prior to saving to suppress this warning.\n",
            "WARNING:root:Lossy conversion from float64 to uint8. Range [0, 1]. Convert image to uint8 prior to saving to suppress this warning.\n",
            "/usr/local/lib/python3.6/dist-packages/ipykernel_launcher.py:6: UserWarning: /content/drive/My Drive/5_corridors_train_val_data/train-20200530T092227Z-001/mask/Yellowstone_Blvd_282.jpg is a low contrast image\n",
            "  \n",
            "WARNING:root:Lossy conversion from float64 to uint8. Range [0, 1]. Convert image to uint8 prior to saving to suppress this warning.\n"
          ],
          "name": "stderr"
        },
        {
          "output_type": "stream",
          "text": [
            "image name::   2nd_Ave_320.jpg\n",
            "image name::   7_Ave_S_344.jpg\n",
            "image name::   2nd_Ave_269.jpg\n",
            "image name::   Yellowstone_Blvd_282.jpg\n"
          ],
          "name": "stdout"
        },
        {
          "output_type": "stream",
          "text": [
            "WARNING:root:Lossy conversion from float64 to uint8. Range [0, 1]. Convert image to uint8 prior to saving to suppress this warning.\n",
            "/usr/local/lib/python3.6/dist-packages/ipykernel_launcher.py:6: UserWarning: /content/drive/My Drive/5_corridors_train_val_data/train-20200530T092227Z-001/mask/Yellowstone_Blvd_277.jpg is a low contrast image\n",
            "  \n",
            "WARNING:root:Lossy conversion from float64 to uint8. Range [0, 1]. Convert image to uint8 prior to saving to suppress this warning.\n",
            "/usr/local/lib/python3.6/dist-packages/ipykernel_launcher.py:6: UserWarning: /content/drive/My Drive/5_corridors_train_val_data/train-20200530T092227Z-001/mask/7_Ave_S_303.jpg is a low contrast image\n",
            "  \n",
            "WARNING:root:Lossy conversion from float64 to uint8. Range [0, 1]. Convert image to uint8 prior to saving to suppress this warning.\n",
            "WARNING:root:Lossy conversion from float64 to uint8. Range [0, 1]. Convert image to uint8 prior to saving to suppress this warning.\n"
          ],
          "name": "stderr"
        },
        {
          "output_type": "stream",
          "text": [
            "image name::   46_Ave_87.jpg\n",
            "image name::   Yellowstone_Blvd_277.jpg\n",
            "image name::   7_Ave_S_303.jpg\n",
            "image name::   2nd_Ave_35.jpg\n",
            "image name::   7_Ave_S_296.jpg\n"
          ],
          "name": "stdout"
        },
        {
          "output_type": "stream",
          "text": [
            "/usr/local/lib/python3.6/dist-packages/ipykernel_launcher.py:6: UserWarning: /content/drive/My Drive/5_corridors_train_val_data/train-20200530T092227Z-001/mask/7_Ave_S_296.jpg is a low contrast image\n",
            "  \n",
            "WARNING:root:Lossy conversion from float64 to uint8. Range [0, 1]. Convert image to uint8 prior to saving to suppress this warning.\n",
            "/usr/local/lib/python3.6/dist-packages/ipykernel_launcher.py:6: UserWarning: /content/drive/My Drive/5_corridors_train_val_data/train-20200530T092227Z-001/mask/2nd_Ave_342.jpg is a low contrast image\n",
            "  \n",
            "WARNING:root:Lossy conversion from float64 to uint8. Range [0, 1]. Convert image to uint8 prior to saving to suppress this warning.\n",
            "WARNING:root:Lossy conversion from float64 to uint8. Range [0, 1]. Convert image to uint8 prior to saving to suppress this warning.\n",
            "WARNING:root:Lossy conversion from float64 to uint8. Range [0, 1]. Convert image to uint8 prior to saving to suppress this warning.\n"
          ],
          "name": "stderr"
        },
        {
          "output_type": "stream",
          "text": [
            "image name::   2nd_Ave_342.jpg\n",
            "image name::   2_Ave_16.jpg\n",
            "image name::   2nd_Ave_109.jpg\n",
            "image name::   7_Ave_S_246.jpg\n"
          ],
          "name": "stdout"
        },
        {
          "output_type": "stream",
          "text": [
            "WARNING:root:Lossy conversion from float64 to uint8. Range [0, 1]. Convert image to uint8 prior to saving to suppress this warning.\n",
            "WARNING:root:Lossy conversion from float64 to uint8. Range [0, 1]. Convert image to uint8 prior to saving to suppress this warning.\n",
            "WARNING:root:Lossy conversion from float64 to uint8. Range [0, 1]. Convert image to uint8 prior to saving to suppress this warning.\n",
            "WARNING:root:Lossy conversion from float64 to uint8. Range [0, 1]. Convert image to uint8 prior to saving to suppress this warning.\n"
          ],
          "name": "stderr"
        },
        {
          "output_type": "stream",
          "text": [
            "image name::   2nd_Ave_60.jpg\n",
            "image name::   2nd_Ave_344.jpg\n",
            "image name::   Yellowstone_Blvd_224.jpg\n"
          ],
          "name": "stdout"
        },
        {
          "output_type": "stream",
          "text": [
            "WARNING:root:Lossy conversion from float64 to uint8. Range [0, 1]. Convert image to uint8 prior to saving to suppress this warning.\n",
            "/usr/local/lib/python3.6/dist-packages/ipykernel_launcher.py:6: UserWarning: /content/drive/My Drive/5_corridors_train_val_data/train-20200530T092227Z-001/mask/7_Ave_S_437.jpg is a low contrast image\n",
            "  \n",
            "WARNING:root:Lossy conversion from float64 to uint8. Range [0, 1]. Convert image to uint8 prior to saving to suppress this warning.\n",
            "/usr/local/lib/python3.6/dist-packages/ipykernel_launcher.py:6: UserWarning: /content/drive/My Drive/5_corridors_train_val_data/train-20200530T092227Z-001/mask/7_Ave_S_27.jpg is a low contrast image\n",
            "  \n",
            "WARNING:root:Lossy conversion from float64 to uint8. Range [0, 1]. Convert image to uint8 prior to saving to suppress this warning.\n"
          ],
          "name": "stderr"
        },
        {
          "output_type": "stream",
          "text": [
            "image name::   43rd_Skillman_123.jpg\n",
            "image name::   7_Ave_S_437.jpg\n",
            "image name::   7_Ave_S_27.jpg\n",
            "image name::   2nd_Ave_179.jpg\n"
          ],
          "name": "stdout"
        },
        {
          "output_type": "stream",
          "text": [
            "WARNING:root:Lossy conversion from float64 to uint8. Range [0, 1]. Convert image to uint8 prior to saving to suppress this warning.\n",
            "WARNING:root:Lossy conversion from float64 to uint8. Range [0, 1]. Convert image to uint8 prior to saving to suppress this warning.\n",
            "/usr/local/lib/python3.6/dist-packages/ipykernel_launcher.py:6: UserWarning: /content/drive/My Drive/5_corridors_train_val_data/train-20200530T092227Z-001/mask/Queens_Blvd_33.jpg is a low contrast image\n",
            "  \n",
            "WARNING:root:Lossy conversion from float64 to uint8. Range [0, 1]. Convert image to uint8 prior to saving to suppress this warning.\n",
            "WARNING:root:Lossy conversion from float64 to uint8. Range [0, 1]. Convert image to uint8 prior to saving to suppress this warning.\n"
          ],
          "name": "stderr"
        },
        {
          "output_type": "stream",
          "text": [
            "image name::   2nd_Ave_156.jpg\n",
            "image name::   Queens_Blvd_33.jpg\n",
            "image name::   Queens_Blvd_193.jpg\n"
          ],
          "name": "stdout"
        },
        {
          "output_type": "stream",
          "text": [
            "WARNING:root:Lossy conversion from float64 to uint8. Range [0, 1]. Convert image to uint8 prior to saving to suppress this warning.\n",
            "/usr/local/lib/python3.6/dist-packages/ipykernel_launcher.py:6: UserWarning: /content/drive/My Drive/5_corridors_train_val_data/train-20200530T092227Z-001/mask/46_Ave_77.jpg is a low contrast image\n",
            "  \n",
            "WARNING:root:Lossy conversion from float64 to uint8. Range [0, 1]. Convert image to uint8 prior to saving to suppress this warning.\n",
            "WARNING:root:Lossy conversion from float64 to uint8. Range [0, 1]. Convert image to uint8 prior to saving to suppress this warning.\n",
            "/usr/local/lib/python3.6/dist-packages/ipykernel_launcher.py:6: UserWarning: /content/drive/My Drive/5_corridors_train_val_data/train-20200530T092227Z-001/mask/7_Ave_S_85.jpg is a low contrast image\n",
            "  \n",
            "WARNING:root:Lossy conversion from float64 to uint8. Range [0, 1]. Convert image to uint8 prior to saving to suppress this warning.\n",
            "/usr/local/lib/python3.6/dist-packages/ipykernel_launcher.py:6: UserWarning: /content/drive/My Drive/5_corridors_train_val_data/train-20200530T092227Z-001/mask/7_Ave_S_204.jpg is a low contrast image\n",
            "  \n",
            "WARNING:root:Lossy conversion from float64 to uint8. Range [0, 1]. Convert image to uint8 prior to saving to suppress this warning.\n"
          ],
          "name": "stderr"
        },
        {
          "output_type": "stream",
          "text": [
            "image name::   2nd_Ave_408.jpg\n",
            "image name::   46_Ave_77.jpg\n",
            "image name::   43rd_Skillman_121.jpg\n",
            "image name::   7_Ave_S_85.jpg\n",
            "image name::   7_Ave_S_204.jpg\n"
          ],
          "name": "stdout"
        },
        {
          "output_type": "stream",
          "text": [
            "WARNING:root:Lossy conversion from float64 to uint8. Range [0, 1]. Convert image to uint8 prior to saving to suppress this warning.\n",
            "/usr/local/lib/python3.6/dist-packages/ipykernel_launcher.py:6: UserWarning: /content/drive/My Drive/5_corridors_train_val_data/train-20200530T092227Z-001/mask/Queens_Blvd_189.jpg is a low contrast image\n",
            "  \n",
            "WARNING:root:Lossy conversion from float64 to uint8. Range [0, 1]. Convert image to uint8 prior to saving to suppress this warning.\n"
          ],
          "name": "stderr"
        },
        {
          "output_type": "stream",
          "text": [
            "image name::   South_St_112.jpg\n",
            "image name::   Queens_Blvd_189.jpg\n",
            "image name::   2nd_Ave_123.jpg\n"
          ],
          "name": "stdout"
        },
        {
          "output_type": "stream",
          "text": [
            "WARNING:root:Lossy conversion from float64 to uint8. Range [0, 1]. Convert image to uint8 prior to saving to suppress this warning.\n",
            "WARNING:root:Lossy conversion from float64 to uint8. Range [0, 1]. Convert image to uint8 prior to saving to suppress this warning.\n",
            "/usr/local/lib/python3.6/dist-packages/ipykernel_launcher.py:6: UserWarning: /content/drive/My Drive/5_corridors_train_val_data/train-20200530T092227Z-001/mask/46_Ave_70.jpg is a low contrast image\n",
            "  \n",
            "WARNING:root:Lossy conversion from float64 to uint8. Range [0, 1]. Convert image to uint8 prior to saving to suppress this warning.\n",
            "WARNING:root:Lossy conversion from float64 to uint8. Range [0, 1]. Convert image to uint8 prior to saving to suppress this warning.\n"
          ],
          "name": "stderr"
        },
        {
          "output_type": "stream",
          "text": [
            "image name::   South_St_582.jpg\n",
            "image name::   46_Ave_70.jpg\n",
            "image name::   South_St_400.jpg\n",
            "image name::   South_St_15.jpg\n"
          ],
          "name": "stdout"
        },
        {
          "output_type": "stream",
          "text": [
            "WARNING:root:Lossy conversion from float64 to uint8. Range [0, 1]. Convert image to uint8 prior to saving to suppress this warning.\n",
            "/usr/local/lib/python3.6/dist-packages/ipykernel_launcher.py:6: UserWarning: /content/drive/My Drive/5_corridors_train_val_data/train-20200530T092227Z-001/mask/7_Ave_S_316.jpg is a low contrast image\n",
            "  \n",
            "WARNING:root:Lossy conversion from float64 to uint8. Range [0, 1]. Convert image to uint8 prior to saving to suppress this warning.\n",
            "WARNING:root:Lossy conversion from float64 to uint8. Range [0, 1]. Convert image to uint8 prior to saving to suppress this warning.\n",
            "WARNING:root:Lossy conversion from float64 to uint8. Range [0, 1]. Convert image to uint8 prior to saving to suppress this warning.\n"
          ],
          "name": "stderr"
        },
        {
          "output_type": "stream",
          "text": [
            "image name::   7_Ave_S_316.jpg\n",
            "image name::   South_St_368.jpg\n",
            "image name::   7_Ave_S_218.jpg\n",
            "image name::   2nd_Ave_34.jpg\n"
          ],
          "name": "stdout"
        },
        {
          "output_type": "stream",
          "text": [
            "WARNING:root:Lossy conversion from float64 to uint8. Range [0, 1]. Convert image to uint8 prior to saving to suppress this warning.\n",
            "WARNING:root:Lossy conversion from float64 to uint8. Range [0, 1]. Convert image to uint8 prior to saving to suppress this warning.\n",
            "WARNING:root:Lossy conversion from float64 to uint8. Range [0, 1]. Convert image to uint8 prior to saving to suppress this warning.\n",
            "WARNING:root:Lossy conversion from float64 to uint8. Range [0, 1]. Convert image to uint8 prior to saving to suppress this warning.\n",
            "/usr/local/lib/python3.6/dist-packages/ipykernel_launcher.py:6: UserWarning: /content/drive/My Drive/5_corridors_train_val_data/train-20200530T092227Z-001/mask/South_St_191.jpg is a low contrast image\n",
            "  \n",
            "WARNING:root:Lossy conversion from float64 to uint8. Range [0, 1]. Convert image to uint8 prior to saving to suppress this warning.\n"
          ],
          "name": "stderr"
        },
        {
          "output_type": "stream",
          "text": [
            "image name::   7_Ave_S_352.jpg\n",
            "image name::   7_Ave_S_431.jpg\n",
            "image name::   South_St_120.jpg\n",
            "image name::   South_St_191.jpg\n",
            "image name::   South_St_684.jpg\n"
          ],
          "name": "stdout"
        },
        {
          "output_type": "stream",
          "text": [
            "WARNING:root:Lossy conversion from float64 to uint8. Range [0, 1]. Convert image to uint8 prior to saving to suppress this warning.\n",
            "WARNING:root:Lossy conversion from float64 to uint8. Range [0, 1]. Convert image to uint8 prior to saving to suppress this warning.\n",
            "WARNING:root:Lossy conversion from float64 to uint8. Range [0, 1]. Convert image to uint8 prior to saving to suppress this warning.\n",
            "WARNING:root:Lossy conversion from float64 to uint8. Range [0, 1]. Convert image to uint8 prior to saving to suppress this warning.\n"
          ],
          "name": "stderr"
        },
        {
          "output_type": "stream",
          "text": [
            "image name::   7_Ave_S_5.jpg\n",
            "image name::   7_Ave_S_333.jpg\n",
            "image name::   2nd_Ave_406.jpg\n"
          ],
          "name": "stdout"
        },
        {
          "output_type": "stream",
          "text": [
            "WARNING:root:Lossy conversion from float64 to uint8. Range [0, 1]. Convert image to uint8 prior to saving to suppress this warning.\n",
            "/usr/local/lib/python3.6/dist-packages/ipykernel_launcher.py:6: UserWarning: /content/drive/My Drive/5_corridors_train_val_data/train-20200530T092227Z-001/mask/Queens_Blvd_168.jpg is a low contrast image\n",
            "  \n",
            "WARNING:root:Lossy conversion from float64 to uint8. Range [0, 1]. Convert image to uint8 prior to saving to suppress this warning.\n",
            "/usr/local/lib/python3.6/dist-packages/ipykernel_launcher.py:6: UserWarning: /content/drive/My Drive/5_corridors_train_val_data/train-20200530T092227Z-001/mask/Queens_Blvd_166.jpg is a low contrast image\n",
            "  \n",
            "WARNING:root:Lossy conversion from float64 to uint8. Range [0, 1]. Convert image to uint8 prior to saving to suppress this warning.\n",
            "/usr/local/lib/python3.6/dist-packages/ipykernel_launcher.py:6: UserWarning: /content/drive/My Drive/5_corridors_train_val_data/train-20200530T092227Z-001/mask/E_Tremont_73.jpg is a low contrast image\n",
            "  \n",
            "WARNING:root:Lossy conversion from float64 to uint8. Range [0, 1]. Convert image to uint8 prior to saving to suppress this warning.\n"
          ],
          "name": "stderr"
        },
        {
          "output_type": "stream",
          "text": [
            "image name::   E_Tremont_28.jpg\n",
            "image name::   Queens_Blvd_168.jpg\n",
            "image name::   Queens_Blvd_166.jpg\n",
            "image name::   E_Tremont_73.jpg\n",
            "image name::   7_Ave_S_315.jpg\n"
          ],
          "name": "stdout"
        },
        {
          "output_type": "stream",
          "text": [
            "WARNING:root:Lossy conversion from float64 to uint8. Range [0, 1]. Convert image to uint8 prior to saving to suppress this warning.\n",
            "WARNING:root:Lossy conversion from float64 to uint8. Range [0, 1]. Convert image to uint8 prior to saving to suppress this warning.\n",
            "WARNING:root:Lossy conversion from float64 to uint8. Range [0, 1]. Convert image to uint8 prior to saving to suppress this warning.\n",
            "WARNING:root:Lossy conversion from float64 to uint8. Range [0, 1]. Convert image to uint8 prior to saving to suppress this warning.\n"
          ],
          "name": "stderr"
        },
        {
          "output_type": "stream",
          "text": [
            "image name::   South_St_626.jpg\n",
            "image name::   South_St_14.jpg\n",
            "image name::   7_Ave_S_171.jpg\n"
          ],
          "name": "stdout"
        },
        {
          "output_type": "stream",
          "text": [
            "WARNING:root:Lossy conversion from float64 to uint8. Range [0, 1]. Convert image to uint8 prior to saving to suppress this warning.\n",
            "WARNING:root:Lossy conversion from float64 to uint8. Range [0, 1]. Convert image to uint8 prior to saving to suppress this warning.\n",
            "WARNING:root:Lossy conversion from float64 to uint8. Range [0, 1]. Convert image to uint8 prior to saving to suppress this warning.\n",
            "/usr/local/lib/python3.6/dist-packages/ipykernel_launcher.py:6: UserWarning: /content/drive/My Drive/5_corridors_train_val_data/train-20200530T092227Z-001/mask/E_Tremont_71.jpg is a low contrast image\n",
            "  \n",
            "WARNING:root:Lossy conversion from float64 to uint8. Range [0, 1]. Convert image to uint8 prior to saving to suppress this warning.\n"
          ],
          "name": "stderr"
        },
        {
          "output_type": "stream",
          "text": [
            "image name::   South_St_6.jpg\n",
            "image name::   South_St_160.jpg\n",
            "image name::   South_St_13.jpg\n",
            "image name::   E_Tremont_71.jpg\n"
          ],
          "name": "stdout"
        },
        {
          "output_type": "stream",
          "text": [
            "WARNING:root:Lossy conversion from float64 to uint8. Range [0, 1]. Convert image to uint8 prior to saving to suppress this warning.\n",
            "WARNING:root:Lossy conversion from float64 to uint8. Range [0, 1]. Convert image to uint8 prior to saving to suppress this warning.\n",
            "WARNING:root:Lossy conversion from float64 to uint8. Range [0, 1]. Convert image to uint8 prior to saving to suppress this warning.\n"
          ],
          "name": "stderr"
        },
        {
          "output_type": "stream",
          "text": [
            "image name::   South_St_393.jpg\n",
            "image name::   South_St_129.jpg\n",
            "image name::   2nd_Ave_317.jpg\n"
          ],
          "name": "stdout"
        },
        {
          "output_type": "stream",
          "text": [
            "WARNING:root:Lossy conversion from float64 to uint8. Range [0, 1]. Convert image to uint8 prior to saving to suppress this warning.\n",
            "WARNING:root:Lossy conversion from float64 to uint8. Range [0, 1]. Convert image to uint8 prior to saving to suppress this warning.\n",
            "WARNING:root:Lossy conversion from float64 to uint8. Range [0, 1]. Convert image to uint8 prior to saving to suppress this warning.\n"
          ],
          "name": "stderr"
        },
        {
          "output_type": "stream",
          "text": [
            "image name::   South_St_153.jpg\n",
            "image name::   2nd_Ave_286.jpg\n",
            "image name::   2nd_Ave_125.jpg\n"
          ],
          "name": "stdout"
        },
        {
          "output_type": "stream",
          "text": [
            "/usr/local/lib/python3.6/dist-packages/ipykernel_launcher.py:6: UserWarning: /content/drive/My Drive/5_corridors_train_val_data/train-20200530T092227Z-001/mask/2nd_Ave_267.jpg is a low contrast image\n",
            "  \n",
            "WARNING:root:Lossy conversion from float64 to uint8. Range [0, 1]. Convert image to uint8 prior to saving to suppress this warning.\n",
            "WARNING:root:Lossy conversion from float64 to uint8. Range [0, 1]. Convert image to uint8 prior to saving to suppress this warning.\n",
            "WARNING:root:Lossy conversion from float64 to uint8. Range [0, 1]. Convert image to uint8 prior to saving to suppress this warning.\n",
            "/usr/local/lib/python3.6/dist-packages/ipykernel_launcher.py:6: UserWarning: /content/drive/My Drive/5_corridors_train_val_data/train-20200530T092227Z-001/mask/2nd_Ave_363.jpg is a low contrast image\n",
            "  \n",
            "WARNING:root:Lossy conversion from float64 to uint8. Range [0, 1]. Convert image to uint8 prior to saving to suppress this warning.\n",
            "WARNING:root:Lossy conversion from float64 to uint8. Range [0, 1]. Convert image to uint8 prior to saving to suppress this warning.\n"
          ],
          "name": "stderr"
        },
        {
          "output_type": "stream",
          "text": [
            "image name::   2nd_Ave_267.jpg\n",
            "image name::   46_Ave_52.jpg\n",
            "image name::   E_Tremont_159.jpg\n",
            "image name::   2nd_Ave_363.jpg\n",
            "image name::   Yellowstone_Blvd_110.jpg\n"
          ],
          "name": "stdout"
        },
        {
          "output_type": "stream",
          "text": [
            "WARNING:root:Lossy conversion from float64 to uint8. Range [0, 1]. Convert image to uint8 prior to saving to suppress this warning.\n",
            "WARNING:root:Lossy conversion from float64 to uint8. Range [0, 1]. Convert image to uint8 prior to saving to suppress this warning.\n",
            "/usr/local/lib/python3.6/dist-packages/ipykernel_launcher.py:6: UserWarning: /content/drive/My Drive/5_corridors_train_val_data/train-20200530T092227Z-001/mask/Yellowstone_Blvd_236.jpg is a low contrast image\n",
            "  \n",
            "WARNING:root:Lossy conversion from float64 to uint8. Range [0, 1]. Convert image to uint8 prior to saving to suppress this warning.\n"
          ],
          "name": "stderr"
        },
        {
          "output_type": "stream",
          "text": [
            "image name::   South_St_876.jpg\n",
            "image name::   7_Ave_S_320.jpg\n",
            "image name::   Yellowstone_Blvd_236.jpg\n",
            "image name::   2_Ave_15.jpg\n"
          ],
          "name": "stdout"
        },
        {
          "output_type": "stream",
          "text": [
            "WARNING:root:Lossy conversion from float64 to uint8. Range [0, 1]. Convert image to uint8 prior to saving to suppress this warning.\n",
            "/usr/local/lib/python3.6/dist-packages/ipykernel_launcher.py:6: UserWarning: /content/drive/My Drive/5_corridors_train_val_data/train-20200530T092227Z-001/mask/Queens_Blvd_117.jpg is a low contrast image\n",
            "  \n",
            "WARNING:root:Lossy conversion from float64 to uint8. Range [0, 1]. Convert image to uint8 prior to saving to suppress this warning.\n",
            "/usr/local/lib/python3.6/dist-packages/ipykernel_launcher.py:6: UserWarning: /content/drive/My Drive/5_corridors_train_val_data/train-20200530T092227Z-001/mask/7_Ave_S_31.jpg is a low contrast image\n",
            "  \n",
            "WARNING:root:Lossy conversion from float64 to uint8. Range [0, 1]. Convert image to uint8 prior to saving to suppress this warning.\n",
            "WARNING:root:Lossy conversion from float64 to uint8. Range [0, 1]. Convert image to uint8 prior to saving to suppress this warning.\n"
          ],
          "name": "stderr"
        },
        {
          "output_type": "stream",
          "text": [
            "image name::   Queens_Blvd_117.jpg\n",
            "image name::   7_Ave_S_31.jpg\n",
            "image name::   2nd_Ave_105.jpg\n",
            "image name::   Forest_Road_3.jpg\n"
          ],
          "name": "stdout"
        },
        {
          "output_type": "stream",
          "text": [
            "WARNING:root:Lossy conversion from float64 to uint8. Range [0, 1]. Convert image to uint8 prior to saving to suppress this warning.\n",
            "/usr/local/lib/python3.6/dist-packages/ipykernel_launcher.py:6: UserWarning: /content/drive/My Drive/5_corridors_train_val_data/train-20200530T092227Z-001/mask/46_Ave_51.jpg is a low contrast image\n",
            "  \n",
            "WARNING:root:Lossy conversion from float64 to uint8. Range [0, 1]. Convert image to uint8 prior to saving to suppress this warning.\n",
            "WARNING:root:Lossy conversion from float64 to uint8. Range [0, 1]. Convert image to uint8 prior to saving to suppress this warning.\n",
            "/usr/local/lib/python3.6/dist-packages/ipykernel_launcher.py:6: UserWarning: /content/drive/My Drive/5_corridors_train_val_data/train-20200530T092227Z-001/mask/7_Ave_S_310.jpg is a low contrast image\n",
            "  \n",
            "WARNING:root:Lossy conversion from float64 to uint8. Range [0, 1]. Convert image to uint8 prior to saving to suppress this warning.\n",
            "/usr/local/lib/python3.6/dist-packages/ipykernel_launcher.py:6: UserWarning: /content/drive/My Drive/5_corridors_train_val_data/train-20200530T092227Z-001/mask/2nd_Ave_90.jpg is a low contrast image\n",
            "  \n",
            "WARNING:root:Lossy conversion from float64 to uint8. Range [0, 1]. Convert image to uint8 prior to saving to suppress this warning.\n",
            "WARNING:root:Lossy conversion from float64 to uint8. Range [0, 1]. Convert image to uint8 prior to saving to suppress this warning.\n"
          ],
          "name": "stderr"
        },
        {
          "output_type": "stream",
          "text": [
            "image name::   46_Ave_51.jpg\n",
            "image name::   South_St_340.jpg\n",
            "image name::   7_Ave_S_310.jpg\n",
            "image name::   2nd_Ave_90.jpg\n",
            "image name::   South_St_383.jpg\n"
          ],
          "name": "stdout"
        },
        {
          "output_type": "stream",
          "text": [
            "WARNING:root:Lossy conversion from float64 to uint8. Range [0, 1]. Convert image to uint8 prior to saving to suppress this warning.\n"
          ],
          "name": "stderr"
        },
        {
          "output_type": "stream",
          "text": [
            "image name::   South_St_542.jpg\n",
            "image name::   2nd_Ave_129.jpg\n"
          ],
          "name": "stdout"
        },
        {
          "output_type": "stream",
          "text": [
            "WARNING:root:Lossy conversion from float64 to uint8. Range [0, 1]. Convert image to uint8 prior to saving to suppress this warning.\n",
            "WARNING:root:Lossy conversion from float64 to uint8. Range [0, 1]. Convert image to uint8 prior to saving to suppress this warning.\n",
            "WARNING:root:Lossy conversion from float64 to uint8. Range [0, 1]. Convert image to uint8 prior to saving to suppress this warning.\n",
            "WARNING:root:Lossy conversion from float64 to uint8. Range [0, 1]. Convert image to uint8 prior to saving to suppress this warning.\n",
            "WARNING:root:Lossy conversion from float64 to uint8. Range [0, 1]. Convert image to uint8 prior to saving to suppress this warning.\n"
          ],
          "name": "stderr"
        },
        {
          "output_type": "stream",
          "text": [
            "image name::   Forest_Road_35.jpg\n",
            "image name::   2_Ave_4.jpg\n",
            "image name::   Queens_Blvd_191.jpg\n",
            "image name::   2nd_Ave_414.jpg\n",
            "image name::   7_Ave_S_80.jpg\n"
          ],
          "name": "stdout"
        },
        {
          "output_type": "stream",
          "text": [
            "WARNING:root:Lossy conversion from float64 to uint8. Range [0, 1]. Convert image to uint8 prior to saving to suppress this warning.\n",
            "WARNING:root:Lossy conversion from float64 to uint8. Range [0, 1]. Convert image to uint8 prior to saving to suppress this warning.\n",
            "WARNING:root:Lossy conversion from float64 to uint8. Range [0, 1]. Convert image to uint8 prior to saving to suppress this warning.\n",
            "/usr/local/lib/python3.6/dist-packages/ipykernel_launcher.py:6: UserWarning: /content/drive/My Drive/5_corridors_train_val_data/train-20200530T092227Z-001/mask/2nd_Ave_51.jpg is a low contrast image\n",
            "  \n",
            "WARNING:root:Lossy conversion from float64 to uint8. Range [0, 1]. Convert image to uint8 prior to saving to suppress this warning.\n"
          ],
          "name": "stderr"
        },
        {
          "output_type": "stream",
          "text": [
            "image name::   2nd_Ave_115.jpg\n",
            "image name::   7_Ave_S_178.jpg\n",
            "image name::   2nd_Ave_51.jpg\n"
          ],
          "name": "stdout"
        },
        {
          "output_type": "stream",
          "text": [
            "/usr/local/lib/python3.6/dist-packages/ipykernel_launcher.py:6: UserWarning: /content/drive/My Drive/5_corridors_train_val_data/train-20200530T092227Z-001/mask/2nd_Ave_43.jpg is a low contrast image\n",
            "  \n",
            "WARNING:root:Lossy conversion from float64 to uint8. Range [0, 1]. Convert image to uint8 prior to saving to suppress this warning.\n",
            "WARNING:root:Lossy conversion from float64 to uint8. Range [0, 1]. Convert image to uint8 prior to saving to suppress this warning.\n",
            "WARNING:root:Lossy conversion from float64 to uint8. Range [0, 1]. Convert image to uint8 prior to saving to suppress this warning.\n",
            "WARNING:root:Lossy conversion from float64 to uint8. Range [0, 1]. Convert image to uint8 prior to saving to suppress this warning.\n"
          ],
          "name": "stderr"
        },
        {
          "output_type": "stream",
          "text": [
            "image name::   2nd_Ave_43.jpg\n",
            "image name::   43rd_Skillman_223.jpg\n",
            "image name::   Waterbury_Ave_25.jpg\n",
            "image name::   7_Ave_S_4.jpg\n",
            "image name::   South_St_565.jpg\n"
          ],
          "name": "stdout"
        },
        {
          "output_type": "stream",
          "text": [
            "WARNING:root:Lossy conversion from float64 to uint8. Range [0, 1]. Convert image to uint8 prior to saving to suppress this warning.\n",
            "WARNING:root:Lossy conversion from float64 to uint8. Range [0, 1]. Convert image to uint8 prior to saving to suppress this warning.\n",
            "WARNING:root:Lossy conversion from float64 to uint8. Range [0, 1]. Convert image to uint8 prior to saving to suppress this warning.\n"
          ],
          "name": "stderr"
        },
        {
          "output_type": "stream",
          "text": [
            "image name::   7_Ave_S_14.jpg\n",
            "image name::   2nd_Ave_55.jpg\n",
            "image name::   7_Ave_S_438.jpg\n"
          ],
          "name": "stdout"
        },
        {
          "output_type": "stream",
          "text": [
            "WARNING:root:Lossy conversion from float64 to uint8. Range [0, 1]. Convert image to uint8 prior to saving to suppress this warning.\n",
            "WARNING:root:Lossy conversion from float64 to uint8. Range [0, 1]. Convert image to uint8 prior to saving to suppress this warning.\n",
            "/usr/local/lib/python3.6/dist-packages/ipykernel_launcher.py:6: UserWarning: /content/drive/My Drive/5_corridors_train_val_data/train-20200530T092227Z-001/mask/43rd_Skillman_62.jpg is a low contrast image\n",
            "  \n",
            "WARNING:root:Lossy conversion from float64 to uint8. Range [0, 1]. Convert image to uint8 prior to saving to suppress this warning.\n"
          ],
          "name": "stderr"
        },
        {
          "output_type": "stream",
          "text": [
            "image name::   South_St_445.jpg\n",
            "image name::   43rd_Skillman_62.jpg\n",
            "image name::   2nd_Ave_106.jpg\n"
          ],
          "name": "stdout"
        },
        {
          "output_type": "stream",
          "text": [
            "WARNING:root:Lossy conversion from float64 to uint8. Range [0, 1]. Convert image to uint8 prior to saving to suppress this warning.\n",
            "WARNING:root:Lossy conversion from float64 to uint8. Range [0, 1]. Convert image to uint8 prior to saving to suppress this warning.\n",
            "WARNING:root:Lossy conversion from float64 to uint8. Range [0, 1]. Convert image to uint8 prior to saving to suppress this warning.\n",
            "WARNING:root:Lossy conversion from float64 to uint8. Range [0, 1]. Convert image to uint8 prior to saving to suppress this warning.\n"
          ],
          "name": "stderr"
        },
        {
          "output_type": "stream",
          "text": [
            "image name::   Yellowstone_Blvd_198.jpg\n",
            "image name::   2nd_Ave_386.jpg\n",
            "image name::   South_St_926.jpg\n"
          ],
          "name": "stdout"
        },
        {
          "output_type": "stream",
          "text": [
            "/usr/local/lib/python3.6/dist-packages/ipykernel_launcher.py:6: UserWarning: /content/drive/My Drive/5_corridors_train_val_data/train-20200530T092227Z-001/mask/46_Ave_19.jpg is a low contrast image\n",
            "  \n",
            "WARNING:root:Lossy conversion from float64 to uint8. Range [0, 1]. Convert image to uint8 prior to saving to suppress this warning.\n",
            "WARNING:root:Lossy conversion from float64 to uint8. Range [0, 1]. Convert image to uint8 prior to saving to suppress this warning.\n",
            "WARNING:root:Lossy conversion from float64 to uint8. Range [0, 1]. Convert image to uint8 prior to saving to suppress this warning.\n",
            "/usr/local/lib/python3.6/dist-packages/ipykernel_launcher.py:6: UserWarning: /content/drive/My Drive/5_corridors_train_val_data/train-20200530T092227Z-001/mask/Queens_Blvd_90.jpg is a low contrast image\n",
            "  \n",
            "WARNING:root:Lossy conversion from float64 to uint8. Range [0, 1]. Convert image to uint8 prior to saving to suppress this warning.\n"
          ],
          "name": "stderr"
        },
        {
          "output_type": "stream",
          "text": [
            "image name::   46_Ave_19.jpg\n",
            "image name::   South_St_533.jpg\n",
            "image name::   7_Ave_S_329.jpg\n",
            "image name::   Queens_Blvd_90.jpg\n",
            "image name::   2nd_Ave_345.jpg\n"
          ],
          "name": "stdout"
        },
        {
          "output_type": "stream",
          "text": [
            "WARNING:root:Lossy conversion from float64 to uint8. Range [0, 1]. Convert image to uint8 prior to saving to suppress this warning.\n",
            "WARNING:root:Lossy conversion from float64 to uint8. Range [0, 1]. Convert image to uint8 prior to saving to suppress this warning.\n",
            "WARNING:root:Lossy conversion from float64 to uint8. Range [0, 1]. Convert image to uint8 prior to saving to suppress this warning.\n"
          ],
          "name": "stderr"
        },
        {
          "output_type": "stream",
          "text": [
            "image name::   7_Ave_S_151.jpg\n",
            "image name::   2_Ave_69.jpg\n",
            "image name::   South_St_954.jpg\n"
          ],
          "name": "stdout"
        },
        {
          "output_type": "stream",
          "text": [
            "/usr/local/lib/python3.6/dist-packages/ipykernel_launcher.py:6: UserWarning: /content/drive/My Drive/5_corridors_train_val_data/train-20200530T092227Z-001/mask/South_St_954.jpg is a low contrast image\n",
            "  \n",
            "WARNING:root:Lossy conversion from float64 to uint8. Range [0, 1]. Convert image to uint8 prior to saving to suppress this warning.\n",
            "/usr/local/lib/python3.6/dist-packages/ipykernel_launcher.py:6: UserWarning: /content/drive/My Drive/5_corridors_train_val_data/train-20200530T092227Z-001/mask/2nd_Ave_367.jpg is a low contrast image\n",
            "  \n",
            "WARNING:root:Lossy conversion from float64 to uint8. Range [0, 1]. Convert image to uint8 prior to saving to suppress this warning.\n",
            "WARNING:root:Lossy conversion from float64 to uint8. Range [0, 1]. Convert image to uint8 prior to saving to suppress this warning.\n",
            "WARNING:root:Lossy conversion from float64 to uint8. Range [0, 1]. Convert image to uint8 prior to saving to suppress this warning.\n",
            "/usr/local/lib/python3.6/dist-packages/ipykernel_launcher.py:6: UserWarning: /content/drive/My Drive/5_corridors_train_val_data/train-20200530T092227Z-001/mask/E_Tremont_74.jpg is a low contrast image\n",
            "  \n",
            "WARNING:root:Lossy conversion from float64 to uint8. Range [0, 1]. Convert image to uint8 prior to saving to suppress this warning.\n"
          ],
          "name": "stderr"
        },
        {
          "output_type": "stream",
          "text": [
            "image name::   2nd_Ave_367.jpg\n",
            "image name::   Queens_Blvd_195.jpg\n",
            "image name::   46_Ave_38.jpg\n",
            "image name::   E_Tremont_74.jpg\n"
          ],
          "name": "stdout"
        },
        {
          "output_type": "stream",
          "text": [
            "WARNING:root:Lossy conversion from float64 to uint8. Range [0, 1]. Convert image to uint8 prior to saving to suppress this warning.\n"
          ],
          "name": "stderr"
        },
        {
          "output_type": "stream",
          "text": [
            "image name::   2nd_Ave_277.jpg\n",
            "image name::   Yellowstone_Blvd_222.jpg\n"
          ],
          "name": "stdout"
        },
        {
          "output_type": "stream",
          "text": [
            "WARNING:root:Lossy conversion from float64 to uint8. Range [0, 1]. Convert image to uint8 prior to saving to suppress this warning.\n",
            "WARNING:root:Lossy conversion from float64 to uint8. Range [0, 1]. Convert image to uint8 prior to saving to suppress this warning.\n",
            "/usr/local/lib/python3.6/dist-packages/ipykernel_launcher.py:6: UserWarning: /content/drive/My Drive/5_corridors_train_val_data/train-20200530T092227Z-001/mask/Queens_Blvd_214.jpg is a low contrast image\n",
            "  \n",
            "WARNING:root:Lossy conversion from float64 to uint8. Range [0, 1]. Convert image to uint8 prior to saving to suppress this warning.\n",
            "WARNING:root:Lossy conversion from float64 to uint8. Range [0, 1]. Convert image to uint8 prior to saving to suppress this warning.\n",
            "/usr/local/lib/python3.6/dist-packages/ipykernel_launcher.py:6: UserWarning: /content/drive/My Drive/5_corridors_train_val_data/train-20200530T092227Z-001/mask/7_Ave_S_83.jpg is a low contrast image\n",
            "  \n",
            "WARNING:root:Lossy conversion from float64 to uint8. Range [0, 1]. Convert image to uint8 prior to saving to suppress this warning.\n"
          ],
          "name": "stderr"
        },
        {
          "output_type": "stream",
          "text": [
            "image name::   South_St_588.jpg\n",
            "image name::   Queens_Blvd_214.jpg\n",
            "image name::   7_Ave_S_135.jpg\n",
            "image name::   7_Ave_S_83.jpg\n"
          ],
          "name": "stdout"
        },
        {
          "output_type": "stream",
          "text": [
            "WARNING:root:Lossy conversion from float64 to uint8. Range [0, 1]. Convert image to uint8 prior to saving to suppress this warning.\n",
            "WARNING:root:Lossy conversion from float64 to uint8. Range [0, 1]. Convert image to uint8 prior to saving to suppress this warning.\n",
            "WARNING:root:Lossy conversion from float64 to uint8. Range [0, 1]. Convert image to uint8 prior to saving to suppress this warning.\n",
            "/usr/local/lib/python3.6/dist-packages/ipykernel_launcher.py:6: UserWarning: /content/drive/My Drive/5_corridors_train_val_data/train-20200530T092227Z-001/mask/7_Ave_S_170.jpg is a low contrast image\n",
            "  \n",
            "WARNING:root:Lossy conversion from float64 to uint8. Range [0, 1]. Convert image to uint8 prior to saving to suppress this warning.\n"
          ],
          "name": "stderr"
        },
        {
          "output_type": "stream",
          "text": [
            "image name::   2nd_Ave_364.jpg\n",
            "image name::   Queens_Blvd_92.jpg\n",
            "image name::   2_Ave_53.jpg\n",
            "image name::   7_Ave_S_170.jpg\n",
            "image name::   2nd_Ave_73.jpg\n"
          ],
          "name": "stdout"
        },
        {
          "output_type": "stream",
          "text": [
            "/usr/local/lib/python3.6/dist-packages/ipykernel_launcher.py:6: UserWarning: /content/drive/My Drive/5_corridors_train_val_data/train-20200530T092227Z-001/mask/2nd_Ave_73.jpg is a low contrast image\n",
            "  \n",
            "WARNING:root:Lossy conversion from float64 to uint8. Range [0, 1]. Convert image to uint8 prior to saving to suppress this warning.\n",
            "/usr/local/lib/python3.6/dist-packages/ipykernel_launcher.py:6: UserWarning: /content/drive/My Drive/5_corridors_train_val_data/train-20200530T092227Z-001/mask/Queens_Blvd_8.jpg is a low contrast image\n",
            "  \n",
            "WARNING:root:Lossy conversion from float64 to uint8. Range [0, 1]. Convert image to uint8 prior to saving to suppress this warning.\n",
            "WARNING:root:Lossy conversion from float64 to uint8. Range [0, 1]. Convert image to uint8 prior to saving to suppress this warning.\n",
            "WARNING:root:Lossy conversion from float64 to uint8. Range [0, 1]. Convert image to uint8 prior to saving to suppress this warning.\n"
          ],
          "name": "stderr"
        },
        {
          "output_type": "stream",
          "text": [
            "image name::   Queens_Blvd_8.jpg\n",
            "image name::   Queens_Blvd_108.jpg\n",
            "image name::   7_Ave_S_252.jpg\n"
          ],
          "name": "stdout"
        },
        {
          "output_type": "stream",
          "text": [
            "WARNING:root:Lossy conversion from float64 to uint8. Range [0, 1]. Convert image to uint8 prior to saving to suppress this warning.\n",
            "WARNING:root:Lossy conversion from float64 to uint8. Range [0, 1]. Convert image to uint8 prior to saving to suppress this warning.\n",
            "WARNING:root:Lossy conversion from float64 to uint8. Range [0, 1]. Convert image to uint8 prior to saving to suppress this warning.\n"
          ],
          "name": "stderr"
        },
        {
          "output_type": "stream",
          "text": [
            "image name::   E_Tremont_30.jpg\n",
            "image name::   Yellowstone_Blvd_111.jpg\n",
            "image name::   South_St_604.jpg\n",
            "image name::   Yellowstone_Blvd_133.jpg\n"
          ],
          "name": "stdout"
        },
        {
          "output_type": "stream",
          "text": [
            "WARNING:root:Lossy conversion from float64 to uint8. Range [0, 1]. Convert image to uint8 prior to saving to suppress this warning.\n",
            "/usr/local/lib/python3.6/dist-packages/ipykernel_launcher.py:6: UserWarning: /content/drive/My Drive/5_corridors_train_val_data/train-20200530T092227Z-001/mask/Yellowstone_Blvd_131.jpg is a low contrast image\n",
            "  \n",
            "WARNING:root:Lossy conversion from float64 to uint8. Range [0, 1]. Convert image to uint8 prior to saving to suppress this warning.\n",
            "WARNING:root:Lossy conversion from float64 to uint8. Range [0, 1]. Convert image to uint8 prior to saving to suppress this warning.\n",
            "WARNING:root:Lossy conversion from float64 to uint8. Range [0, 1]. Convert image to uint8 prior to saving to suppress this warning.\n",
            "/usr/local/lib/python3.6/dist-packages/ipykernel_launcher.py:6: UserWarning: /content/drive/My Drive/5_corridors_train_val_data/train-20200530T092227Z-001/mask/7_Ave_S_226.jpg is a low contrast image\n",
            "  \n",
            "WARNING:root:Lossy conversion from float64 to uint8. Range [0, 1]. Convert image to uint8 prior to saving to suppress this warning.\n"
          ],
          "name": "stderr"
        },
        {
          "output_type": "stream",
          "text": [
            "image name::   Yellowstone_Blvd_131.jpg\n",
            "image name::   2nd_Ave_378.jpg\n",
            "image name::   43rd_Skillman_74.jpg\n",
            "image name::   7_Ave_S_226.jpg\n",
            "image name::   South_St_470.jpg\n"
          ],
          "name": "stdout"
        },
        {
          "output_type": "stream",
          "text": [
            "WARNING:root:Lossy conversion from float64 to uint8. Range [0, 1]. Convert image to uint8 prior to saving to suppress this warning.\n",
            "WARNING:root:Lossy conversion from float64 to uint8. Range [0, 1]. Convert image to uint8 prior to saving to suppress this warning.\n",
            "WARNING:root:Lossy conversion from float64 to uint8. Range [0, 1]. Convert image to uint8 prior to saving to suppress this warning.\n",
            "WARNING:root:Lossy conversion from float64 to uint8. Range [0, 1]. Convert image to uint8 prior to saving to suppress this warning.\n"
          ],
          "name": "stderr"
        },
        {
          "output_type": "stream",
          "text": [
            "image name::   Yellowstone_Blvd_284.jpg\n",
            "image name::   South_St_632.jpg\n",
            "image name::   2nd_Ave_83.jpg\n",
            "image name::   South_St_933.jpg\n"
          ],
          "name": "stdout"
        },
        {
          "output_type": "stream",
          "text": [
            "WARNING:root:Lossy conversion from float64 to uint8. Range [0, 1]. Convert image to uint8 prior to saving to suppress this warning.\n",
            "WARNING:root:Lossy conversion from float64 to uint8. Range [0, 1]. Convert image to uint8 prior to saving to suppress this warning.\n",
            "WARNING:root:Lossy conversion from float64 to uint8. Range [0, 1]. Convert image to uint8 prior to saving to suppress this warning.\n"
          ],
          "name": "stderr"
        },
        {
          "output_type": "stream",
          "text": [
            "image name::   2nd_Ave_423.jpg\n",
            "image name::   7_Ave_S_88.jpg\n",
            "image name::   7_Ave_S_72.jpg\n"
          ],
          "name": "stdout"
        },
        {
          "output_type": "stream",
          "text": [
            "WARNING:root:Lossy conversion from float64 to uint8. Range [0, 1]. Convert image to uint8 prior to saving to suppress this warning.\n",
            "WARNING:root:Lossy conversion from float64 to uint8. Range [0, 1]. Convert image to uint8 prior to saving to suppress this warning.\n",
            "WARNING:root:Lossy conversion from float64 to uint8. Range [0, 1]. Convert image to uint8 prior to saving to suppress this warning.\n",
            "WARNING:root:Lossy conversion from float64 to uint8. Range [0, 1]. Convert image to uint8 prior to saving to suppress this warning.\n"
          ],
          "name": "stderr"
        },
        {
          "output_type": "stream",
          "text": [
            "image name::   7_Ave_S_193.jpg\n",
            "image name::   South_St_557.jpg\n",
            "image name::   Yellowstone_Blvd_238.jpg\n",
            "image name::   7_Ave_S_141.jpg\n"
          ],
          "name": "stdout"
        },
        {
          "output_type": "stream",
          "text": [
            "WARNING:root:Lossy conversion from float64 to uint8. Range [0, 1]. Convert image to uint8 prior to saving to suppress this warning.\n",
            "/usr/local/lib/python3.6/dist-packages/ipykernel_launcher.py:6: UserWarning: /content/drive/My Drive/5_corridors_train_val_data/train-20200530T092227Z-001/mask/2nd_Ave_293.jpg is a low contrast image\n",
            "  \n",
            "WARNING:root:Lossy conversion from float64 to uint8. Range [0, 1]. Convert image to uint8 prior to saving to suppress this warning.\n",
            "WARNING:root:Lossy conversion from float64 to uint8. Range [0, 1]. Convert image to uint8 prior to saving to suppress this warning.\n",
            "/usr/local/lib/python3.6/dist-packages/ipykernel_launcher.py:6: UserWarning: /content/drive/My Drive/5_corridors_train_val_data/train-20200530T092227Z-001/mask/46_Ave_60.jpg is a low contrast image\n",
            "  \n",
            "WARNING:root:Lossy conversion from float64 to uint8. Range [0, 1]. Convert image to uint8 prior to saving to suppress this warning.\n",
            "WARNING:root:Lossy conversion from float64 to uint8. Range [0, 1]. Convert image to uint8 prior to saving to suppress this warning.\n"
          ],
          "name": "stderr"
        },
        {
          "output_type": "stream",
          "text": [
            "image name::   2nd_Ave_293.jpg\n",
            "image name::   43rd_Skillman_235.jpg\n",
            "image name::   46_Ave_60.jpg\n",
            "image name::   South_St_392.jpg\n",
            "image name::   7_Ave_S_423.jpg\n"
          ],
          "name": "stdout"
        },
        {
          "output_type": "stream",
          "text": [
            "WARNING:root:Lossy conversion from float64 to uint8. Range [0, 1]. Convert image to uint8 prior to saving to suppress this warning.\n",
            "WARNING:root:Lossy conversion from float64 to uint8. Range [0, 1]. Convert image to uint8 prior to saving to suppress this warning.\n",
            "/usr/local/lib/python3.6/dist-packages/ipykernel_launcher.py:6: UserWarning: /content/drive/My Drive/5_corridors_train_val_data/train-20200530T092227Z-001/mask/7_Ave_S_436.jpg is a low contrast image\n",
            "  \n",
            "WARNING:root:Lossy conversion from float64 to uint8. Range [0, 1]. Convert image to uint8 prior to saving to suppress this warning.\n",
            "WARNING:root:Lossy conversion from float64 to uint8. Range [0, 1]. Convert image to uint8 prior to saving to suppress this warning.\n",
            "/usr/local/lib/python3.6/dist-packages/ipykernel_launcher.py:6: UserWarning: /content/drive/My Drive/5_corridors_train_val_data/train-20200530T092227Z-001/mask/7_Ave_S_343.jpg is a low contrast image\n",
            "  \n",
            "WARNING:root:Lossy conversion from float64 to uint8. Range [0, 1]. Convert image to uint8 prior to saving to suppress this warning.\n"
          ],
          "name": "stderr"
        },
        {
          "output_type": "stream",
          "text": [
            "image name::   2_Ave_75.jpg\n",
            "image name::   7_Ave_S_436.jpg\n",
            "image name::   South_St_948.jpg\n",
            "image name::   7_Ave_S_343.jpg\n",
            "image name::   2nd_Ave_431.jpg\n"
          ],
          "name": "stdout"
        },
        {
          "output_type": "stream",
          "text": [
            "WARNING:root:Lossy conversion from float64 to uint8. Range [0, 1]. Convert image to uint8 prior to saving to suppress this warning.\n",
            "/usr/local/lib/python3.6/dist-packages/ipykernel_launcher.py:6: UserWarning: /content/drive/My Drive/5_corridors_train_val_data/train-20200530T092227Z-001/mask/7_Ave_S_375.jpg is a low contrast image\n",
            "  \n",
            "WARNING:root:Lossy conversion from float64 to uint8. Range [0, 1]. Convert image to uint8 prior to saving to suppress this warning.\n",
            "/usr/local/lib/python3.6/dist-packages/ipykernel_launcher.py:6: UserWarning: /content/drive/My Drive/5_corridors_train_val_data/train-20200530T092227Z-001/mask/7_Ave_S_111.jpg is a low contrast image\n",
            "  \n",
            "WARNING:root:Lossy conversion from float64 to uint8. Range [0, 1]. Convert image to uint8 prior to saving to suppress this warning.\n",
            "/usr/local/lib/python3.6/dist-packages/ipykernel_launcher.py:6: UserWarning: /content/drive/My Drive/5_corridors_train_val_data/train-20200530T092227Z-001/mask/Yellowstone_Blvd_123.jpg is a low contrast image\n",
            "  \n",
            "WARNING:root:Lossy conversion from float64 to uint8. Range [0, 1]. Convert image to uint8 prior to saving to suppress this warning.\n",
            "WARNING:root:Lossy conversion from float64 to uint8. Range [0, 1]. Convert image to uint8 prior to saving to suppress this warning.\n"
          ],
          "name": "stderr"
        },
        {
          "output_type": "stream",
          "text": [
            "image name::   7_Ave_S_375.jpg\n",
            "image name::   7_Ave_S_111.jpg\n",
            "image name::   Yellowstone_Blvd_123.jpg\n",
            "image name::   46_Ave_99.jpg\n"
          ],
          "name": "stdout"
        },
        {
          "output_type": "stream",
          "text": [
            "/usr/local/lib/python3.6/dist-packages/ipykernel_launcher.py:6: UserWarning: /content/drive/My Drive/5_corridors_train_val_data/train-20200530T092227Z-001/mask/Queens_Blvd_153.jpg is a low contrast image\n",
            "  \n",
            "WARNING:root:Lossy conversion from float64 to uint8. Range [0, 1]. Convert image to uint8 prior to saving to suppress this warning.\n",
            "/usr/local/lib/python3.6/dist-packages/ipykernel_launcher.py:6: UserWarning: /content/drive/My Drive/5_corridors_train_val_data/train-20200530T092227Z-001/mask/South_St_235.jpg is a low contrast image\n",
            "  \n",
            "WARNING:root:Lossy conversion from float64 to uint8. Range [0, 1]. Convert image to uint8 prior to saving to suppress this warning.\n",
            "WARNING:root:Lossy conversion from float64 to uint8. Range [0, 1]. Convert image to uint8 prior to saving to suppress this warning.\n",
            "WARNING:root:Lossy conversion from float64 to uint8. Range [0, 1]. Convert image to uint8 prior to saving to suppress this warning.\n"
          ],
          "name": "stderr"
        },
        {
          "output_type": "stream",
          "text": [
            "image name::   Queens_Blvd_153.jpg\n",
            "image name::   South_St_235.jpg\n",
            "image name::   2_Ave_37.jpg\n",
            "image name::   2nd_Ave_5.jpg\n"
          ],
          "name": "stdout"
        },
        {
          "output_type": "stream",
          "text": [
            "/usr/local/lib/python3.6/dist-packages/ipykernel_launcher.py:6: UserWarning: /content/drive/My Drive/5_corridors_train_val_data/train-20200530T092227Z-001/mask/46_Ave_49.jpg is a low contrast image\n",
            "  \n",
            "WARNING:root:Lossy conversion from float64 to uint8. Range [0, 1]. Convert image to uint8 prior to saving to suppress this warning.\n",
            "/usr/local/lib/python3.6/dist-packages/ipykernel_launcher.py:6: UserWarning: /content/drive/My Drive/5_corridors_train_val_data/train-20200530T092227Z-001/mask/43rd_Skillman_111.jpg is a low contrast image\n",
            "  \n",
            "WARNING:root:Lossy conversion from float64 to uint8. Range [0, 1]. Convert image to uint8 prior to saving to suppress this warning.\n",
            "WARNING:root:Lossy conversion from float64 to uint8. Range [0, 1]. Convert image to uint8 prior to saving to suppress this warning.\n"
          ],
          "name": "stderr"
        },
        {
          "output_type": "stream",
          "text": [
            "image name::   46_Ave_49.jpg\n",
            "image name::   43rd_Skillman_111.jpg\n",
            "image name::   South_St_250.jpg\n",
            "image name::   2nd_Ave_132.jpg\n"
          ],
          "name": "stdout"
        },
        {
          "output_type": "stream",
          "text": [
            "WARNING:root:Lossy conversion from float64 to uint8. Range [0, 1]. Convert image to uint8 prior to saving to suppress this warning.\n",
            "WARNING:root:Lossy conversion from float64 to uint8. Range [0, 1]. Convert image to uint8 prior to saving to suppress this warning.\n",
            "WARNING:root:Lossy conversion from float64 to uint8. Range [0, 1]. Convert image to uint8 prior to saving to suppress this warning.\n",
            "WARNING:root:Lossy conversion from float64 to uint8. Range [0, 1]. Convert image to uint8 prior to saving to suppress this warning.\n"
          ],
          "name": "stderr"
        },
        {
          "output_type": "stream",
          "text": [
            "image name::   2nd_Ave_174.jpg\n",
            "image name::   Queens_Blvd_34.jpg\n",
            "image name::   46_Ave_20.jpg\n",
            "image name::   7_Ave_S_363.jpg\n"
          ],
          "name": "stdout"
        },
        {
          "output_type": "stream",
          "text": [
            "WARNING:root:Lossy conversion from float64 to uint8. Range [0, 1]. Convert image to uint8 prior to saving to suppress this warning.\n",
            "/usr/local/lib/python3.6/dist-packages/ipykernel_launcher.py:6: UserWarning: /content/drive/My Drive/5_corridors_train_val_data/train-20200530T092227Z-001/mask/46_Ave_35.jpg is a low contrast image\n",
            "  \n",
            "WARNING:root:Lossy conversion from float64 to uint8. Range [0, 1]. Convert image to uint8 prior to saving to suppress this warning.\n",
            "/usr/local/lib/python3.6/dist-packages/ipykernel_launcher.py:6: UserWarning: /content/drive/My Drive/5_corridors_train_val_data/train-20200530T092227Z-001/mask/South_St_119.jpg is a low contrast image\n",
            "  \n",
            "WARNING:root:Lossy conversion from float64 to uint8. Range [0, 1]. Convert image to uint8 prior to saving to suppress this warning.\n",
            "/usr/local/lib/python3.6/dist-packages/ipykernel_launcher.py:6: UserWarning: /content/drive/My Drive/5_corridors_train_val_data/train-20200530T092227Z-001/mask/2nd_Ave_86.jpg is a low contrast image\n",
            "  \n",
            "WARNING:root:Lossy conversion from float64 to uint8. Range [0, 1]. Convert image to uint8 prior to saving to suppress this warning.\n",
            "WARNING:root:Lossy conversion from float64 to uint8. Range [0, 1]. Convert image to uint8 prior to saving to suppress this warning.\n",
            "/usr/local/lib/python3.6/dist-packages/ipykernel_launcher.py:6: UserWarning: /content/drive/My Drive/5_corridors_train_val_data/train-20200530T092227Z-001/mask/43rd_Skillman_134.jpg is a low contrast image\n",
            "  \n",
            "WARNING:root:Lossy conversion from float64 to uint8. Range [0, 1]. Convert image to uint8 prior to saving to suppress this warning.\n"
          ],
          "name": "stderr"
        },
        {
          "output_type": "stream",
          "text": [
            "image name::   46_Ave_35.jpg\n",
            "image name::   South_St_119.jpg\n",
            "image name::   2nd_Ave_86.jpg\n",
            "image name::   7_Ave_S_353.jpg\n",
            "image name::   43rd_Skillman_134.jpg\n"
          ],
          "name": "stdout"
        },
        {
          "output_type": "stream",
          "text": [
            "/usr/local/lib/python3.6/dist-packages/ipykernel_launcher.py:6: UserWarning: /content/drive/My Drive/5_corridors_train_val_data/train-20200530T092227Z-001/mask/2nd_Ave_100.jpg is a low contrast image\n",
            "  \n",
            "WARNING:root:Lossy conversion from float64 to uint8. Range [0, 1]. Convert image to uint8 prior to saving to suppress this warning.\n",
            "WARNING:root:Lossy conversion from float64 to uint8. Range [0, 1]. Convert image to uint8 prior to saving to suppress this warning.\n",
            "WARNING:root:Lossy conversion from float64 to uint8. Range [0, 1]. Convert image to uint8 prior to saving to suppress this warning.\n",
            "WARNING:root:Lossy conversion from float64 to uint8. Range [0, 1]. Convert image to uint8 prior to saving to suppress this warning.\n"
          ],
          "name": "stderr"
        },
        {
          "output_type": "stream",
          "text": [
            "image name::   2nd_Ave_100.jpg\n",
            "image name::   Yellowstone_Blvd_134.jpg\n",
            "image name::   7_Ave_S_90.jpg\n",
            "image name::   South_St_541.jpg\n",
            "image name::   2nd_Ave_167.jpg\n"
          ],
          "name": "stdout"
        },
        {
          "output_type": "stream",
          "text": [
            "WARNING:root:Lossy conversion from float64 to uint8. Range [0, 1]. Convert image to uint8 prior to saving to suppress this warning.\n",
            "/usr/local/lib/python3.6/dist-packages/ipykernel_launcher.py:6: UserWarning: /content/drive/My Drive/5_corridors_train_val_data/train-20200530T092227Z-001/mask/43rd_Skillman_147.jpg is a low contrast image\n",
            "  \n",
            "WARNING:root:Lossy conversion from float64 to uint8. Range [0, 1]. Convert image to uint8 prior to saving to suppress this warning.\n",
            "WARNING:root:Lossy conversion from float64 to uint8. Range [0, 1]. Convert image to uint8 prior to saving to suppress this warning.\n",
            "/usr/local/lib/python3.6/dist-packages/ipykernel_launcher.py:6: UserWarning: /content/drive/My Drive/5_corridors_train_val_data/train-20200530T092227Z-001/mask/Yellowstone_Blvd_184.jpg is a low contrast image\n",
            "  \n",
            "WARNING:root:Lossy conversion from float64 to uint8. Range [0, 1]. Convert image to uint8 prior to saving to suppress this warning.\n",
            "WARNING:root:Lossy conversion from float64 to uint8. Range [0, 1]. Convert image to uint8 prior to saving to suppress this warning.\n",
            "WARNING:root:Lossy conversion from float64 to uint8. Range [0, 1]. Convert image to uint8 prior to saving to suppress this warning.\n"
          ],
          "name": "stderr"
        },
        {
          "output_type": "stream",
          "text": [
            "image name::   43rd_Skillman_147.jpg\n",
            "image name::   7_Ave_S_15.jpg\n",
            "image name::   Yellowstone_Blvd_184.jpg\n",
            "image name::   South_St_326.jpg\n",
            "image name::   E_Tremont_45.jpg\n"
          ],
          "name": "stdout"
        },
        {
          "output_type": "stream",
          "text": [
            "WARNING:root:Lossy conversion from float64 to uint8. Range [0, 1]. Convert image to uint8 prior to saving to suppress this warning.\n",
            "WARNING:root:Lossy conversion from float64 to uint8. Range [0, 1]. Convert image to uint8 prior to saving to suppress this warning.\n",
            "/usr/local/lib/python3.6/dist-packages/ipykernel_launcher.py:6: UserWarning: /content/drive/My Drive/5_corridors_train_val_data/train-20200530T092227Z-001/mask/Forest_Road_11.jpg is a low contrast image\n",
            "  \n",
            "WARNING:root:Lossy conversion from float64 to uint8. Range [0, 1]. Convert image to uint8 prior to saving to suppress this warning.\n",
            "WARNING:root:Lossy conversion from float64 to uint8. Range [0, 1]. Convert image to uint8 prior to saving to suppress this warning.\n"
          ],
          "name": "stderr"
        },
        {
          "output_type": "stream",
          "text": [
            "image name::   Queens_Blvd_194.jpg\n",
            "image name::   South_St_573.jpg\n",
            "image name::   Forest_Road_11.jpg\n",
            "image name::   E_Tremont_6.jpg\n",
            "image name::   7_Ave_S_250.jpg\n"
          ],
          "name": "stdout"
        },
        {
          "output_type": "stream",
          "text": [
            "/usr/local/lib/python3.6/dist-packages/ipykernel_launcher.py:6: UserWarning: /content/drive/My Drive/5_corridors_train_val_data/train-20200530T092227Z-001/mask/7_Ave_S_250.jpg is a low contrast image\n",
            "  \n",
            "WARNING:root:Lossy conversion from float64 to uint8. Range [0, 1]. Convert image to uint8 prior to saving to suppress this warning.\n",
            "WARNING:root:Lossy conversion from float64 to uint8. Range [0, 1]. Convert image to uint8 prior to saving to suppress this warning.\n",
            "WARNING:root:Lossy conversion from float64 to uint8. Range [0, 1]. Convert image to uint8 prior to saving to suppress this warning.\n",
            "WARNING:root:Lossy conversion from float64 to uint8. Range [0, 1]. Convert image to uint8 prior to saving to suppress this warning.\n"
          ],
          "name": "stderr"
        },
        {
          "output_type": "stream",
          "text": [
            "image name::   Queens_Blvd_10.jpg\n",
            "image name::   South_St_548.jpg\n",
            "image name::   2nd_Ave_9.jpg\n",
            "image name::   7_Ave_S_150.jpg\n"
          ],
          "name": "stdout"
        },
        {
          "output_type": "stream",
          "text": [
            "WARNING:root:Lossy conversion from float64 to uint8. Range [0, 1]. Convert image to uint8 prior to saving to suppress this warning.\n",
            "/usr/local/lib/python3.6/dist-packages/ipykernel_launcher.py:6: UserWarning: /content/drive/My Drive/5_corridors_train_val_data/train-20200530T092227Z-001/mask/South_St_397.jpg is a low contrast image\n",
            "  \n",
            "WARNING:root:Lossy conversion from float64 to uint8. Range [0, 1]. Convert image to uint8 prior to saving to suppress this warning.\n",
            "WARNING:root:Lossy conversion from float64 to uint8. Range [0, 1]. Convert image to uint8 prior to saving to suppress this warning.\n",
            "WARNING:root:Lossy conversion from float64 to uint8. Range [0, 1]. Convert image to uint8 prior to saving to suppress this warning.\n"
          ],
          "name": "stderr"
        },
        {
          "output_type": "stream",
          "text": [
            "image name::   South_St_397.jpg\n",
            "image name::   2nd_Ave_329.jpg\n",
            "image name::   2_Ave_68.jpg\n",
            "image name::   7_Ave_S_261.jpg\n"
          ],
          "name": "stdout"
        },
        {
          "output_type": "stream",
          "text": [
            "WARNING:root:Lossy conversion from float64 to uint8. Range [0, 1]. Convert image to uint8 prior to saving to suppress this warning.\n",
            "WARNING:root:Lossy conversion from float64 to uint8. Range [0, 1]. Convert image to uint8 prior to saving to suppress this warning.\n",
            "/usr/local/lib/python3.6/dist-packages/ipykernel_launcher.py:6: UserWarning: /content/drive/My Drive/5_corridors_train_val_data/train-20200530T092227Z-001/mask/Queens_Blvd_190.jpg is a low contrast image\n",
            "  \n",
            "WARNING:root:Lossy conversion from float64 to uint8. Range [0, 1]. Convert image to uint8 prior to saving to suppress this warning.\n",
            "/usr/local/lib/python3.6/dist-packages/ipykernel_launcher.py:6: UserWarning: /content/drive/My Drive/5_corridors_train_val_data/train-20200530T092227Z-001/mask/Forest_Road_20.jpg is a low contrast image\n",
            "  \n",
            "WARNING:root:Lossy conversion from float64 to uint8. Range [0, 1]. Convert image to uint8 prior to saving to suppress this warning.\n",
            "WARNING:root:Lossy conversion from float64 to uint8. Range [0, 1]. Convert image to uint8 prior to saving to suppress this warning.\n"
          ],
          "name": "stderr"
        },
        {
          "output_type": "stream",
          "text": [
            "image name::   7_Ave_S_288.jpg\n",
            "image name::   Queens_Blvd_190.jpg\n",
            "image name::   Forest_Road_20.jpg\n",
            "image name::   2nd_Ave_141.jpg\n"
          ],
          "name": "stdout"
        },
        {
          "output_type": "stream",
          "text": [
            "WARNING:root:Lossy conversion from float64 to uint8. Range [0, 1]. Convert image to uint8 prior to saving to suppress this warning.\n",
            "WARNING:root:Lossy conversion from float64 to uint8. Range [0, 1]. Convert image to uint8 prior to saving to suppress this warning.\n"
          ],
          "name": "stderr"
        },
        {
          "output_type": "stream",
          "text": [
            "image name::   2nd_Ave_301.jpg\n",
            "image name::   2_Ave_5.jpg\n"
          ],
          "name": "stdout"
        },
        {
          "output_type": "stream",
          "text": [
            "WARNING:root:Lossy conversion from float64 to uint8. Range [0, 1]. Convert image to uint8 prior to saving to suppress this warning.\n",
            "/usr/local/lib/python3.6/dist-packages/ipykernel_launcher.py:6: UserWarning: /content/drive/My Drive/5_corridors_train_val_data/train-20200530T092227Z-001/mask/Forest_Road_27.jpg is a low contrast image\n",
            "  \n",
            "WARNING:root:Lossy conversion from float64 to uint8. Range [0, 1]. Convert image to uint8 prior to saving to suppress this warning.\n",
            "/usr/local/lib/python3.6/dist-packages/ipykernel_launcher.py:6: UserWarning: /content/drive/My Drive/5_corridors_train_val_data/train-20200530T092227Z-001/mask/South_St_184.jpg is a low contrast image\n",
            "  \n",
            "WARNING:root:Lossy conversion from float64 to uint8. Range [0, 1]. Convert image to uint8 prior to saving to suppress this warning.\n",
            "WARNING:root:Lossy conversion from float64 to uint8. Range [0, 1]. Convert image to uint8 prior to saving to suppress this warning.\n",
            "WARNING:root:Lossy conversion from float64 to uint8. Range [0, 1]. Convert image to uint8 prior to saving to suppress this warning.\n"
          ],
          "name": "stderr"
        },
        {
          "output_type": "stream",
          "text": [
            "image name::   South_St_694.jpg\n",
            "image name::   Forest_Road_27.jpg\n",
            "image name::   South_St_184.jpg\n",
            "image name::   South_St_596.jpg\n",
            "image name::   7_Ave_S_214.jpg\n"
          ],
          "name": "stdout"
        },
        {
          "output_type": "stream",
          "text": [
            "WARNING:root:Lossy conversion from float64 to uint8. Range [0, 1]. Convert image to uint8 prior to saving to suppress this warning.\n",
            "/usr/local/lib/python3.6/dist-packages/ipykernel_launcher.py:6: UserWarning: /content/drive/My Drive/5_corridors_train_val_data/train-20200530T092227Z-001/mask/43rd_Skillman_186.jpg is a low contrast image\n",
            "  \n",
            "WARNING:root:Lossy conversion from float64 to uint8. Range [0, 1]. Convert image to uint8 prior to saving to suppress this warning.\n"
          ],
          "name": "stderr"
        },
        {
          "output_type": "stream",
          "text": [
            "image name::   2nd_Ave_299.jpg\n",
            "image name::   43rd_Skillman_186.jpg\n",
            "image name::   7_Ave_S_97.jpg\n"
          ],
          "name": "stdout"
        },
        {
          "output_type": "stream",
          "text": [
            "WARNING:root:Lossy conversion from float64 to uint8. Range [0, 1]. Convert image to uint8 prior to saving to suppress this warning.\n",
            "/usr/local/lib/python3.6/dist-packages/ipykernel_launcher.py:6: UserWarning: /content/drive/My Drive/5_corridors_train_val_data/train-20200530T092227Z-001/mask/South_St_177.jpg is a low contrast image\n",
            "  \n",
            "WARNING:root:Lossy conversion from float64 to uint8. Range [0, 1]. Convert image to uint8 prior to saving to suppress this warning.\n",
            "/usr/local/lib/python3.6/dist-packages/ipykernel_launcher.py:6: UserWarning: /content/drive/My Drive/5_corridors_train_val_data/train-20200530T092227Z-001/mask/Yellowstone_Blvd_307.jpg is a low contrast image\n",
            "  \n",
            "WARNING:root:Lossy conversion from float64 to uint8. Range [0, 1]. Convert image to uint8 prior to saving to suppress this warning.\n",
            "WARNING:root:Lossy conversion from float64 to uint8. Range [0, 1]. Convert image to uint8 prior to saving to suppress this warning.\n",
            "/usr/local/lib/python3.6/dist-packages/ipykernel_launcher.py:6: UserWarning: /content/drive/My Drive/5_corridors_train_val_data/train-20200530T092227Z-001/mask/7_Ave_S_393.jpg is a low contrast image\n",
            "  \n",
            "WARNING:root:Lossy conversion from float64 to uint8. Range [0, 1]. Convert image to uint8 prior to saving to suppress this warning.\n"
          ],
          "name": "stderr"
        },
        {
          "output_type": "stream",
          "text": [
            "image name::   South_St_177.jpg\n",
            "image name::   Yellowstone_Blvd_307.jpg\n",
            "image name::   E_Tremont_172.jpg\n",
            "image name::   7_Ave_S_393.jpg\n",
            "image name::   South_St_535.jpg\n"
          ],
          "name": "stdout"
        },
        {
          "output_type": "stream",
          "text": [
            "WARNING:root:Lossy conversion from float64 to uint8. Range [0, 1]. Convert image to uint8 prior to saving to suppress this warning.\n",
            "WARNING:root:Lossy conversion from float64 to uint8. Range [0, 1]. Convert image to uint8 prior to saving to suppress this warning.\n",
            "WARNING:root:Lossy conversion from float64 to uint8. Range [0, 1]. Convert image to uint8 prior to saving to suppress this warning.\n"
          ],
          "name": "stderr"
        },
        {
          "output_type": "stream",
          "text": [
            "image name::   43rd_Skillman_188.jpg\n",
            "image name::   2nd_Ave_296.jpg\n",
            "image name::   Queens_Blvd_219.jpg\n"
          ],
          "name": "stdout"
        },
        {
          "output_type": "stream",
          "text": [
            "WARNING:root:Lossy conversion from float64 to uint8. Range [0, 1]. Convert image to uint8 prior to saving to suppress this warning.\n",
            "WARNING:root:Lossy conversion from float64 to uint8. Range [0, 1]. Convert image to uint8 prior to saving to suppress this warning.\n",
            "/usr/local/lib/python3.6/dist-packages/ipykernel_launcher.py:6: UserWarning: /content/drive/My Drive/5_corridors_train_val_data/train-20200530T092227Z-001/mask/Queens_Blvd_107.jpg is a low contrast image\n",
            "  \n",
            "WARNING:root:Lossy conversion from float64 to uint8. Range [0, 1]. Convert image to uint8 prior to saving to suppress this warning.\n",
            "/usr/local/lib/python3.6/dist-packages/ipykernel_launcher.py:6: UserWarning: /content/drive/My Drive/5_corridors_train_val_data/train-20200530T092227Z-001/mask/7_Ave_S_230.jpg is a low contrast image\n",
            "  \n",
            "WARNING:root:Lossy conversion from float64 to uint8. Range [0, 1]. Convert image to uint8 prior to saving to suppress this warning.\n",
            "/usr/local/lib/python3.6/dist-packages/ipykernel_launcher.py:6: UserWarning: /content/drive/My Drive/5_corridors_train_val_data/train-20200530T092227Z-001/mask/Queens_Blvd_56.jpg is a low contrast image\n",
            "  \n",
            "WARNING:root:Lossy conversion from float64 to uint8. Range [0, 1]. Convert image to uint8 prior to saving to suppress this warning.\n",
            "/usr/local/lib/python3.6/dist-packages/ipykernel_launcher.py:6: UserWarning: /content/drive/My Drive/5_corridors_train_val_data/train-20200530T092227Z-001/mask/2nd_Ave_33.jpg is a low contrast image\n",
            "  \n",
            "WARNING:root:Lossy conversion from float64 to uint8. Range [0, 1]. Convert image to uint8 prior to saving to suppress this warning.\n"
          ],
          "name": "stderr"
        },
        {
          "output_type": "stream",
          "text": [
            "image name::   South_St_319.jpg\n",
            "image name::   Queens_Blvd_107.jpg\n",
            "image name::   7_Ave_S_230.jpg\n",
            "image name::   Queens_Blvd_56.jpg\n",
            "image name::   2nd_Ave_33.jpg\n",
            "image name::   7_Ave_S_259.jpg\n"
          ],
          "name": "stdout"
        },
        {
          "output_type": "stream",
          "text": [
            "/usr/local/lib/python3.6/dist-packages/ipykernel_launcher.py:6: UserWarning: /content/drive/My Drive/5_corridors_train_val_data/train-20200530T092227Z-001/mask/7_Ave_S_259.jpg is a low contrast image\n",
            "  \n",
            "WARNING:root:Lossy conversion from float64 to uint8. Range [0, 1]. Convert image to uint8 prior to saving to suppress this warning.\n",
            "WARNING:root:Lossy conversion from float64 to uint8. Range [0, 1]. Convert image to uint8 prior to saving to suppress this warning.\n",
            "WARNING:root:Lossy conversion from float64 to uint8. Range [0, 1]. Convert image to uint8 prior to saving to suppress this warning.\n",
            "WARNING:root:Lossy conversion from float64 to uint8. Range [0, 1]. Convert image to uint8 prior to saving to suppress this warning.\n",
            "/usr/local/lib/python3.6/dist-packages/ipykernel_launcher.py:6: UserWarning: /content/drive/My Drive/5_corridors_train_val_data/train-20200530T092227Z-001/mask/Queens_Blvd_89.jpg is a low contrast image\n",
            "  \n",
            "WARNING:root:Lossy conversion from float64 to uint8. Range [0, 1]. Convert image to uint8 prior to saving to suppress this warning.\n"
          ],
          "name": "stderr"
        },
        {
          "output_type": "stream",
          "text": [
            "image name::   7_Ave_S_293.jpg\n",
            "image name::   2_Ave_6.jpg\n",
            "image name::   7_Ave_S_336.jpg\n",
            "image name::   Queens_Blvd_89.jpg\n",
            "image name::   Waterbury_Ave_23.jpg\n"
          ],
          "name": "stdout"
        },
        {
          "output_type": "stream",
          "text": [
            "/usr/local/lib/python3.6/dist-packages/ipykernel_launcher.py:6: UserWarning: /content/drive/My Drive/5_corridors_train_val_data/train-20200530T092227Z-001/mask/Waterbury_Ave_23.jpg is a low contrast image\n",
            "  \n",
            "WARNING:root:Lossy conversion from float64 to uint8. Range [0, 1]. Convert image to uint8 prior to saving to suppress this warning.\n",
            "/usr/local/lib/python3.6/dist-packages/ipykernel_launcher.py:6: UserWarning: /content/drive/My Drive/5_corridors_train_val_data/train-20200530T092227Z-001/mask/7_Ave_S_309.jpg is a low contrast image\n",
            "  \n",
            "WARNING:root:Lossy conversion from float64 to uint8. Range [0, 1]. Convert image to uint8 prior to saving to suppress this warning.\n",
            "/usr/local/lib/python3.6/dist-packages/ipykernel_launcher.py:6: UserWarning: /content/drive/My Drive/5_corridors_train_val_data/train-20200530T092227Z-001/mask/Yellowstone_Blvd_298.jpg is a low contrast image\n",
            "  \n",
            "WARNING:root:Lossy conversion from float64 to uint8. Range [0, 1]. Convert image to uint8 prior to saving to suppress this warning.\n",
            "/usr/local/lib/python3.6/dist-packages/ipykernel_launcher.py:6: UserWarning: /content/drive/My Drive/5_corridors_train_val_data/train-20200530T092227Z-001/mask/46_Ave_33.jpg is a low contrast image\n",
            "  \n",
            "WARNING:root:Lossy conversion from float64 to uint8. Range [0, 1]. Convert image to uint8 prior to saving to suppress this warning.\n",
            "/usr/local/lib/python3.6/dist-packages/ipykernel_launcher.py:6: UserWarning: /content/drive/My Drive/5_corridors_train_val_data/train-20200530T092227Z-001/mask/2nd_Ave_128.jpg is a low contrast image\n",
            "  \n",
            "WARNING:root:Lossy conversion from float64 to uint8. Range [0, 1]. Convert image to uint8 prior to saving to suppress this warning.\n",
            "WARNING:root:Lossy conversion from float64 to uint8. Range [0, 1]. Convert image to uint8 prior to saving to suppress this warning.\n"
          ],
          "name": "stderr"
        },
        {
          "output_type": "stream",
          "text": [
            "image name::   7_Ave_S_309.jpg\n",
            "image name::   Yellowstone_Blvd_298.jpg\n",
            "image name::   46_Ave_33.jpg\n",
            "image name::   2nd_Ave_128.jpg\n",
            "image name::   7_Ave_S_210.jpg\n"
          ],
          "name": "stdout"
        },
        {
          "output_type": "stream",
          "text": [
            "WARNING:root:Lossy conversion from float64 to uint8. Range [0, 1]. Convert image to uint8 prior to saving to suppress this warning.\n"
          ],
          "name": "stderr"
        },
        {
          "output_type": "stream",
          "text": [
            "image name::   2nd_Ave_65.jpg\n",
            "image name::   7_Ave_S_112.jpg\n"
          ],
          "name": "stdout"
        },
        {
          "output_type": "stream",
          "text": [
            "WARNING:root:Lossy conversion from float64 to uint8. Range [0, 1]. Convert image to uint8 prior to saving to suppress this warning.\n",
            "WARNING:root:Lossy conversion from float64 to uint8. Range [0, 1]. Convert image to uint8 prior to saving to suppress this warning.\n"
          ],
          "name": "stderr"
        },
        {
          "output_type": "stream",
          "text": [
            "image name::   2nd_Ave_31.jpg\n",
            "image name::   Queens_Blvd_37.jpg\n"
          ],
          "name": "stdout"
        },
        {
          "output_type": "stream",
          "text": [
            "/usr/local/lib/python3.6/dist-packages/ipykernel_launcher.py:6: UserWarning: /content/drive/My Drive/5_corridors_train_val_data/train-20200530T092227Z-001/mask/Queens_Blvd_37.jpg is a low contrast image\n",
            "  \n",
            "WARNING:root:Lossy conversion from float64 to uint8. Range [0, 1]. Convert image to uint8 prior to saving to suppress this warning.\n",
            "/usr/local/lib/python3.6/dist-packages/ipykernel_launcher.py:6: UserWarning: /content/drive/My Drive/5_corridors_train_val_data/train-20200530T092227Z-001/mask/South_St_8.jpg is a low contrast image\n",
            "  \n",
            "WARNING:root:Lossy conversion from float64 to uint8. Range [0, 1]. Convert image to uint8 prior to saving to suppress this warning.\n",
            "WARNING:root:Lossy conversion from float64 to uint8. Range [0, 1]. Convert image to uint8 prior to saving to suppress this warning.\n",
            "WARNING:root:Lossy conversion from float64 to uint8. Range [0, 1]. Convert image to uint8 prior to saving to suppress this warning.\n",
            "/usr/local/lib/python3.6/dist-packages/ipykernel_launcher.py:6: UserWarning: /content/drive/My Drive/5_corridors_train_val_data/train-20200530T092227Z-001/mask/Queens_Blvd_119.jpg is a low contrast image\n",
            "  \n",
            "WARNING:root:Lossy conversion from float64 to uint8. Range [0, 1]. Convert image to uint8 prior to saving to suppress this warning.\n"
          ],
          "name": "stderr"
        },
        {
          "output_type": "stream",
          "text": [
            "image name::   South_St_8.jpg\n",
            "image name::   46_Ave_94.jpg\n",
            "image name::   2nd_Ave_271.jpg\n",
            "image name::   Queens_Blvd_119.jpg\n",
            "image name::   7_Ave_S_29.jpg\n"
          ],
          "name": "stdout"
        },
        {
          "output_type": "stream",
          "text": [
            "WARNING:root:Lossy conversion from float64 to uint8. Range [0, 1]. Convert image to uint8 prior to saving to suppress this warning.\n",
            "/usr/local/lib/python3.6/dist-packages/ipykernel_launcher.py:6: UserWarning: /content/drive/My Drive/5_corridors_train_val_data/train-20200530T092227Z-001/mask/South_St_611.jpg is a low contrast image\n",
            "  \n",
            "WARNING:root:Lossy conversion from float64 to uint8. Range [0, 1]. Convert image to uint8 prior to saving to suppress this warning.\n",
            "WARNING:root:Lossy conversion from float64 to uint8. Range [0, 1]. Convert image to uint8 prior to saving to suppress this warning.\n",
            "/usr/local/lib/python3.6/dist-packages/ipykernel_launcher.py:6: UserWarning: /content/drive/My Drive/5_corridors_train_val_data/train-20200530T092227Z-001/mask/7_Ave_S_317.jpg is a low contrast image\n",
            "  \n",
            "WARNING:root:Lossy conversion from float64 to uint8. Range [0, 1]. Convert image to uint8 prior to saving to suppress this warning.\n",
            "/usr/local/lib/python3.6/dist-packages/ipykernel_launcher.py:6: UserWarning: /content/drive/My Drive/5_corridors_train_val_data/train-20200530T092227Z-001/mask/7_Ave_S_163.jpg is a low contrast image\n",
            "  \n",
            "WARNING:root:Lossy conversion from float64 to uint8. Range [0, 1]. Convert image to uint8 prior to saving to suppress this warning.\n"
          ],
          "name": "stderr"
        },
        {
          "output_type": "stream",
          "text": [
            "image name::   South_St_611.jpg\n",
            "image name::   2nd_Ave_103.jpg\n",
            "image name::   7_Ave_S_317.jpg\n",
            "image name::   7_Ave_S_163.jpg\n",
            "image name::   South_St_891.jpg\n"
          ],
          "name": "stdout"
        },
        {
          "output_type": "stream",
          "text": [
            "WARNING:root:Lossy conversion from float64 to uint8. Range [0, 1]. Convert image to uint8 prior to saving to suppress this warning.\n",
            "WARNING:root:Lossy conversion from float64 to uint8. Range [0, 1]. Convert image to uint8 prior to saving to suppress this warning.\n",
            "WARNING:root:Lossy conversion from float64 to uint8. Range [0, 1]. Convert image to uint8 prior to saving to suppress this warning.\n",
            "WARNING:root:Lossy conversion from float64 to uint8. Range [0, 1]. Convert image to uint8 prior to saving to suppress this warning.\n",
            "/usr/local/lib/python3.6/dist-packages/ipykernel_launcher.py:6: UserWarning: /content/drive/My Drive/5_corridors_train_val_data/train-20200530T092227Z-001/mask/Queens_Blvd_4.jpg is a low contrast image\n",
            "  \n",
            "WARNING:root:Lossy conversion from float64 to uint8. Range [0, 1]. Convert image to uint8 prior to saving to suppress this warning.\n"
          ],
          "name": "stderr"
        },
        {
          "output_type": "stream",
          "text": [
            "image name::   South_St_128.jpg\n",
            "image name::   South_St_375.jpg\n",
            "image name::   2nd_Ave_365.jpg\n",
            "image name::   Queens_Blvd_4.jpg\n"
          ],
          "name": "stdout"
        },
        {
          "output_type": "stream",
          "text": [
            "WARNING:root:Lossy conversion from float64 to uint8. Range [0, 1]. Convert image to uint8 prior to saving to suppress this warning.\n",
            "WARNING:root:Lossy conversion from float64 to uint8. Range [0, 1]. Convert image to uint8 prior to saving to suppress this warning.\n",
            "WARNING:root:Lossy conversion from float64 to uint8. Range [0, 1]. Convert image to uint8 prior to saving to suppress this warning.\n"
          ],
          "name": "stderr"
        },
        {
          "output_type": "stream",
          "text": [
            "image name::   2nd_Ave_41.jpg\n",
            "image name::   7_Ave_S_120.jpg\n",
            "image name::   7_Ave_S_266.jpg\n"
          ],
          "name": "stdout"
        },
        {
          "output_type": "stream",
          "text": [
            "/usr/local/lib/python3.6/dist-packages/ipykernel_launcher.py:6: UserWarning: /content/drive/My Drive/5_corridors_train_val_data/train-20200530T092227Z-001/mask/Queens_Blvd_116.jpg is a low contrast image\n",
            "  \n",
            "WARNING:root:Lossy conversion from float64 to uint8. Range [0, 1]. Convert image to uint8 prior to saving to suppress this warning.\n",
            "/usr/local/lib/python3.6/dist-packages/ipykernel_launcher.py:6: UserWarning: /content/drive/My Drive/5_corridors_train_val_data/train-20200530T092227Z-001/mask/2nd_Ave_58.jpg is a low contrast image\n",
            "  \n",
            "WARNING:root:Lossy conversion from float64 to uint8. Range [0, 1]. Convert image to uint8 prior to saving to suppress this warning.\n",
            "/usr/local/lib/python3.6/dist-packages/ipykernel_launcher.py:6: UserWarning: /content/drive/My Drive/5_corridors_train_val_data/train-20200530T092227Z-001/mask/Yellowstone_Blvd_121.jpg is a low contrast image\n",
            "  \n",
            "WARNING:root:Lossy conversion from float64 to uint8. Range [0, 1]. Convert image to uint8 prior to saving to suppress this warning.\n",
            "/usr/local/lib/python3.6/dist-packages/ipykernel_launcher.py:6: UserWarning: /content/drive/My Drive/5_corridors_train_val_data/train-20200530T092227Z-001/mask/7_Ave_S_348.jpg is a low contrast image\n",
            "  \n",
            "WARNING:root:Lossy conversion from float64 to uint8. Range [0, 1]. Convert image to uint8 prior to saving to suppress this warning.\n",
            "/usr/local/lib/python3.6/dist-packages/ipykernel_launcher.py:6: UserWarning: /content/drive/My Drive/5_corridors_train_val_data/train-20200530T092227Z-001/mask/2nd_Ave_385.jpg is a low contrast image\n",
            "  \n",
            "WARNING:root:Lossy conversion from float64 to uint8. Range [0, 1]. Convert image to uint8 prior to saving to suppress this warning.\n"
          ],
          "name": "stderr"
        },
        {
          "output_type": "stream",
          "text": [
            "image name::   Queens_Blvd_116.jpg\n",
            "image name::   2nd_Ave_58.jpg\n",
            "image name::   Yellowstone_Blvd_121.jpg\n",
            "image name::   7_Ave_S_348.jpg\n",
            "image name::   2nd_Ave_385.jpg\n"
          ],
          "name": "stdout"
        },
        {
          "output_type": "stream",
          "text": [
            "WARNING:root:Lossy conversion from float64 to uint8. Range [0, 1]. Convert image to uint8 prior to saving to suppress this warning.\n",
            "WARNING:root:Lossy conversion from float64 to uint8. Range [0, 1]. Convert image to uint8 prior to saving to suppress this warning.\n",
            "WARNING:root:Lossy conversion from float64 to uint8. Range [0, 1]. Convert image to uint8 prior to saving to suppress this warning.\n"
          ],
          "name": "stderr"
        },
        {
          "output_type": "stream",
          "text": [
            "image name::   Yellowstone_Blvd_122.jpg\n",
            "image name::   43rd_Skillman_112.jpg\n",
            "image name::   2_Ave_67.jpg\n",
            "image name::   South_St_612.jpg\n"
          ],
          "name": "stdout"
        },
        {
          "output_type": "stream",
          "text": [
            "WARNING:root:Lossy conversion from float64 to uint8. Range [0, 1]. Convert image to uint8 prior to saving to suppress this warning.\n",
            "WARNING:root:Lossy conversion from float64 to uint8. Range [0, 1]. Convert image to uint8 prior to saving to suppress this warning.\n",
            "WARNING:root:Lossy conversion from float64 to uint8. Range [0, 1]. Convert image to uint8 prior to saving to suppress this warning.\n",
            "WARNING:root:Lossy conversion from float64 to uint8. Range [0, 1]. Convert image to uint8 prior to saving to suppress this warning.\n",
            "WARNING:root:Lossy conversion from float64 to uint8. Range [0, 1]. Convert image to uint8 prior to saving to suppress this warning.\n"
          ],
          "name": "stderr"
        },
        {
          "output_type": "stream",
          "text": [
            "image name::   E_Tremont_177.jpg\n",
            "image name::   7_Ave_S_323.jpg\n",
            "image name::   46_Ave_54.jpg\n",
            "image name::   7_Ave_S_340.jpg\n"
          ],
          "name": "stdout"
        },
        {
          "output_type": "stream",
          "text": [
            "WARNING:root:Lossy conversion from float64 to uint8. Range [0, 1]. Convert image to uint8 prior to saving to suppress this warning.\n",
            "WARNING:root:Lossy conversion from float64 to uint8. Range [0, 1]. Convert image to uint8 prior to saving to suppress this warning.\n",
            "WARNING:root:Lossy conversion from float64 to uint8. Range [0, 1]. Convert image to uint8 prior to saving to suppress this warning.\n",
            "WARNING:root:Lossy conversion from float64 to uint8. Range [0, 1]. Convert image to uint8 prior to saving to suppress this warning.\n"
          ],
          "name": "stderr"
        },
        {
          "output_type": "stream",
          "text": [
            "image name::   Queens_Blvd_59.jpg\n",
            "image name::   South_St_624.jpg\n",
            "image name::   Yellowstone_Blvd_146.jpg\n",
            "image name::   2nd_Ave_146.jpg\n"
          ],
          "name": "stdout"
        },
        {
          "output_type": "stream",
          "text": [
            "WARNING:root:Lossy conversion from float64 to uint8. Range [0, 1]. Convert image to uint8 prior to saving to suppress this warning.\n",
            "WARNING:root:Lossy conversion from float64 to uint8. Range [0, 1]. Convert image to uint8 prior to saving to suppress this warning.\n",
            "/usr/local/lib/python3.6/dist-packages/ipykernel_launcher.py:6: UserWarning: /content/drive/My Drive/5_corridors_train_val_data/train-20200530T092227Z-001/mask/Queens_Blvd_152.jpg is a low contrast image\n",
            "  \n",
            "WARNING:root:Lossy conversion from float64 to uint8. Range [0, 1]. Convert image to uint8 prior to saving to suppress this warning.\n"
          ],
          "name": "stderr"
        },
        {
          "output_type": "stream",
          "text": [
            "image name::   South_St_590.jpg\n",
            "image name::   7_Ave_S_200.jpg\n",
            "image name::   Queens_Blvd_152.jpg\n"
          ],
          "name": "stdout"
        },
        {
          "output_type": "stream",
          "text": [
            "/usr/local/lib/python3.6/dist-packages/ipykernel_launcher.py:6: UserWarning: /content/drive/My Drive/5_corridors_train_val_data/train-20200530T092227Z-001/mask/7_Ave_S_244.jpg is a low contrast image\n",
            "  \n",
            "WARNING:root:Lossy conversion from float64 to uint8. Range [0, 1]. Convert image to uint8 prior to saving to suppress this warning.\n",
            "WARNING:root:Lossy conversion from float64 to uint8. Range [0, 1]. Convert image to uint8 prior to saving to suppress this warning.\n",
            "/usr/local/lib/python3.6/dist-packages/ipykernel_launcher.py:6: UserWarning: /content/drive/My Drive/5_corridors_train_val_data/train-20200530T092227Z-001/mask/7_Ave_S_199.jpg is a low contrast image\n",
            "  \n",
            "WARNING:root:Lossy conversion from float64 to uint8. Range [0, 1]. Convert image to uint8 prior to saving to suppress this warning.\n",
            "WARNING:root:Lossy conversion from float64 to uint8. Range [0, 1]. Convert image to uint8 prior to saving to suppress this warning.\n"
          ],
          "name": "stderr"
        },
        {
          "output_type": "stream",
          "text": [
            "image name::   7_Ave_S_244.jpg\n",
            "image name::   7_Ave_S_228.jpg\n",
            "image name::   7_Ave_S_199.jpg\n",
            "image name::   7_Ave_S_341.jpg\n"
          ],
          "name": "stdout"
        },
        {
          "output_type": "stream",
          "text": [
            "/usr/local/lib/python3.6/dist-packages/ipykernel_launcher.py:6: UserWarning: /content/drive/My Drive/5_corridors_train_val_data/train-20200530T092227Z-001/mask/Yellowstone_Blvd_141.jpg is a low contrast image\n",
            "  \n",
            "WARNING:root:Lossy conversion from float64 to uint8. Range [0, 1]. Convert image to uint8 prior to saving to suppress this warning.\n",
            "/usr/local/lib/python3.6/dist-packages/ipykernel_launcher.py:6: UserWarning: /content/drive/My Drive/5_corridors_train_val_data/train-20200530T092227Z-001/mask/46_Ave_91.jpg is a low contrast image\n",
            "  \n",
            "WARNING:root:Lossy conversion from float64 to uint8. Range [0, 1]. Convert image to uint8 prior to saving to suppress this warning.\n",
            "WARNING:root:Lossy conversion from float64 to uint8. Range [0, 1]. Convert image to uint8 prior to saving to suppress this warning.\n",
            "/usr/local/lib/python3.6/dist-packages/ipykernel_launcher.py:6: UserWarning: /content/drive/My Drive/5_corridors_train_val_data/train-20200530T092227Z-001/mask/Queens_Blvd_88.jpg is a low contrast image\n",
            "  \n",
            "WARNING:root:Lossy conversion from float64 to uint8. Range [0, 1]. Convert image to uint8 prior to saving to suppress this warning.\n"
          ],
          "name": "stderr"
        },
        {
          "output_type": "stream",
          "text": [
            "image name::   Yellowstone_Blvd_141.jpg\n",
            "image name::   46_Ave_91.jpg\n",
            "image name::   7_Ave_S_79.jpg\n",
            "image name::   Queens_Blvd_88.jpg\n",
            "image name::   South_St_946.jpg\n"
          ],
          "name": "stdout"
        },
        {
          "output_type": "stream",
          "text": [
            "WARNING:root:Lossy conversion from float64 to uint8. Range [0, 1]. Convert image to uint8 prior to saving to suppress this warning.\n",
            "/usr/local/lib/python3.6/dist-packages/ipykernel_launcher.py:6: UserWarning: /content/drive/My Drive/5_corridors_train_val_data/train-20200530T092227Z-001/mask/Yellowstone_Blvd_235.jpg is a low contrast image\n",
            "  \n",
            "WARNING:root:Lossy conversion from float64 to uint8. Range [0, 1]. Convert image to uint8 prior to saving to suppress this warning.\n",
            "WARNING:root:Lossy conversion from float64 to uint8. Range [0, 1]. Convert image to uint8 prior to saving to suppress this warning.\n",
            "/usr/local/lib/python3.6/dist-packages/ipykernel_launcher.py:6: UserWarning: /content/drive/My Drive/5_corridors_train_val_data/train-20200530T092227Z-001/mask/2nd_Ave_400.jpg is a low contrast image\n",
            "  \n",
            "WARNING:root:Lossy conversion from float64 to uint8. Range [0, 1]. Convert image to uint8 prior to saving to suppress this warning.\n",
            "WARNING:root:Lossy conversion from float64 to uint8. Range [0, 1]. Convert image to uint8 prior to saving to suppress this warning.\n"
          ],
          "name": "stderr"
        },
        {
          "output_type": "stream",
          "text": [
            "image name::   Yellowstone_Blvd_235.jpg\n",
            "image name::   South_St_229.jpg\n",
            "image name::   2nd_Ave_400.jpg\n",
            "image name::   Yellowstone_Blvd_278.jpg\n"
          ],
          "name": "stdout"
        },
        {
          "output_type": "stream",
          "text": [
            "/usr/local/lib/python3.6/dist-packages/ipykernel_launcher.py:6: UserWarning: /content/drive/My Drive/5_corridors_train_val_data/train-20200530T092227Z-001/mask/Queens_Blvd_24.jpg is a low contrast image\n",
            "  \n",
            "WARNING:root:Lossy conversion from float64 to uint8. Range [0, 1]. Convert image to uint8 prior to saving to suppress this warning.\n",
            "/usr/local/lib/python3.6/dist-packages/ipykernel_launcher.py:6: UserWarning: /content/drive/My Drive/5_corridors_train_val_data/train-20200530T092227Z-001/mask/43rd_Skillman_99.jpg is a low contrast image\n",
            "  \n",
            "WARNING:root:Lossy conversion from float64 to uint8. Range [0, 1]. Convert image to uint8 prior to saving to suppress this warning.\n",
            "WARNING:root:Lossy conversion from float64 to uint8. Range [0, 1]. Convert image to uint8 prior to saving to suppress this warning.\n"
          ],
          "name": "stderr"
        },
        {
          "output_type": "stream",
          "text": [
            "image name::   Queens_Blvd_24.jpg\n",
            "image name::   43rd_Skillman_99.jpg\n",
            "image name::   2nd_Ave_143.jpg\n"
          ],
          "name": "stdout"
        },
        {
          "output_type": "stream",
          "text": [
            "WARNING:root:Lossy conversion from float64 to uint8. Range [0, 1]. Convert image to uint8 prior to saving to suppress this warning.\n",
            "WARNING:root:Lossy conversion from float64 to uint8. Range [0, 1]. Convert image to uint8 prior to saving to suppress this warning.\n",
            "WARNING:root:Lossy conversion from float64 to uint8. Range [0, 1]. Convert image to uint8 prior to saving to suppress this warning.\n",
            "WARNING:root:Lossy conversion from float64 to uint8. Range [0, 1]. Convert image to uint8 prior to saving to suppress this warning.\n"
          ],
          "name": "stderr"
        },
        {
          "output_type": "stream",
          "text": [
            "image name::   South_St_581.jpg\n",
            "image name::   7_Ave_S_260.jpg\n",
            "image name::   South_St_207.jpg\n",
            "image name::   2nd_Ave_145.jpg\n"
          ],
          "name": "stdout"
        },
        {
          "output_type": "stream",
          "text": [
            "WARNING:root:Lossy conversion from float64 to uint8. Range [0, 1]. Convert image to uint8 prior to saving to suppress this warning.\n",
            "/usr/local/lib/python3.6/dist-packages/ipykernel_launcher.py:6: UserWarning: /content/drive/My Drive/5_corridors_train_val_data/train-20200530T092227Z-001/mask/7_Ave_S_139.jpg is a low contrast image\n",
            "  \n",
            "WARNING:root:Lossy conversion from float64 to uint8. Range [0, 1]. Convert image to uint8 prior to saving to suppress this warning.\n",
            "WARNING:root:Lossy conversion from float64 to uint8. Range [0, 1]. Convert image to uint8 prior to saving to suppress this warning.\n"
          ],
          "name": "stderr"
        },
        {
          "output_type": "stream",
          "text": [
            "image name::   South_St_564.jpg\n",
            "image name::   7_Ave_S_139.jpg\n",
            "image name::   7_Ave_S_410.jpg\n",
            "image name::   7_Ave_S_194.jpg\n"
          ],
          "name": "stdout"
        },
        {
          "output_type": "stream",
          "text": [
            "WARNING:root:Lossy conversion from float64 to uint8. Range [0, 1]. Convert image to uint8 prior to saving to suppress this warning.\n",
            "WARNING:root:Lossy conversion from float64 to uint8. Range [0, 1]. Convert image to uint8 prior to saving to suppress this warning.\n",
            "/usr/local/lib/python3.6/dist-packages/ipykernel_launcher.py:6: UserWarning: /content/drive/My Drive/5_corridors_train_val_data/train-20200530T092227Z-001/mask/Yellowstone_Blvd_220.jpg is a low contrast image\n",
            "  \n",
            "WARNING:root:Lossy conversion from float64 to uint8. Range [0, 1]. Convert image to uint8 prior to saving to suppress this warning.\n",
            "/usr/local/lib/python3.6/dist-packages/ipykernel_launcher.py:6: UserWarning: /content/drive/My Drive/5_corridors_train_val_data/train-20200530T092227Z-001/mask/7_Ave_S_70.jpg is a low contrast image\n",
            "  \n",
            "WARNING:root:Lossy conversion from float64 to uint8. Range [0, 1]. Convert image to uint8 prior to saving to suppress this warning.\n",
            "WARNING:root:Lossy conversion from float64 to uint8. Range [0, 1]. Convert image to uint8 prior to saving to suppress this warning.\n"
          ],
          "name": "stderr"
        },
        {
          "output_type": "stream",
          "text": [
            "image name::   Queens_Blvd_215.jpg\n",
            "image name::   Yellowstone_Blvd_220.jpg\n",
            "image name::   7_Ave_S_70.jpg\n",
            "image name::   7_Ave_S_349.jpg\n",
            "image name::   E_Tremont_78.jpg\n"
          ],
          "name": "stdout"
        },
        {
          "output_type": "stream",
          "text": [
            "WARNING:root:Lossy conversion from float64 to uint8. Range [0, 1]. Convert image to uint8 prior to saving to suppress this warning.\n",
            "WARNING:root:Lossy conversion from float64 to uint8. Range [0, 1]. Convert image to uint8 prior to saving to suppress this warning.\n",
            "WARNING:root:Lossy conversion from float64 to uint8. Range [0, 1]. Convert image to uint8 prior to saving to suppress this warning.\n",
            "WARNING:root:Lossy conversion from float64 to uint8. Range [0, 1]. Convert image to uint8 prior to saving to suppress this warning.\n",
            "WARNING:root:Lossy conversion from float64 to uint8. Range [0, 1]. Convert image to uint8 prior to saving to suppress this warning.\n"
          ],
          "name": "stderr"
        },
        {
          "output_type": "stream",
          "text": [
            "image name::   7_Ave_S_20.jpg\n",
            "image name::   2nd_Ave_308.jpg\n",
            "image name::   2nd_Ave_44.jpg\n",
            "image name::   South_St_144.jpg\n"
          ],
          "name": "stdout"
        },
        {
          "output_type": "stream",
          "text": [
            "WARNING:root:Lossy conversion from float64 to uint8. Range [0, 1]. Convert image to uint8 prior to saving to suppress this warning.\n",
            "WARNING:root:Lossy conversion from float64 to uint8. Range [0, 1]. Convert image to uint8 prior to saving to suppress this warning.\n",
            "WARNING:root:Lossy conversion from float64 to uint8. Range [0, 1]. Convert image to uint8 prior to saving to suppress this warning.\n"
          ],
          "name": "stderr"
        },
        {
          "output_type": "stream",
          "text": [
            "image name::   7_Ave_S_159.jpg\n",
            "image name::   7_Ave_S_165.jpg\n",
            "image name::   7_Ave_S_179.jpg\n"
          ],
          "name": "stdout"
        }
      ]
    },
    {
      "cell_type": "markdown",
      "metadata": {
        "id": "ASRigZi51r3l",
        "colab_type": "text"
      },
      "source": [
        "some other stuff"
      ]
    },
    {
      "cell_type": "code",
      "metadata": {
        "id": "OWy0QELnLvQz",
        "colab_type": "code",
        "colab": {
          "base_uri": "https://localhost:8080/",
          "height": 87
        },
        "outputId": "27a54206-dd4a-4543-c1d5-467315e72b85"
      },
      "source": [
        "import cv2\n",
        " \n",
        "# read image\n",
        "img = cv2.imread('/content/drive/My Drive/5_corridors_train_val_data/train/Riverside_Drive_178.jpg', cv2.IMREAD_UNCHANGED)\n",
        " \n",
        "# get dimensions of image\n",
        "dimensions = img.shape\n",
        " \n",
        "# height, width, number of channels in image\n",
        "height = img.shape[0]\n",
        "width = img.shape[1]\n",
        "channels = img.shape[2]\n",
        " \n",
        "print('Image Dimension    : ',dimensions)\n",
        "print('Image Height       : ',height)\n",
        "print('Image Width        : ',width)\n",
        "print('Number of Channels : ',channels)"
      ],
      "execution_count": null,
      "outputs": [
        {
          "output_type": "stream",
          "text": [
            "Image Dimension    :  (590, 1042, 3)\n",
            "Image Height       :  590\n",
            "Image Width        :  1042\n",
            "Number of Channels :  3\n"
          ],
          "name": "stdout"
        }
      ]
    },
    {
      "cell_type": "code",
      "metadata": {
        "id": "zx2HTHG4FiBn",
        "colab_type": "code",
        "colab": {}
      },
      "source": [
        "import cv2\n",
        " \n",
        "# read image\n",
        "img = cv2.imread('/content/drive/My Drive/5_corridors_train_val_data/train/2nd_Ave_51.jpg', cv2.IMREAD_UNCHANGED)\n",
        " \n",
        "# get dimensions of image\n",
        "dimensions = img.shape\n",
        " \n",
        "# height, width, number of channels in image\n",
        "height = img.shape[0]\n",
        "width = img.shape[1]\n",
        "channels = img.shape[2]\n",
        " \n",
        "print('Image Dimension    : ',dimensions)\n",
        "print('Image Height       : ',height)\n",
        "print('Image Width        : ',width)\n",
        "print('Number of Channels : ',channels)"
      ],
      "execution_count": null,
      "outputs": []
    },
    {
      "cell_type": "code",
      "metadata": {
        "id": "KSMZUZQwRwFd",
        "colab_type": "code",
        "colab": {}
      },
      "source": [
        ""
      ],
      "execution_count": null,
      "outputs": []
    }
  ]
}