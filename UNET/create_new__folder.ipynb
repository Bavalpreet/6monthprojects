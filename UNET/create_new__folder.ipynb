{
  "nbformat": 4,
  "nbformat_minor": 0,
  "metadata": {
    "colab": {
      "name": "create_new _folder.ipynb",
      "provenance": [],
      "toc_visible": true
    },
    "kernelspec": {
      "name": "python3",
      "display_name": "Python 3"
    }
  },
  "cells": [
    {
      "cell_type": "code",
      "metadata": {
        "id": "M661UMqdRNxl",
        "colab_type": "code",
        "colab": {
          "base_uri": "https://localhost:8080/",
          "height": 126
        },
        "outputId": "6ec895ae-1c34-4db4-9834-a7c7c5ea7a66"
      },
      "source": [
        "from google.colab import drive\n",
        "drive.mount('/content/gdrive')"
      ],
      "execution_count": null,
      "outputs": [
        {
          "output_type": "stream",
          "text": [
            "Go to this URL in a browser: https://accounts.google.com/o/oauth2/auth?client_id=947318989803-6bn6qk8qdgf4n4g3pfee6491hc0brc4i.apps.googleusercontent.com&redirect_uri=urn%3aietf%3awg%3aoauth%3a2.0%3aoob&response_type=code&scope=email%20https%3a%2f%2fwww.googleapis.com%2fauth%2fdocs.test%20https%3a%2f%2fwww.googleapis.com%2fauth%2fdrive%20https%3a%2f%2fwww.googleapis.com%2fauth%2fdrive.photos.readonly%20https%3a%2f%2fwww.googleapis.com%2fauth%2fpeopleapi.readonly\n",
            "\n",
            "Enter your authorization code:\n",
            "··········\n",
            "Mounted at /content/gdrive\n"
          ],
          "name": "stdout"
        }
      ]
    },
    {
      "cell_type": "code",
      "metadata": {
        "id": "vYQkW8kFTHO2",
        "colab_type": "code",
        "colab": {}
      },
      "source": [
        "# mypath = ...\n",
        "# if not os.path.isdir(mypath):\n",
        "  #  os.makedirs(mypath)"
      ],
      "execution_count": null,
      "outputs": []
    },
    {
      "cell_type": "code",
      "metadata": {
        "id": "E8mkbaC_aE-r",
        "colab_type": "code",
        "colab": {}
      },
      "source": [
        "import os"
      ],
      "execution_count": null,
      "outputs": []
    },
    {
      "cell_type": "code",
      "metadata": {
        "id": "n_e-6yYHTlvb",
        "colab_type": "code",
        "colab": {}
      },
      "source": [
        "for root,dirs,filenames in os.walk('/content/drive/My Drive/5_corridors_train_val_data/train-20200530T092227Z-001/train_mask'):\n",
        "  for filename in filenames:\n",
        "    os.makedirs('/content/drive/My Drive/5_corridors_train_val_data/train-20200530T092227Z-001/unet_input/'+filename[:-4])\n"
      ],
      "execution_count": null,
      "outputs": []
    },
    {
      "cell_type": "code",
      "metadata": {
        "id": "6XCNAuNGbeb8",
        "colab_type": "code",
        "colab": {}
      },
      "source": [
        "import os\n",
        "for root,dirs,filenames in os.walk('/content/drive/My Drive/5_corridors_train_val_data/train-20200530T092227Z-001/unet_input'):\n",
        "  os.makedirs(root+'/images')\n",
        "  os.makedirs(root+'/masks')"
      ],
      "execution_count": null,
      "outputs": []
    },
    {
      "cell_type": "markdown",
      "metadata": {
        "id": "Uj7pI-YUI3Wx",
        "colab_type": "text"
      },
      "source": [
        "# Creating aug folder"
      ]
    },
    {
      "cell_type": "code",
      "metadata": {
        "id": "E1IQRp8GI2ac",
        "colab_type": "code",
        "colab": {}
      },
      "source": [
        "import os\n",
        "for root,dirs,filenames in os.walk('/content/drive/My Drive/5_corridors_train_val_data/train-20200530T092227Z-001/unet_input'):\n",
        "  os.makedirs(root+'/aug')"
      ],
      "execution_count": null,
      "outputs": []
    },
    {
      "cell_type": "code",
      "metadata": {
        "id": "5Gnqh2BQbbHc",
        "colab_type": "code",
        "colab": {
          "base_uri": "https://localhost:8080/",
          "height": 235
        },
        "outputId": "42d9c59a-6cb2-4409-84c4-ce2dfd54f834"
      },
      "source": [
        "# import os\n",
        "# for root,dirs,filenames in os.walk('/content/drive/My Drive/testing2'):\n",
        "#   print(root)\n",
        "#   if (dirs != '/content/drive/My Drive/testing2/2nd_Ave_72/images'):\n",
        "#     os.makedirs('/content/drive/My Drive/testing2'+'/masks')"
      ],
      "execution_count": null,
      "outputs": [
        {
          "output_type": "stream",
          "text": [
            "/content/drive/My Drive/testing2\n",
            "/content/drive/My Drive/testing2/2nd_Ave_72\n",
            "/content/drive/My Drive/testing2/2nd_Ave_72/images\n",
            "/content/drive/My Drive/testing2/2nd_Ave_71\n",
            "/content/drive/My Drive/testing2/2nd_Ave_71/images\n",
            "/content/drive/My Drive/testing2/2nd_Ave_75\n",
            "/content/drive/My Drive/testing2/2nd_Ave_75/images\n",
            "/content/drive/My Drive/testing2/2nd_Ave_73\n",
            "/content/drive/My Drive/testing2/2nd_Ave_73/images\n",
            "/content/drive/My Drive/testing2/2nd_Ave_74\n",
            "/content/drive/My Drive/testing2/2nd_Ave_74/images\n",
            "/content/drive/My Drive/testing2/images\n",
            "/content/drive/My Drive/testing2/masks\n"
          ],
          "name": "stdout"
        }
      ]
    },
    {
      "cell_type": "markdown",
      "metadata": {
        "id": "jIydRbrMFNcq",
        "colab_type": "text"
      },
      "source": [
        "**copying images from one dir to another**"
      ]
    },
    {
      "cell_type": "code",
      "metadata": {
        "id": "_qFQgdSPeDY0",
        "colab_type": "code",
        "colab": {}
      },
      "source": [
        "# import shutil \n",
        "# import os\n",
        "# for root,dirs,filenames in os.walk('/content/gdrive/My Drive/5_corridors_train_val_data/train_crosswalk/'):\n",
        "#   print(root)\n",
        "#   for filename in filenames:\n",
        "#     print(filename)\n",
        "#     # os.makedirs('/content/drive/My Drive/testing2/'+filename[:-4])\n",
        "#     src_dir = root\n",
        "#     dst_dir = \"/content/gdrive/My Drive/5_corridors_train_val_data/train_crosswalk_/\"+filename[:-4] +\"/images/\"+filename\n",
        "#     shutil.copy(filename, dst_dir)"
      ],
      "execution_count": null,
      "outputs": []
    },
    {
      "cell_type": "code",
      "metadata": {
        "id": "VOt94QxwFW-G",
        "colab_type": "code",
        "colab": {}
      },
      "source": [
        "# import glob\n",
        "# import shutil\n",
        "# import os\n",
        "\n",
        "# src_dir = \"/content/drive/My Drive/5_corridors_train_val_data/train_crosswalk/\"\n",
        "# dst_dir = \"/content/gdrive/My Drive/5_corridors_train_val_data/train_crosswalk_/\"+filename[:-4] +\"/images\"\n",
        "# for jpgfile in glob.iglob(os.path.join(src_dir, \"*.jpg\")):\n",
        "#     shutil.copy(jpgfile, dst_dir)"
      ],
      "execution_count": null,
      "outputs": []
    },
    {
      "cell_type": "markdown",
      "metadata": {
        "id": "B-i3FUVUm1ky",
        "colab_type": "text"
      },
      "source": [
        "## **For filtering out those files whose masks are created from train images**"
      ]
    },
    {
      "cell_type": "code",
      "metadata": {
        "id": "g8fyjubWFFQh",
        "colab_type": "code",
        "colab": {}
      },
      "source": [
        "l1 = []\n",
        "for root,dirs,filenames in os.walk('/content/drive/My Drive/5_corridors_train_val_data/train-20200530T092227Z-001/train_mask/'):\n",
        "  for filename in filenames:\n",
        "    l1.append(filename)"
      ],
      "execution_count": null,
      "outputs": []
    },
    {
      "cell_type": "code",
      "metadata": {
        "id": "aB7skthslDBx",
        "colab_type": "code",
        "colab": {
          "base_uri": "https://localhost:8080/",
          "height": 35
        },
        "outputId": "eaf70f7b-b9f4-4295-f488-d51a74e5bee4"
      },
      "source": [
        "len(l1)"
      ],
      "execution_count": null,
      "outputs": [
        {
          "output_type": "execute_result",
          "data": {
            "text/plain": [
              "847"
            ]
          },
          "metadata": {
            "tags": []
          },
          "execution_count": 27
        }
      ]
    },
    {
      "cell_type": "code",
      "metadata": {
        "id": "RZevs_JaBsfw",
        "colab_type": "code",
        "colab": {
          "base_uri": "https://localhost:8080/",
          "height": 106
        },
        "outputId": "43a3ffb4-2291-46d5-9e74-173321f2875b"
      },
      "source": [
        "l1[:5]"
      ],
      "execution_count": null,
      "outputs": [
        {
          "output_type": "execute_result",
          "data": {
            "text/plain": [
              "['7_Ave_S_139.jpg',\n",
              " '7_Ave_S_260.jpg',\n",
              " 'South_St_229.jpg',\n",
              " '7_Ave_S_179.jpg',\n",
              " '7_Ave_S_159.jpg']"
            ]
          },
          "metadata": {
            "tags": []
          },
          "execution_count": 28
        }
      ]
    },
    {
      "cell_type": "code",
      "metadata": {
        "id": "f0wiBbtpkQzE",
        "colab_type": "code",
        "colab": {
          "base_uri": "https://localhost:8080/",
          "height": 35
        },
        "outputId": "c36a4735-81a8-4e1e-803d-9a77e6f83823"
      },
      "source": [
        "import glob\n",
        "import shutil\n",
        "counter = 0\n",
        "for subpath in l1:\n",
        "  for root,dirs,filenames in os.walk('/content/drive/My Drive/5_corridors_train_val_data/train-20200530T092227Z-001/train'):\n",
        "    shutil.copy('/content/drive/My Drive/5_corridors_train_val_data/train-20200530T092227Z-001/train/'+subpath,'/content/drive/My Drive/5_corridors_train_val_data/train-20200530T092227Z-001/train_images_accto_mask/'+subpath)\n",
        "    counter += 1\n",
        "print(counter)    "
      ],
      "execution_count": null,
      "outputs": [
        {
          "output_type": "stream",
          "text": [
            "847\n"
          ],
          "name": "stdout"
        }
      ]
    },
    {
      "cell_type": "markdown",
      "metadata": {
        "id": "wWJDY9WxFGDn",
        "colab_type": "text"
      },
      "source": [
        "**Working code for sending data to the folder**"
      ]
    },
    {
      "cell_type": "code",
      "metadata": {
        "id": "V6SqSvz5GRRu",
        "colab_type": "code",
        "colab": {}
      },
      "source": [
        "#masks\n",
        "import glob\n",
        "import shutil\n",
        "import os\n",
        "\n",
        "for root,dirs,filenames in os.walk('/content/drive/My Drive/5_corridors_train_val_data/train-20200530T092227Z-001/train_mask/'):\n",
        "  for filename in filenames:\n",
        "    src_dir = root+filename\n",
        "    dst_dir = '/content/drive/My Drive/5_corridors_train_val_data/train-20200530T092227Z-001/unet_input/'+filename[:-4]+'/masks/'+filename\n",
        "    shutil.copy(src_dir,dst_dir)\n",
        "  break"
      ],
      "execution_count": null,
      "outputs": []
    },
    {
      "cell_type": "code",
      "metadata": {
        "id": "HvfQWhrNFC0X",
        "colab_type": "code",
        "colab": {}
      },
      "source": [
        "#images\n",
        "import glob\n",
        "import shutil\n",
        "import os\n",
        "\n",
        "for root,dirs,filenames in os.walk('/content/drive/My Drive/5_corridors_train_val_data/train-20200530T092227Z-001/train_images_accto_mask/'):\n",
        "  for filename in filenames:\n",
        "    src_dir = root+filename\n",
        "    dst_dir = '/content/drive/My Drive/5_corridors_train_val_data/train-20200530T092227Z-001/unet_input/'+filename[:-4]+'/images/'+filename\n",
        "    shutil.copy(src_dir,dst_dir)\n",
        "  break"
      ],
      "execution_count": null,
      "outputs": []
    },
    {
      "cell_type": "code",
      "metadata": {
        "id": "8dD-g2wGQNlL",
        "colab_type": "code",
        "colab": {}
      },
      "source": [
        ""
      ],
      "execution_count": null,
      "outputs": []
    }
  ]
}